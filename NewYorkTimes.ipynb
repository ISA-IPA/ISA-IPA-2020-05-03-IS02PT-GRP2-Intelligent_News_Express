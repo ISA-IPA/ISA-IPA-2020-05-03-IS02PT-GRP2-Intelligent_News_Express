{
 "cells": [
  {
   "cell_type": "code",
   "execution_count": 2,
   "metadata": {},
   "outputs": [],
   "source": [
    "from pyteaser import Summarize, SummarizeUrl\n",
    "from pprint import pprint\n",
    "import pandas as pd\n",
    "import numpy as np\n",
    "import tagui as t\n",
    "import urllib\n",
    "import sqlite3\n",
    "from sqlite3 import Error\n",
    "from datetime import datetime"
   ]
  },
  {
   "cell_type": "code",
   "execution_count": 3,
   "metadata": {},
   "outputs": [
    {
     "name": "stdout",
     "output_type": "stream",
     "text": [
      "DB Connection setup\n"
     ]
    }
   ],
   "source": [
    "def create_connection(db_file):\n",
    "    \"\"\" create a database connection to a SQLite database \"\"\"\n",
    "    conn = None\n",
    "    try:\n",
    "        conn = sqlite3.connect(db_file)\n",
    "        print(\"DB Connection setup\")\n",
    "    except Error as e:\n",
    "        print(e)\n",
    "    finally:\n",
    "        if conn:\n",
    "            return conn\n",
    "        else:\n",
    "            print(\"DB Connection failed\")\n",
    "\n",
    "\n",
    "if __name__ == '__main__':\n",
    "    conn = create_connection(\"./db/news.db\")"
   ]
  },
  {
   "cell_type": "code",
   "execution_count": 4,
   "metadata": {},
   "outputs": [],
   "source": [
    "def getSiteByName(name):\n",
    "    cur = conn.cursor()\n",
    "    cur.execute(\"SELECT * FROM site where name=?\",(name,))\n",
    "    rows = cur.fetchall()\n",
    "    return rows"
   ]
  },
  {
   "cell_type": "code",
   "execution_count": 5,
   "metadata": {},
   "outputs": [],
   "source": [
    "site = getSiteByName(\"New York Times\")\n",
    "site_url = site[0][2]\n",
    "site_id = site[0][0]"
   ]
  },
  {
   "cell_type": "code",
   "execution_count": 6,
   "metadata": {},
   "outputs": [
    {
     "name": "stdout",
     "output_type": "stream",
     "text": [
      "[RPA][ERROR] - cannot find //div[@class=\"container footer-main\"]\n"
     ]
    },
    {
     "data": {
      "text/plain": [
       "True"
      ]
     },
     "execution_count": 6,
     "metadata": {},
     "output_type": "execute_result"
    }
   ],
   "source": [
    "t.init(visual_automation = True, chrome_browser = True)\n",
    "t.url(site_url)"
   ]
  },
  {
   "cell_type": "code",
   "execution_count": 7,
   "metadata": {},
   "outputs": [],
   "source": [
    "number_to = t.count('(//div[@class=\"col\"]/div[contains(@class, \"today\")]/ul/li[contains(@class, \"col-md-12\")])')"
   ]
  },
  {
   "cell_type": "code",
   "execution_count": 18,
   "metadata": {},
   "outputs": [
    {
     "name": "stderr",
     "output_type": "stream",
     "text": [
      "c:\\users\\superhell\\.conda\\envs\\ca1\\lib\\site-packages\\ipykernel_launcher.py:10: SettingWithCopyWarning: \n",
      "A value is trying to be set on a copy of a slice from a DataFrame\n",
      "\n",
      "See the caveats in the documentation: http://pandas.pydata.org/pandas-docs/stable/indexing.html#indexing-view-versus-copy\n",
      "  # Remove the CWD from sys.path while we load stuff.\n"
     ]
    }
   ],
   "source": [
    "def remove_str(summm_l, SS):\n",
    "    summm = ''.join(summm_l)\n",
    "    summm = summm.encode('utf-8').decode('utf-8', 'ignore')\n",
    "    if SS in summm:\n",
    "        summm = summm.replace(SS, '')\n",
    "    \n",
    "    return summm\n",
    "\n",
    "for i in range(0, df.shape[0]):\n",
    "    df['Summary'][i] = remove_str(df['Summary'][i], \"u'\")"
   ]
  },
  {
   "cell_type": "code",
   "execution_count": 19,
   "metadata": {},
   "outputs": [
    {
     "data": {
      "text/html": [
       "<div>\n",
       "<style scoped>\n",
       "    .dataframe tbody tr th:only-of-type {\n",
       "        vertical-align: middle;\n",
       "    }\n",
       "\n",
       "    .dataframe tbody tr th {\n",
       "        vertical-align: top;\n",
       "    }\n",
       "\n",
       "    .dataframe thead th {\n",
       "        text-align: right;\n",
       "    }\n",
       "</style>\n",
       "<table border=\"1\" class=\"dataframe\">\n",
       "  <thead>\n",
       "    <tr style=\"text-align: right;\">\n",
       "      <th></th>\n",
       "      <th>Sno</th>\n",
       "      <th>Title</th>\n",
       "      <th>URL</th>\n",
       "      <th>Summary</th>\n",
       "      <th>Img_URL</th>\n",
       "    </tr>\n",
       "  </thead>\n",
       "  <tbody>\n",
       "    <tr>\n",
       "      <th>0</th>\n",
       "      <td>0</td>\n",
       "      <td>Trump Moves to Replace Watchdog Who Identified...</td>\n",
       "      <td>https://www.nytimes.com/2020/05/01/us/politics...</td>\n",
       "      <td>This is a difficult question, because a lot de...</td>\n",
       "      <td>https://static01.nyt.com/images/2020/05/01/mul...</td>\n",
       "    </tr>\n",
       "    <tr>\n",
       "      <th>1</th>\n",
       "      <td>1</td>\n",
       "      <td>What Is ‘Covid Toe’? Maybe a Strange Sign of C...</td>\n",
       "      <td>https://www.nytimes.com/2020/05/01/health/coro...</td>\n",
       "      <td>Over the past few weeks, she has seen dozens.\\...</td>\n",
       "      <td>https://static01.nyt.com/images/2020/04/30/sci...</td>\n",
       "    </tr>\n",
       "    <tr>\n",
       "      <th>2</th>\n",
       "      <td>2</td>\n",
       "      <td>Virus Deaths in New York Increase Slightly, Cu...</td>\n",
       "      <td>https://www.nytimes.com/2020/05/02/nyregion/co...</td>\n",
       "      <td>“We are trying to understand why that is,” he ...</td>\n",
       "      <td>https://static01.nyt.com/images/2020/05/02/nyr...</td>\n",
       "    </tr>\n",
       "    <tr>\n",
       "      <th>3</th>\n",
       "      <td>3</td>\n",
       "      <td>Investigate Tara Reade’s Allegations</td>\n",
       "      <td>https://www.nytimes.com/2020/05/01/opinion/bid...</td>\n",
       "      <td>Biden said that if such a document existed, th...</td>\n",
       "      <td>https://static01.nyt.com/images/2020/05/02/opi...</td>\n",
       "    </tr>\n",
       "    <tr>\n",
       "      <th>4</th>\n",
       "      <td>4</td>\n",
       "      <td>Coronavirus Live Updates: States Rely on Resid...</td>\n",
       "      <td>https://www.nytimes.com/2020/05/02/us/coronavi...</td>\n",
       "      <td>In places still under lockdown, the weekend is...</td>\n",
       "      <td>https://static01.nyt.com/images/2020/05/02/us/...</td>\n",
       "    </tr>\n",
       "    <tr>\n",
       "      <th>5</th>\n",
       "      <td>5</td>\n",
       "      <td>The New Great Depression Is Coming. Will There...</td>\n",
       "      <td>https://www.nytimes.com/2020/05/02/opinion/sun...</td>\n",
       "      <td>The New Great Depression Is Coming.Will There ...</td>\n",
       "      <td>https://static01.nyt.com/images/2020/05/02/opi...</td>\n",
       "    </tr>\n",
       "    <tr>\n",
       "      <th>6</th>\n",
       "      <td>6</td>\n",
       "      <td>What the Proponents of ‘Natural’ Herd Immunity...</td>\n",
       "      <td>https://www.nytimes.com/2020/05/01/opinion/cor...</td>\n",
       "      <td>Some countries are attempting strategies inten...</td>\n",
       "      <td>https://static01.nyt.com/images/2020/05/03/opi...</td>\n",
       "    </tr>\n",
       "    <tr>\n",
       "      <th>7</th>\n",
       "      <td>7</td>\n",
       "      <td>Olympic Gymnast Recalls Emotional Abuse ‘So Tw...</td>\n",
       "      <td>https://www.nytimes.com/2020/05/01/sports/magg...</td>\n",
       "      <td>Coach Maggie Haney, left, watching Laurie Hern...</td>\n",
       "      <td>https://static01.nyt.com/images/2020/05/02/spo...</td>\n",
       "    </tr>\n",
       "    <tr>\n",
       "      <th>8</th>\n",
       "      <td>8</td>\n",
       "      <td>Migrants Are Rounded Up in Malaysia and Face S...</td>\n",
       "      <td>https://www.nytimes.com/2020/05/02/world/coron...</td>\n",
       "      <td>The companies insist they are not profiteering...</td>\n",
       "      <td>https://static01.nyt.com/images/2020/05/02/wor...</td>\n",
       "    </tr>\n",
       "    <tr>\n",
       "      <th>9</th>\n",
       "      <td>9</td>\n",
       "      <td>My Retirement Plan Is You</td>\n",
       "      <td>https://www.nytimes.com/2020/05/02/business/Pa...</td>\n",
       "      <td>Browsing a Salvation Army store.Ms.Danigelis w...</td>\n",
       "      <td>https://static01.nyt.com/images/2020/04/30/bus...</td>\n",
       "    </tr>\n",
       "    <tr>\n",
       "      <th>10</th>\n",
       "      <td>10</td>\n",
       "      <td>Fearing Political Peril, Republicans Edge Away...</td>\n",
       "      <td>https://www.nytimes.com/2020/05/02/us/politics...</td>\n",
       "      <td>“It’s a tightrope,” he said of the challenge t...</td>\n",
       "      <td>https://static01.nyt.com/images/2020/04/30/us/...</td>\n",
       "    </tr>\n",
       "  </tbody>\n",
       "</table>\n",
       "</div>"
      ],
      "text/plain": [
       "    Sno                                              Title  \\\n",
       "0     0  Trump Moves to Replace Watchdog Who Identified...   \n",
       "1     1  What Is ‘Covid Toe’? Maybe a Strange Sign of C...   \n",
       "2     2  Virus Deaths in New York Increase Slightly, Cu...   \n",
       "3     3               Investigate Tara Reade’s Allegations   \n",
       "4     4  Coronavirus Live Updates: States Rely on Resid...   \n",
       "5     5  The New Great Depression Is Coming. Will There...   \n",
       "6     6  What the Proponents of ‘Natural’ Herd Immunity...   \n",
       "7     7  Olympic Gymnast Recalls Emotional Abuse ‘So Tw...   \n",
       "8     8  Migrants Are Rounded Up in Malaysia and Face S...   \n",
       "9     9                          My Retirement Plan Is You   \n",
       "10   10  Fearing Political Peril, Republicans Edge Away...   \n",
       "\n",
       "                                                  URL  \\\n",
       "0   https://www.nytimes.com/2020/05/01/us/politics...   \n",
       "1   https://www.nytimes.com/2020/05/01/health/coro...   \n",
       "2   https://www.nytimes.com/2020/05/02/nyregion/co...   \n",
       "3   https://www.nytimes.com/2020/05/01/opinion/bid...   \n",
       "4   https://www.nytimes.com/2020/05/02/us/coronavi...   \n",
       "5   https://www.nytimes.com/2020/05/02/opinion/sun...   \n",
       "6   https://www.nytimes.com/2020/05/01/opinion/cor...   \n",
       "7   https://www.nytimes.com/2020/05/01/sports/magg...   \n",
       "8   https://www.nytimes.com/2020/05/02/world/coron...   \n",
       "9   https://www.nytimes.com/2020/05/02/business/Pa...   \n",
       "10  https://www.nytimes.com/2020/05/02/us/politics...   \n",
       "\n",
       "                                              Summary  \\\n",
       "0   This is a difficult question, because a lot de...   \n",
       "1   Over the past few weeks, she has seen dozens.\\...   \n",
       "2   “We are trying to understand why that is,” he ...   \n",
       "3   Biden said that if such a document existed, th...   \n",
       "4   In places still under lockdown, the weekend is...   \n",
       "5   The New Great Depression Is Coming.Will There ...   \n",
       "6   Some countries are attempting strategies inten...   \n",
       "7   Coach Maggie Haney, left, watching Laurie Hern...   \n",
       "8   The companies insist they are not profiteering...   \n",
       "9   Browsing a Salvation Army store.Ms.Danigelis w...   \n",
       "10  “It’s a tightrope,” he said of the challenge t...   \n",
       "\n",
       "                                              Img_URL  \n",
       "0   https://static01.nyt.com/images/2020/05/01/mul...  \n",
       "1   https://static01.nyt.com/images/2020/04/30/sci...  \n",
       "2   https://static01.nyt.com/images/2020/05/02/nyr...  \n",
       "3   https://static01.nyt.com/images/2020/05/02/opi...  \n",
       "4   https://static01.nyt.com/images/2020/05/02/us/...  \n",
       "5   https://static01.nyt.com/images/2020/05/02/opi...  \n",
       "6   https://static01.nyt.com/images/2020/05/03/opi...  \n",
       "7   https://static01.nyt.com/images/2020/05/02/spo...  \n",
       "8   https://static01.nyt.com/images/2020/05/02/wor...  \n",
       "9   https://static01.nyt.com/images/2020/04/30/bus...  \n",
       "10  https://static01.nyt.com/images/2020/04/30/us/...  "
      ]
     },
     "execution_count": 19,
     "metadata": {},
     "output_type": "execute_result"
    }
   ],
   "source": [
    "df"
   ]
  },
  {
   "cell_type": "code",
   "execution_count": 20,
   "metadata": {},
   "outputs": [
    {
     "data": {
      "text/plain": [
       "True"
      ]
     },
     "execution_count": 20,
     "metadata": {},
     "output_type": "execute_result"
    }
   ],
   "source": [
    "t.close()"
   ]
  },
  {
   "cell_type": "code",
   "execution_count": 21,
   "metadata": {},
   "outputs": [],
   "source": [
    "def insertNews(conn,news):    \n",
    "    sql = ''' INSERT INTO news(site_id,create_date,title,url,summary,img_url,latest)\n",
    "              VALUES(?,?,?,?,?,?,1) '''\n",
    "    cur = conn.cursor()\n",
    "    cur.execute(sql, news)\n",
    "    return cur.lastrowid\n",
    "\n",
    "def markNews(conn, site_id):\n",
    "    cur = conn.cursor()\n",
    "    cur.execute(\"UPDATE news set latest=0 where latest=1 and site_id=? \",(site_id,))"
   ]
  },
  {
   "cell_type": "code",
   "execution_count": 24,
   "metadata": {},
   "outputs": [
    {
     "name": "stdout",
     "output_type": "stream",
     "text": [
      "News 162 has been created\n",
      "News 163 has been created\n",
      "News 164 has been created\n",
      "News 165 has been created\n",
      "News 166 has been created\n",
      "News 167 has been created\n",
      "News 168 has been created\n",
      "News 169 has been created\n",
      "News 170 has been created\n",
      "News 171 has been created\n",
      "News 172 has been created\n"
     ]
    }
   ],
   "source": [
    "now = datetime.now()\n",
    "# dd/mm/YY\n",
    "dt_string = now.strftime(\"%d/%m/%Y\")\n",
    "markNews(conn, site_id)\n",
    "for index, row in df.iterrows():\n",
    "    title = row['Title'].decode('utf-8')\n",
    "    url = row['URL']\n",
    "    summary = row['Summary']\n",
    "    img_url = row['Img_URL']\n",
    "    news = (site_id,dt_string,title,url,summary,img_url)\n",
    "    news_id = insertNews(conn,news)\n",
    "    print(\"News %d has been created\" % news_id)\n",
    "    \n",
    "conn.commit()"
   ]
  },
  {
   "cell_type": "code",
   "execution_count": 11,
   "metadata": {},
   "outputs": [],
   "source": [
    "conn.close()"
   ]
  },
  {
   "cell_type": "code",
   "execution_count": null,
   "metadata": {},
   "outputs": [],
   "source": []
  }
 ],
 "metadata": {
  "kernelspec": {
   "display_name": "Python 2",
   "language": "python",
   "name": "python2"
  },
  "language_info": {
   "codemirror_mode": {
    "name": "ipython",
    "version": 2
   },
   "file_extension": ".py",
   "mimetype": "text/x-python",
   "name": "python",
   "nbconvert_exporter": "python",
   "pygments_lexer": "ipython2",
   "version": "2.7.17"
  }
 },
 "nbformat": 4,
 "nbformat_minor": 2
}
