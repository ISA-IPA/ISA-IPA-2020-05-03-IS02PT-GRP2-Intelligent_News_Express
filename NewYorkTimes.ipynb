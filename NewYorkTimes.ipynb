{
 "cells": [
  {
   "cell_type": "code",
   "execution_count": 1,
   "metadata": {},
   "outputs": [],
   "source": [
    "from pyteaser import Summarize, SummarizeUrl\n",
    "from pprint import pprint\n",
    "import pandas as pd\n",
    "import numpy as np\n",
    "import tagui as t\n",
    "import urllib\n",
    "import sqlite3\n",
    "from sqlite3 import Error\n",
    "from datetime import datetime"
   ]
  },
  {
   "cell_type": "code",
   "execution_count": 2,
   "metadata": {},
   "outputs": [
    {
     "name": "stdout",
     "output_type": "stream",
     "text": [
      "DB Connection setup\n"
     ]
    }
   ],
   "source": [
    "def create_connection(db_file):\n",
    "    \"\"\" create a database connection to a SQLite database \"\"\"\n",
    "    conn = None\n",
    "    try:\n",
    "        conn = sqlite3.connect(db_file)\n",
    "        print(\"DB Connection setup\")\n",
    "    except Error as e:\n",
    "        print(e)\n",
    "    finally:\n",
    "        if conn:\n",
    "            return conn\n",
    "        else:\n",
    "            print(\"DB Connection failed\")\n",
    "\n",
    "\n",
    "if __name__ == '__main__':\n",
    "    conn = create_connection(\"./db/news.db\")"
   ]
  },
  {
   "cell_type": "code",
   "execution_count": 3,
   "metadata": {},
   "outputs": [],
   "source": [
    "def getSiteByName(name):\n",
    "    cur = conn.cursor()\n",
    "    cur.execute(\"SELECT * FROM site where name=?\",(name,))\n",
    "    rows = cur.fetchall()\n",
    "    return rows"
   ]
  },
  {
   "cell_type": "code",
   "execution_count": 4,
   "metadata": {},
   "outputs": [],
   "source": [
    "site = getSiteByName(\"New York Times\")\n",
    "site_url = site[0][2]\n",
    "site_id = site[0][0]"
   ]
  },
  {
   "cell_type": "code",
   "execution_count": 5,
   "metadata": {},
   "outputs": [
    {
     "data": {
      "text/plain": [
       "True"
      ]
     },
     "execution_count": 5,
     "metadata": {},
     "output_type": "execute_result"
    }
   ],
   "source": [
    "t.init(visual_automation = True, chrome_browser = True)\n",
    "t.url(site_url)"
   ]
  },
  {
   "cell_type": "code",
   "execution_count": 6,
   "metadata": {},
   "outputs": [
    {
     "name": "stderr",
     "output_type": "stream",
     "text": [
      "c:\\users\\superhell\\.conda\\envs\\ca1\\lib\\site-packages\\BeautifulSoup.py:114: UserWarning: You are using a very old release of Beautiful Soup, last updated in 2011. If you installed the 'beautifulsoup' package through pip, you should know the 'beautifulsoup' package name is about to be reclaimed by a more recent version of Beautiful Soup which is incompatible with this version.\n",
      "\n",
      "This will happen at some point after January 1, 2021.\n",
      "\n",
      "If you just started this project, this is easy to fix. Install the 'beautifulsoup4' package instead of 'beautifulsoup' and start using Beautiful Soup 4.\n",
      "\n",
      "If this is an existing project that depends on Beautiful Soup 3, the project maintainer (potentially you) needs to start the process of migrating to Beautiful Soup 4. This should be a relatively easy part of the Python 3 migration.\n",
      "\n",
      "  \"\"\")\n"
     ]
    },
    {
     "name": "stdout",
     "output_type": "stream",
     "text": [
      "IOError\n"
     ]
    }
   ],
   "source": [
    "number = t.count('(//li[contains(@class, \"css-1iski2w\")]/a)')\n",
    "df = pd.DataFrame(index=range(0,number), columns = ['Sno', 'Title', 'URL', 'Summary','Img_URL'])\n",
    "\n",
    "for n in range(1, number+1):\n",
    "    title=t.read('//li[contains(@class, \"css-1iski2w\")][{}]/a/div'.format(n))\n",
    "    URL=t.read('//li[contains(@class, \"css-1iski2w\")][{}]//@href'.format(n))\n",
    "    Img_link=t.read('//li[contains(@class, \"css-1iski2w\")][{}]//img/@src'.format(n))\n",
    "    summaries = SummarizeUrl(URL)\n",
    "\n",
    "    urllib.urlretrieve(Img_link, \"images/1_{}.jpg\".format(n))\n",
    "    df.iloc[n-1, 0] = n\n",
    "    df.iloc[n-1, 1] = title\n",
    "    df.iloc[n-1, 2] = URL\n",
    "    df.iloc[n-1, 3] = summaries\n",
    "    df.iloc[n-1, 4] = Img_link\n",
    "\n",
    "df['Summary'].replace('None', np.nan, inplace=True)\n",
    "df.dropna(subset=['Summary'], inplace=True, how='any')\n",
    "df= df.reset_index(drop=True)\n",
    "df['Sno'] = df.index"
   ]
  },
  {
   "cell_type": "code",
   "execution_count": 7,
   "metadata": {},
   "outputs": [
    {
     "data": {
      "text/html": [
       "<div>\n",
       "<style scoped>\n",
       "    .dataframe tbody tr th:only-of-type {\n",
       "        vertical-align: middle;\n",
       "    }\n",
       "\n",
       "    .dataframe tbody tr th {\n",
       "        vertical-align: top;\n",
       "    }\n",
       "\n",
       "    .dataframe thead th {\n",
       "        text-align: right;\n",
       "    }\n",
       "</style>\n",
       "<table border=\"1\" class=\"dataframe\">\n",
       "  <thead>\n",
       "    <tr style=\"text-align: right;\">\n",
       "      <th></th>\n",
       "      <th>Sno</th>\n",
       "      <th>Title</th>\n",
       "      <th>URL</th>\n",
       "      <th>Summary</th>\n",
       "      <th>Img_URL</th>\n",
       "    </tr>\n",
       "  </thead>\n",
       "  <tbody>\n",
       "    <tr>\n",
       "      <th>0</th>\n",
       "      <td>1</td>\n",
       "      <td>Trump Moves to Replace Watchdog Who Identified...</td>\n",
       "      <td>https://www.nytimes.com/2020/05/01/us/politics...</td>\n",
       "      <td>[This is a difficult question, because a lot d...</td>\n",
       "      <td>https://static01.nyt.com/images/2020/05/01/mul...</td>\n",
       "    </tr>\n",
       "    <tr>\n",
       "      <th>1</th>\n",
       "      <td>2</td>\n",
       "      <td>Coronavirus in the U.S.: Latest Map and Case C...</td>\n",
       "      <td>https://www.nytimes.com/interactive/2020/us/co...</td>\n",
       "      <td>None</td>\n",
       "      <td>https://static01.nyt.com/images/2020/03/03/us/...</td>\n",
       "    </tr>\n",
       "    <tr>\n",
       "      <th>2</th>\n",
       "      <td>3</td>\n",
       "      <td>Tracking the ‘Murder Hornet’: A Deadly Pest Ha...</td>\n",
       "      <td>https://www.nytimes.com/2020/05/02/us/asian-gi...</td>\n",
       "      <td>[BLAINE, Wash. — In his decades of beekeeping,...</td>\n",
       "      <td>https://static01.nyt.com/images/2020/05/01/us/...</td>\n",
       "    </tr>\n",
       "    <tr>\n",
       "      <th>3</th>\n",
       "      <td>4</td>\n",
       "      <td>Coronavirus Live Updates: States Rely on Resid...</td>\n",
       "      <td>https://www.nytimes.com/2020/05/02/us/coronavi...</td>\n",
       "      <td>[In places still under lockdown, the weekend i...</td>\n",
       "      <td>https://static01.nyt.com/images/2020/05/02/us/...</td>\n",
       "    </tr>\n",
       "    <tr>\n",
       "      <th>4</th>\n",
       "      <td>5</td>\n",
       "      <td>Coronavirus in N.Y.: Live Updates</td>\n",
       "      <td>https://www.nytimes.com/2020/05/02/nyregion/co...</td>\n",
       "      <td>[Gov., Philip D. Murphy of New Jersey reported...</td>\n",
       "      <td>https://static01.nyt.com/images/2020/05/02/nyr...</td>\n",
       "    </tr>\n",
       "    <tr>\n",
       "      <th>5</th>\n",
       "      <td>6</td>\n",
       "      <td>What the Proponents of ‘Natural’ Herd Immunity...</td>\n",
       "      <td>https://www.nytimes.com/2020/05/01/opinion/cor...</td>\n",
       "      <td>[Some countries are attempting strategies inte...</td>\n",
       "      <td>https://static01.nyt.com/images/2020/05/03/opi...</td>\n",
       "    </tr>\n",
       "    <tr>\n",
       "      <th>6</th>\n",
       "      <td>7</td>\n",
       "      <td>How Long Will a Vaccine Really Take?</td>\n",
       "      <td>https://www.nytimes.com/interactive/2020/04/30...</td>\n",
       "      <td>[We’ve never released a coronavirus vaccine fo...</td>\n",
       "      <td>https://static01.nyt.com/images/2020/04/29/us/...</td>\n",
       "    </tr>\n",
       "    <tr>\n",
       "      <th>7</th>\n",
       "      <td>8</td>\n",
       "      <td>Investigate Tara Reade’s Allegations</td>\n",
       "      <td>https://www.nytimes.com/2020/05/01/opinion/bid...</td>\n",
       "      <td>[Biden said that if such a document existed, t...</td>\n",
       "      <td>https://static01.nyt.com/images/2020/05/02/opi...</td>\n",
       "    </tr>\n",
       "    <tr>\n",
       "      <th>8</th>\n",
       "      <td>9</td>\n",
       "      <td>Fearing Political Peril, Republicans Edge Away...</td>\n",
       "      <td>https://www.nytimes.com/2020/05/02/us/politics...</td>\n",
       "      <td>[“It’s a tightrope,” he said of the challenge ...</td>\n",
       "      <td>https://static01.nyt.com/images/2020/04/30/us/...</td>\n",
       "    </tr>\n",
       "    <tr>\n",
       "      <th>9</th>\n",
       "      <td>10</td>\n",
       "      <td>Olympic Gymnast Recalls Emotional Abuse ‘So Tw...</td>\n",
       "      <td>https://www.nytimes.com/2020/05/01/sports/magg...</td>\n",
       "      <td>[Coach Maggie Haney, left, watching Laurie Her...</td>\n",
       "      <td>https://static01.nyt.com/images/2020/05/02/spo...</td>\n",
       "    </tr>\n",
       "    <tr>\n",
       "      <th>10</th>\n",
       "      <td>11</td>\n",
       "      <td>Kim Jong-un Resurfaces, State Media Says, Afte...</td>\n",
       "      <td>https://www.nytimes.com/2020/05/01/world/asia/...</td>\n",
       "      <td>[This is a difficult question, because a lot d...</td>\n",
       "      <td>https://static01.nyt.com/images/2020/05/01/wor...</td>\n",
       "    </tr>\n",
       "    <tr>\n",
       "      <th>11</th>\n",
       "      <td>12</td>\n",
       "      <td>The New Great Depression Is Coming. Will There...</td>\n",
       "      <td>https://www.nytimes.com/2020/05/02/opinion/sun...</td>\n",
       "      <td>[The New Great Depression Is Coming., Will The...</td>\n",
       "      <td>https://static01.nyt.com/images/2020/05/02/opi...</td>\n",
       "    </tr>\n",
       "  </tbody>\n",
       "</table>\n",
       "</div>"
      ],
      "text/plain": [
       "   Sno                                              Title  \\\n",
       "0    1  Trump Moves to Replace Watchdog Who Identified...   \n",
       "1    2  Coronavirus in the U.S.: Latest Map and Case C...   \n",
       "2    3  Tracking the ‘Murder Hornet’: A Deadly Pest Ha...   \n",
       "3    4  Coronavirus Live Updates: States Rely on Resid...   \n",
       "4    5                  Coronavirus in N.Y.: Live Updates   \n",
       "5    6  What the Proponents of ‘Natural’ Herd Immunity...   \n",
       "6    7               How Long Will a Vaccine Really Take?   \n",
       "7    8               Investigate Tara Reade’s Allegations   \n",
       "8    9  Fearing Political Peril, Republicans Edge Away...   \n",
       "9   10  Olympic Gymnast Recalls Emotional Abuse ‘So Tw...   \n",
       "10  11  Kim Jong-un Resurfaces, State Media Says, Afte...   \n",
       "11  12  The New Great Depression Is Coming. Will There...   \n",
       "\n",
       "                                                  URL  \\\n",
       "0   https://www.nytimes.com/2020/05/01/us/politics...   \n",
       "1   https://www.nytimes.com/interactive/2020/us/co...   \n",
       "2   https://www.nytimes.com/2020/05/02/us/asian-gi...   \n",
       "3   https://www.nytimes.com/2020/05/02/us/coronavi...   \n",
       "4   https://www.nytimes.com/2020/05/02/nyregion/co...   \n",
       "5   https://www.nytimes.com/2020/05/01/opinion/cor...   \n",
       "6   https://www.nytimes.com/interactive/2020/04/30...   \n",
       "7   https://www.nytimes.com/2020/05/01/opinion/bid...   \n",
       "8   https://www.nytimes.com/2020/05/02/us/politics...   \n",
       "9   https://www.nytimes.com/2020/05/01/sports/magg...   \n",
       "10  https://www.nytimes.com/2020/05/01/world/asia/...   \n",
       "11  https://www.nytimes.com/2020/05/02/opinion/sun...   \n",
       "\n",
       "                                              Summary  \\\n",
       "0   [This is a difficult question, because a lot d...   \n",
       "1                                                None   \n",
       "2   [BLAINE, Wash. — In his decades of beekeeping,...   \n",
       "3   [In places still under lockdown, the weekend i...   \n",
       "4   [Gov., Philip D. Murphy of New Jersey reported...   \n",
       "5   [Some countries are attempting strategies inte...   \n",
       "6   [We’ve never released a coronavirus vaccine fo...   \n",
       "7   [Biden said that if such a document existed, t...   \n",
       "8   [“It’s a tightrope,” he said of the challenge ...   \n",
       "9   [Coach Maggie Haney, left, watching Laurie Her...   \n",
       "10  [This is a difficult question, because a lot d...   \n",
       "11  [The New Great Depression Is Coming., Will The...   \n",
       "\n",
       "                                              Img_URL  \n",
       "0   https://static01.nyt.com/images/2020/05/01/mul...  \n",
       "1   https://static01.nyt.com/images/2020/03/03/us/...  \n",
       "2   https://static01.nyt.com/images/2020/05/01/us/...  \n",
       "3   https://static01.nyt.com/images/2020/05/02/us/...  \n",
       "4   https://static01.nyt.com/images/2020/05/02/nyr...  \n",
       "5   https://static01.nyt.com/images/2020/05/03/opi...  \n",
       "6   https://static01.nyt.com/images/2020/04/29/us/...  \n",
       "7   https://static01.nyt.com/images/2020/05/02/opi...  \n",
       "8   https://static01.nyt.com/images/2020/04/30/us/...  \n",
       "9   https://static01.nyt.com/images/2020/05/02/spo...  \n",
       "10  https://static01.nyt.com/images/2020/05/01/wor...  \n",
       "11  https://static01.nyt.com/images/2020/05/02/opi...  "
      ]
     },
     "execution_count": 7,
     "metadata": {},
     "output_type": "execute_result"
    }
   ],
   "source": [
    "df"
   ]
  },
  {
   "cell_type": "code",
   "execution_count": 8,
   "metadata": {},
   "outputs": [
    {
     "data": {
      "text/plain": [
       "True"
      ]
     },
     "execution_count": 8,
     "metadata": {},
     "output_type": "execute_result"
    }
   ],
   "source": [
    "t.close()"
   ]
  },
  {
   "cell_type": "code",
   "execution_count": 9,
   "metadata": {},
   "outputs": [],
   "source": [
    "def insertNews(conn,news):    \n",
    "    sql = ''' INSERT INTO news(site_id,create_date,title,url,summary,img_url,latest)\n",
    "              VALUES(?,?,?,?,?,?,1) '''\n",
    "    cur = conn.cursor()\n",
    "    cur.execute(sql, news)\n",
    "    return cur.lastrowid\n",
    "\n",
    "def markNews(conn, site_id):\n",
    "    cur = conn.cursor()\n",
    "    cur.execute(\"UPDATE news set latest=0 where latest=1 and site_id=? \",(site_id,))"
   ]
  },
  {
   "cell_type": "code",
   "execution_count": 10,
   "metadata": {},
   "outputs": [
    {
     "name": "stdout",
     "output_type": "stream",
     "text": [
      "News 64 has been created\n",
      "News 65 has been created\n",
      "News 66 has been created\n",
      "News 67 has been created\n",
      "News 68 has been created\n",
      "News 69 has been created\n",
      "News 70 has been created\n",
      "News 71 has been created\n",
      "News 72 has been created\n",
      "News 73 has been created\n",
      "News 74 has been created\n",
      "News 75 has been created\n"
     ]
    }
   ],
   "source": [
    "now = datetime.now()\n",
    "# dd/mm/YY\n",
    "dt_string = now.strftime(\"%d/%m/%Y\")\n",
    "markNews(conn, site_id)\n",
    "for index, row in df.iterrows():\n",
    "    title = row['Title'].decode('utf-8')\n",
    "    url = row['URL']\n",
    "    summary = str(row['Summary'])\n",
    "    img_url = row['Img_URL']\n",
    "    news = (site_id,dt_string,title,url,summary,img_url)\n",
    "    news_id = insertNews(conn,news)\n",
    "    print(\"News %d has been created\" % news_id)\n",
    "    \n",
    "conn.commit()"
   ]
  },
  {
   "cell_type": "code",
   "execution_count": 11,
   "metadata": {},
   "outputs": [],
   "source": [
    "conn.close()"
   ]
  },
  {
   "cell_type": "code",
   "execution_count": null,
   "metadata": {},
   "outputs": [],
   "source": []
  }
 ],
 "metadata": {
  "kernelspec": {
   "display_name": "Python 2",
   "language": "python",
   "name": "python2"
  },
  "language_info": {
   "codemirror_mode": {
    "name": "ipython",
    "version": 2
   },
   "file_extension": ".py",
   "mimetype": "text/x-python",
   "name": "python",
   "nbconvert_exporter": "python",
   "pygments_lexer": "ipython2",
   "version": "2.7.17"
  }
 },
 "nbformat": 4,
 "nbformat_minor": 2
}
