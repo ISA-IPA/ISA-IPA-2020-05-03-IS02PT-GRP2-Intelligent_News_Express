{
 "cells": [
  {
   "cell_type": "code",
   "execution_count": 1,
   "metadata": {},
   "outputs": [],
   "source": [
    "import sqlite3\n",
    "from sqlite3 import Error"
   ]
  },
  {
   "cell_type": "code",
   "execution_count": 25,
   "metadata": {},
   "outputs": [],
   "source": [
    "#Create site (?,site_name,base_url)\n",
    "def create_site(conn, site):\n",
    "    sql = ''' INSERT INTO site(name,base_url)\n",
    "              VALUES(?,?) '''\n",
    "    cur = conn.cursor()\n",
    "    cur.execute(sql, site)\n",
    "    return cur.lastrowid"
   ]
  },
  {
   "cell_type": "code",
   "execution_count": 27,
   "metadata": {},
   "outputs": [
    {
     "name": "stdout",
     "output_type": "stream",
     "text": [
      "site created\n"
     ]
    }
   ],
   "source": [
    "def create_connection(db_file):\n",
    "    \"\"\" create a database connection to a SQLite database \"\"\"\n",
    "    conn = None\n",
    "    try:\n",
    "        conn = sqlite3.connect(db_file)\n",
    "        with conn:\n",
    "            site_1 = ('New York Times','https://www.nytimes.com/trending/')\n",
    "            site_2 = ('BBC News','https://newsapi.org/v1/articles?source=bbc-news&sortBy=top&apiKey=4dbc17e007ab436fb66416009dfb59a8')\n",
    "            site_3 = ('StraitsTimes','https://www.straitstimes.com/')\n",
    "            site_4 = ('Today online','https://www.todayonline.com/singapore')\n",
    "            site_id_1 = create_site(conn,site_1)\n",
    "            site_id_2 = create_site(conn,site_2)\n",
    "            site_id_3 = create_site(conn,site_3)\n",
    "            site_id_4 = create_site(conn,site_4)\n",
    "            print(\"site created\")\n",
    "    except Error as e:\n",
    "        print(e)\n",
    "    finally:\n",
    "        if conn:\n",
    "            conn.close()\n",
    "\n",
    "\n",
    "if __name__ == '__main__':\n",
    "    create_connection(\"./db/news.db\")"
   ]
  },
  {
   "cell_type": "code",
   "execution_count": null,
   "metadata": {},
   "outputs": [],
   "source": []
  }
 ],
 "metadata": {
  "kernelspec": {
   "display_name": "Python 2",
   "language": "python",
   "name": "python2"
  },
  "language_info": {
   "codemirror_mode": {
    "name": "ipython",
    "version": 2
   },
   "file_extension": ".py",
   "mimetype": "text/x-python",
   "name": "python",
   "nbconvert_exporter": "python",
   "pygments_lexer": "ipython2",
   "version": "2.7.17"
  }
 },
 "nbformat": 4,
 "nbformat_minor": 2
}
