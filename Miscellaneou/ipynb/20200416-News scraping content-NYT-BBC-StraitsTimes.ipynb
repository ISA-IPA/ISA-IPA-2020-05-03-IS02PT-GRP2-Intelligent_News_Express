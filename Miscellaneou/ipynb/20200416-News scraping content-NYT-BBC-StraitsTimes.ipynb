{
 "cells": [
  {
   "cell_type": "markdown",
   "metadata": {},
   "source": [
    "# News scraping content and summarization\n",
    "\n",
    "### <span style=\"color:red\">Runs in python 2.7</span>"
   ]
  },
  {
   "cell_type": "markdown",
   "metadata": {},
   "source": [
    "## New York Times"
   ]
  },
  {
   "cell_type": "code",
   "execution_count": 1,
   "metadata": {},
   "outputs": [],
   "source": [
    "# !pip install pyteaser"
   ]
  },
  {
   "cell_type": "code",
   "execution_count": 2,
   "metadata": {},
   "outputs": [],
   "source": [
    "from pyteaser import Summarize, SummarizeUrl\n",
    "from pprint import pprint\n",
    "import pandas as pd\n"
   ]
  },
  {
   "cell_type": "code",
   "execution_count": 3,
   "metadata": {},
   "outputs": [],
   "source": [
    "import tagui as t"
   ]
  },
  {
   "cell_type": "code",
   "execution_count": 4,
   "metadata": {},
   "outputs": [],
   "source": [
    "#t.close()"
   ]
  },
  {
   "cell_type": "code",
   "execution_count": 5,
   "metadata": {},
   "outputs": [
    {
     "data": {
      "text/plain": [
       "True"
      ]
     },
     "execution_count": 5,
     "metadata": {},
     "output_type": "execute_result"
    }
   ],
   "source": [
    "t.init(visual_automation = True, chrome_browser = True)\n",
    "t.url('https://www.nytimes.com/trending/')"
   ]
  },
  {
   "cell_type": "code",
   "execution_count": 6,
   "metadata": {},
   "outputs": [
    {
     "data": {
      "text/plain": [
       "12"
      ]
     },
     "execution_count": 6,
     "metadata": {},
     "output_type": "execute_result"
    }
   ],
   "source": [
    "number = t.count('(//li[contains(@class, \"css-1iski2w\")]/a)')\n",
    "\n",
    "number"
   ]
  },
  {
   "cell_type": "code",
   "execution_count": 7,
   "metadata": {},
   "outputs": [
    {
     "name": "stderr",
     "output_type": "stream",
     "text": [
      "/Users/binbin/Documents/Vitual_Evn/py2.7/lib/python2.7/site-packages/BeautifulSoup.py:114: UserWarning: You are using a very old release of Beautiful Soup, last updated in 2011. If you installed the 'beautifulsoup' package through pip, you should know the 'beautifulsoup' package name is about to be reclaimed by a more recent version of Beautiful Soup which is incompatible with this version.\n",
      "\n",
      "This will happen at some point after January 1, 2021.\n",
      "\n",
      "If you just started this project, this is easy to fix. Install the 'beautifulsoup4' package instead of 'beautifulsoup' and start using Beautiful Soup 4.\n",
      "\n",
      "If this is an existing project that depends on Beautiful Soup 3, the project maintainer (potentially you) needs to start the process of migrating to Beautiful Soup 4. This should be a relatively easy part of the Python 3 migration.\n",
      "\n",
      "  \"\"\")\n"
     ]
    },
    {
     "name": "stdout",
     "output_type": "stream",
     "text": [
      "IOError\n",
      "IOError\n"
     ]
    },
    {
     "data": {
      "text/html": [
       "<div>\n",
       "<style scoped>\n",
       "    .dataframe tbody tr th:only-of-type {\n",
       "        vertical-align: middle;\n",
       "    }\n",
       "\n",
       "    .dataframe tbody tr th {\n",
       "        vertical-align: top;\n",
       "    }\n",
       "\n",
       "    .dataframe thead th {\n",
       "        text-align: right;\n",
       "    }\n",
       "</style>\n",
       "<table border=\"1\" class=\"dataframe\">\n",
       "  <thead>\n",
       "    <tr style=\"text-align: right;\">\n",
       "      <th></th>\n",
       "      <th>Sno</th>\n",
       "      <th>Title</th>\n",
       "      <th>URL</th>\n",
       "      <th>Summary</th>\n",
       "    </tr>\n",
       "  </thead>\n",
       "  <tbody>\n",
       "    <tr>\n",
       "      <th>0</th>\n",
       "      <td>1</td>\n",
       "      <td>Coronavirus in the U.S.: Latest Map and Case C...</td>\n",
       "      <td>https://www.nytimes.com/interactive/2020/us/co...</td>\n",
       "      <td>None</td>\n",
       "    </tr>\n",
       "    <tr>\n",
       "      <th>1</th>\n",
       "      <td>2</td>\n",
       "      <td>Coronavirus Live Updates: In 4 Weeks, 22 Milli...</td>\n",
       "      <td>https://www.nytimes.com/2020/04/16/us/coronavi...</td>\n",
       "      <td>[More than 5.2 million workers were added to t...</td>\n",
       "    </tr>\n",
       "    <tr>\n",
       "      <th>2</th>\n",
       "      <td>3</td>\n",
       "      <td>It’s the End of the World Economy as We Know It</td>\n",
       "      <td>https://www.nytimes.com/2020/04/16/upshot/worl...</td>\n",
       "      <td>[France’s finance minister directed French com...</td>\n",
       "    </tr>\n",
       "    <tr>\n",
       "      <th>3</th>\n",
       "      <td>4</td>\n",
       "      <td>More Than 5.2 Million U.S. Workers Filed for U...</td>\n",
       "      <td>https://www.nytimes.com/2020/04/16/business/st...</td>\n",
       "      <td>[The mounting unemployment numbers seem certai...</td>\n",
       "    </tr>\n",
       "    <tr>\n",
       "      <th>4</th>\n",
       "      <td>5</td>\n",
       "      <td>The Coronavirus Is Mutating. What Does That Me...</td>\n",
       "      <td>https://www.nytimes.com/interactive/2020/04/16...</td>\n",
       "      <td>[The vaccine targets those parts, so any mutat...</td>\n",
       "    </tr>\n",
       "    <tr>\n",
       "      <th>5</th>\n",
       "      <td>6</td>\n",
       "      <td>W.H.O., Now Trump’s Scapegoat, Warned About Co...</td>\n",
       "      <td>https://www.nytimes.com/2020/04/16/health/WHO-...</td>\n",
       "      <td>[Those early days of the epidemic illustrated ...</td>\n",
       "    </tr>\n",
       "    <tr>\n",
       "      <th>6</th>\n",
       "      <td>7</td>\n",
       "      <td>Xenophobia Rises in China as Coronavirus Fades...</td>\n",
       "      <td>https://www.nytimes.com/2020/04/16/world/coron...</td>\n",
       "      <td>[The emergency declaration will give the gover...</td>\n",
       "    </tr>\n",
       "    <tr>\n",
       "      <th>7</th>\n",
       "      <td>8</td>\n",
       "      <td>Coronavirus Map: Tracking the Global Outbreak</td>\n",
       "      <td>https://www.nytimes.com/interactive/2020/world...</td>\n",
       "      <td>None</td>\n",
       "    </tr>\n",
       "    <tr>\n",
       "      <th>8</th>\n",
       "      <td>9</td>\n",
       "      <td>Testing Falls Woefully Short as Trump Seeks an...</td>\n",
       "      <td>https://www.nytimes.com/2020/04/15/us/coronavi...</td>\n",
       "      <td>[ Andrew M. Cuomo of New York reiterated his c...</td>\n",
       "    </tr>\n",
       "    <tr>\n",
       "      <th>9</th>\n",
       "      <td>10</td>\n",
       "      <td>Trump’s Brain: A Guided Tour</td>\n",
       "      <td>https://www.nytimes.com/2020/04/16/opinion/tru...</td>\n",
       "      <td>[Human beings are hard-wired to follow the her...</td>\n",
       "    </tr>\n",
       "    <tr>\n",
       "      <th>10</th>\n",
       "      <td>11</td>\n",
       "      <td>Ivanka Trump, Disregarding Federal Guidelines,...</td>\n",
       "      <td>https://www.nytimes.com/2020/04/15/us/politics...</td>\n",
       "      <td>[Trump herself has not followed the federal gu...</td>\n",
       "    </tr>\n",
       "    <tr>\n",
       "      <th>11</th>\n",
       "      <td>12</td>\n",
       "      <td>N.Y.C. Mayor Proposes $2 Billion in Budget Cut...</td>\n",
       "      <td>https://www.nytimes.com/2020/04/16/nyregion/co...</td>\n",
       "      <td>[Mayor Bill de Blasio proposed a pared-down bu...</td>\n",
       "    </tr>\n",
       "  </tbody>\n",
       "</table>\n",
       "</div>"
      ],
      "text/plain": [
       "   Sno                                              Title  \\\n",
       "0    1  Coronavirus in the U.S.: Latest Map and Case C...   \n",
       "1    2  Coronavirus Live Updates: In 4 Weeks, 22 Milli...   \n",
       "2    3    It’s the End of the World Economy as We Know It   \n",
       "3    4  More Than 5.2 Million U.S. Workers Filed for U...   \n",
       "4    5  The Coronavirus Is Mutating. What Does That Me...   \n",
       "5    6  W.H.O., Now Trump’s Scapegoat, Warned About Co...   \n",
       "6    7  Xenophobia Rises in China as Coronavirus Fades...   \n",
       "7    8      Coronavirus Map: Tracking the Global Outbreak   \n",
       "8    9  Testing Falls Woefully Short as Trump Seeks an...   \n",
       "9   10                       Trump’s Brain: A Guided Tour   \n",
       "10  11  Ivanka Trump, Disregarding Federal Guidelines,...   \n",
       "11  12  N.Y.C. Mayor Proposes $2 Billion in Budget Cut...   \n",
       "\n",
       "                                                  URL  \\\n",
       "0   https://www.nytimes.com/interactive/2020/us/co...   \n",
       "1   https://www.nytimes.com/2020/04/16/us/coronavi...   \n",
       "2   https://www.nytimes.com/2020/04/16/upshot/worl...   \n",
       "3   https://www.nytimes.com/2020/04/16/business/st...   \n",
       "4   https://www.nytimes.com/interactive/2020/04/16...   \n",
       "5   https://www.nytimes.com/2020/04/16/health/WHO-...   \n",
       "6   https://www.nytimes.com/2020/04/16/world/coron...   \n",
       "7   https://www.nytimes.com/interactive/2020/world...   \n",
       "8   https://www.nytimes.com/2020/04/15/us/coronavi...   \n",
       "9   https://www.nytimes.com/2020/04/16/opinion/tru...   \n",
       "10  https://www.nytimes.com/2020/04/15/us/politics...   \n",
       "11  https://www.nytimes.com/2020/04/16/nyregion/co...   \n",
       "\n",
       "                                              Summary  \n",
       "0                                                None  \n",
       "1   [More than 5.2 million workers were added to t...  \n",
       "2   [France’s finance minister directed French com...  \n",
       "3   [The mounting unemployment numbers seem certai...  \n",
       "4   [The vaccine targets those parts, so any mutat...  \n",
       "5   [Those early days of the epidemic illustrated ...  \n",
       "6   [The emergency declaration will give the gover...  \n",
       "7                                                None  \n",
       "8   [ Andrew M. Cuomo of New York reiterated his c...  \n",
       "9   [Human beings are hard-wired to follow the her...  \n",
       "10  [Trump herself has not followed the federal gu...  \n",
       "11  [Mayor Bill de Blasio proposed a pared-down bu...  "
      ]
     },
     "execution_count": 7,
     "metadata": {},
     "output_type": "execute_result"
    }
   ],
   "source": [
    "df = pd.DataFrame(index=range(0,number), columns = ['Sno', 'Title', 'URL', 'Summary'])\n",
    "\n",
    "\n",
    "for n in range(1, number+1):\n",
    "    title=t.read('//li[contains(@class, \"css-1iski2w\")][{}]/a/div'.format(n))\n",
    "    URL=t.read('//li[contains(@class, \"css-1iski2w\")][{}]//@href'.format(n))\n",
    "    summaries = SummarizeUrl(URL)\n",
    "    \n",
    "    df.iloc[n-1, 0] = n\n",
    "    df.iloc[n-1, 1] = title\n",
    "    df.iloc[n-1, 2] = URL\n",
    "    df.iloc[n-1, 3] = summaries\n",
    "\n",
    "df"
   ]
  },
  {
   "cell_type": "markdown",
   "metadata": {},
   "source": [
    "### One example for summary"
   ]
  },
  {
   "cell_type": "code",
   "execution_count": 9,
   "metadata": {},
   "outputs": [
    {
     "name": "stdout",
     "output_type": "stream",
     "text": [
      "Title: More Than 5.2 Million U.S. Workers Filed for Unemployment: Live Updates\n",
      "\n",
      "Summary: [u'The mounting unemployment numbers seem certain to fuel the debate over how long to impose stay-at-home orders and restrictions on business activity.', u'Swonk said.', u'The latest figure from the Labor Department, reflecting last week\\u2019s initial unemployment claims, brings the four-week total to about 22 million, roughly the net number of jobs created in a nine-and-a-half-year stretch that began after the last recession and ended with the pandemic\\u2019s arrival.', u'Each day seems to bring unwelcome milestones.', u' President Trump has said some measures should be relaxed soon because of the impact on workers. \\u201cThere has to be a balance,\\u201d he said at a press briefing Wednesday evening. \\u201cWe have to get back to work.\\u201d']\n"
     ]
    }
   ],
   "source": [
    "print(\"Title: \"+str(df.iloc[3, 1])+\"\\n\")\n",
    "print(\"Summary: \"+str(df.iloc[3, 3]))"
   ]
  },
  {
   "cell_type": "code",
   "execution_count": 10,
   "metadata": {},
   "outputs": [],
   "source": [
    "df.to_csv(\"NYT_summary.csv\")"
   ]
  },
  {
   "cell_type": "markdown",
   "metadata": {},
   "source": [
    "## BBC News (from API)"
   ]
  },
  {
   "cell_type": "code",
   "execution_count": 17,
   "metadata": {},
   "outputs": [],
   "source": [
    "# BBC top news\n",
    "import requests     \n",
    " \n",
    "def NewsFromBBC():\n",
    "     \n",
    "    # BBC news api\n",
    "    main_url = \" https://newsapi.org/v1/articles?source=bbc-news&sortBy=top&apiKey=4dbc17e007ab436fb66416009dfb59a8\"\n",
    " \n",
    "    # fetching data in json format\n",
    "    open_bbc_page = requests.get(main_url).json()\n",
    " \n",
    "    # getting all articles in a string article\n",
    "    article = open_bbc_page[\"articles\"]\n",
    " \n",
    "    # empty list which will \n",
    "    # contain all trending news\n",
    "    results = []\n",
    "    url = []\n",
    "     \n",
    "    for ar in article:\n",
    "        results.append(ar[\"title\"])\n",
    "        url.append(ar[\"url\"])\n",
    "         \n",
    "        number_BBC = len(results)\n",
    "    \n",
    "    return results, url, number_BBC\n",
    " \n",
    "\n",
    "if __name__ == '__main__':\n",
    "     \n",
    "# function call\n",
    "\n",
    "    results, url, number_BBC = NewsFromBBC()\n",
    "    \n",
    "    df_BBC = pd.DataFrame(index=range(0,number_BBC-1), columns = ['Sno', 'Title', 'URL', 'Summary'])\n",
    "\n",
    "\n",
    "    for i in range(1, number_BBC):\n",
    "\n",
    "        summaries = SummarizeUrl(url[i])\n",
    "\n",
    "        df_BBC.iloc[i-1, 0] = i\n",
    "        df_BBC.iloc[i-1, 1] = results[i]\n",
    "        df_BBC.iloc[i-1, 2] = url[i]\n",
    "        df_BBC.iloc[i-1, 3] = summaries\n",
    "\n",
    "    df_BBC"
   ]
  },
  {
   "cell_type": "code",
   "execution_count": 18,
   "metadata": {},
   "outputs": [
    {
     "data": {
      "text/html": [
       "<div>\n",
       "<style scoped>\n",
       "    .dataframe tbody tr th:only-of-type {\n",
       "        vertical-align: middle;\n",
       "    }\n",
       "\n",
       "    .dataframe tbody tr th {\n",
       "        vertical-align: top;\n",
       "    }\n",
       "\n",
       "    .dataframe thead th {\n",
       "        text-align: right;\n",
       "    }\n",
       "</style>\n",
       "<table border=\"1\" class=\"dataframe\">\n",
       "  <thead>\n",
       "    <tr style=\"text-align: right;\">\n",
       "      <th></th>\n",
       "      <th>Sno</th>\n",
       "      <th>Title</th>\n",
       "      <th>URL</th>\n",
       "      <th>Summary</th>\n",
       "    </tr>\n",
       "  </thead>\n",
       "  <tbody>\n",
       "    <tr>\n",
       "      <th>0</th>\n",
       "      <td>1</td>\n",
       "      <td>Trump says virus has 'passed the peak' in US</td>\n",
       "      <td>http://www.bbc.co.uk/news/world-us-canada-5230...</td>\n",
       "      <td>[President Donald Trump says the US has \"passe...</td>\n",
       "    </tr>\n",
       "    <tr>\n",
       "      <th>1</th>\n",
       "      <td>2</td>\n",
       "      <td>How California kept ahead of the curve</td>\n",
       "      <td>http://www.bbc.co.uk/news/world-us-canada-5227...</td>\n",
       "      <td>[And in Los Angeles, Mayor Garcetti encouraged...</td>\n",
       "    </tr>\n",
       "    <tr>\n",
       "      <th>2</th>\n",
       "      <td>3</td>\n",
       "      <td>The unexpected items deemed 'essential'</td>\n",
       "      <td>http://www.bbc.co.uk/news/world-us-canada-5227...</td>\n",
       "      <td>[As entire countries shut down to prevent the ...</td>\n",
       "    </tr>\n",
       "    <tr>\n",
       "      <th>3</th>\n",
       "      <td>4</td>\n",
       "      <td>Veteran finishes NHS fundraiser as it tops £13m</td>\n",
       "      <td>http://www.bbc.co.uk/news/uk-england-beds-buck...</td>\n",
       "      <td>[\"It would be marvellous to have such an honou...</td>\n",
       "    </tr>\n",
       "    <tr>\n",
       "      <th>4</th>\n",
       "      <td>5</td>\n",
       "      <td>Biggest cosmic mystery 'step closer' to solution</td>\n",
       "      <td>http://www.bbc.co.uk/news/science-environment-...</td>\n",
       "      <td>[\"While CP violation involving quarks is exper...</td>\n",
       "    </tr>\n",
       "    <tr>\n",
       "      <th>5</th>\n",
       "      <td>6</td>\n",
       "      <td>Coronavirus hits decade of US jobs growth</td>\n",
       "      <td>http://www.bbc.co.uk/news/business-52312367</td>\n",
       "      <td>[While the 5.2 million new claims in the week ...</td>\n",
       "    </tr>\n",
       "    <tr>\n",
       "      <th>6</th>\n",
       "      <td>7</td>\n",
       "      <td>Trump says 'we'll see' about Wuhan lab claims</td>\n",
       "      <td>http://www.bbc.co.uk/news/world-us-canada-5230...</td>\n",
       "      <td>[President Donald Trump has said \"we'll see\" a...</td>\n",
       "    </tr>\n",
       "    <tr>\n",
       "      <th>7</th>\n",
       "      <td>8</td>\n",
       "      <td>Japan declares nationwide state of emergency</td>\n",
       "      <td>http://www.bbc.co.uk/news/world-asia-52313807</td>\n",
       "      <td>[Japan’s two emergency medical associations al...</td>\n",
       "    </tr>\n",
       "    <tr>\n",
       "      <th>8</th>\n",
       "      <td>9</td>\n",
       "      <td>EU offers 'heartfelt apology' to Italy over virus</td>\n",
       "      <td>http://www.bbc.co.uk/news/world-europe-52311263</td>\n",
       "      <td>[The EU Commission president has offered a \"he...</td>\n",
       "    </tr>\n",
       "  </tbody>\n",
       "</table>\n",
       "</div>"
      ],
      "text/plain": [
       "  Sno                                              Title  \\\n",
       "0   1       Trump says virus has 'passed the peak' in US   \n",
       "1   2             How California kept ahead of the curve   \n",
       "2   3            The unexpected items deemed 'essential'   \n",
       "3   4    Veteran finishes NHS fundraiser as it tops £13m   \n",
       "4   5   Biggest cosmic mystery 'step closer' to solution   \n",
       "5   6          Coronavirus hits decade of US jobs growth   \n",
       "6   7      Trump says 'we'll see' about Wuhan lab claims   \n",
       "7   8       Japan declares nationwide state of emergency   \n",
       "8   9  EU offers 'heartfelt apology' to Italy over virus   \n",
       "\n",
       "                                                 URL  \\\n",
       "0  http://www.bbc.co.uk/news/world-us-canada-5230...   \n",
       "1  http://www.bbc.co.uk/news/world-us-canada-5227...   \n",
       "2  http://www.bbc.co.uk/news/world-us-canada-5227...   \n",
       "3  http://www.bbc.co.uk/news/uk-england-beds-buck...   \n",
       "4  http://www.bbc.co.uk/news/science-environment-...   \n",
       "5        http://www.bbc.co.uk/news/business-52312367   \n",
       "6  http://www.bbc.co.uk/news/world-us-canada-5230...   \n",
       "7      http://www.bbc.co.uk/news/world-asia-52313807   \n",
       "8    http://www.bbc.co.uk/news/world-europe-52311263   \n",
       "\n",
       "                                             Summary  \n",
       "0  [President Donald Trump says the US has \"passe...  \n",
       "1  [And in Los Angeles, Mayor Garcetti encouraged...  \n",
       "2  [As entire countries shut down to prevent the ...  \n",
       "3  [\"It would be marvellous to have such an honou...  \n",
       "4  [\"While CP violation involving quarks is exper...  \n",
       "5  [While the 5.2 million new claims in the week ...  \n",
       "6  [President Donald Trump has said \"we'll see\" a...  \n",
       "7  [Japan’s two emergency medical associations al...  \n",
       "8  [The EU Commission president has offered a \"he...  "
      ]
     },
     "execution_count": 18,
     "metadata": {},
     "output_type": "execute_result"
    }
   ],
   "source": [
    "df_BBC"
   ]
  },
  {
   "cell_type": "code",
   "execution_count": 19,
   "metadata": {},
   "outputs": [],
   "source": [
    "df.to_csv(\"BBC_summary.csv\")"
   ]
  },
  {
   "cell_type": "code",
   "execution_count": null,
   "metadata": {},
   "outputs": [],
   "source": []
  },
  {
   "cell_type": "code",
   "execution_count": null,
   "metadata": {},
   "outputs": [],
   "source": []
  },
  {
   "cell_type": "markdown",
   "metadata": {},
   "source": [
    "## StraitsTimes"
   ]
  },
  {
   "cell_type": "code",
   "execution_count": 16,
   "metadata": {},
   "outputs": [
    {
     "name": "stdout",
     "output_type": "stream",
     "text": [
      "[RPA][ERROR] - no active TagUI process to close()\n"
     ]
    },
    {
     "data": {
      "text/plain": [
       "True"
      ]
     },
     "execution_count": 16,
     "metadata": {},
     "output_type": "execute_result"
    }
   ],
   "source": [
    "t.close()\n",
    "t.init(visual_automation = True, chrome_browser = True)"
   ]
  },
  {
   "cell_type": "code",
   "execution_count": 17,
   "metadata": {},
   "outputs": [
    {
     "data": {
      "text/plain": [
       "True"
      ]
     },
     "execution_count": 17,
     "metadata": {},
     "output_type": "execute_result"
    }
   ],
   "source": [
    "t.url('https://www.straitstimes.com/')"
   ]
  },
  {
   "cell_type": "code",
   "execution_count": 18,
   "metadata": {},
   "outputs": [
    {
     "data": {
      "text/plain": [
       "11"
      ]
     },
     "execution_count": 18,
     "metadata": {},
     "output_type": "execute_result"
    }
   ],
   "source": [
    "number_bb = t.count('(//div[contains(@data-vr-zone, \"Top Stories\")]//span[contains(@class, \"story-headline\")])')\n",
    "\n",
    "number_bb"
   ]
  },
  {
   "cell_type": "code",
   "execution_count": 21,
   "metadata": {},
   "outputs": [
    {
     "data": {
      "text/html": [
       "<div>\n",
       "<style scoped>\n",
       "    .dataframe tbody tr th:only-of-type {\n",
       "        vertical-align: middle;\n",
       "    }\n",
       "\n",
       "    .dataframe tbody tr th {\n",
       "        vertical-align: top;\n",
       "    }\n",
       "\n",
       "    .dataframe thead th {\n",
       "        text-align: right;\n",
       "    }\n",
       "</style>\n",
       "<table border=\"1\" class=\"dataframe\">\n",
       "  <thead>\n",
       "    <tr style=\"text-align: right;\">\n",
       "      <th></th>\n",
       "      <th>Sno</th>\n",
       "      <th>Title</th>\n",
       "      <th>URL</th>\n",
       "      <th>Summary</th>\n",
       "    </tr>\n",
       "  </thead>\n",
       "  <tbody>\n",
       "    <tr>\n",
       "      <th>0</th>\n",
       "      <td>0</td>\n",
       "      <td>Singapore coronavirus cases cross 4,000 with n...</td>\n",
       "      <td>https://www.straitstimes.com//singapore/singap...</td>\n",
       "      <td>[SINGAPORE - For a second day running, Singapo...</td>\n",
       "    </tr>\n",
       "    <tr>\n",
       "      <th>1</th>\n",
       "      <td>1</td>\n",
       "      <td>Coronavirus: Close to 50 people caught in publ...</td>\n",
       "      <td>https://www.straitstimes.com//singapore/health...</td>\n",
       "      <td>[Thursday was the 10th day of the stringent ci...</td>\n",
       "    </tr>\n",
       "    <tr>\n",
       "      <th>2</th>\n",
       "      <td>2</td>\n",
       "      <td>Coronavirus: Bangladeshi worker, whose wife ga...</td>\n",
       "      <td>https://www.straitstimes.com//singapore/health...</td>\n",
       "      <td>[The Migrant Workers' Centre (MWC) said in a F...</td>\n",
       "    </tr>\n",
       "    <tr>\n",
       "      <th>3</th>\n",
       "      <td>3</td>\n",
       "      <td>Coronavirus: Close to 700 foreign workers hous...</td>\n",
       "      <td>https://www.straitstimes.com//singapore/corona...</td>\n",
       "      <td>[SINGAPORE - Close to 700 foreign workers are ...</td>\n",
       "    </tr>\n",
       "    <tr>\n",
       "      <th>4</th>\n",
       "      <td>4</td>\n",
       "      <td>From pig farmer's sons to supermarket empire b...</td>\n",
       "      <td>https://www.straitstimes.com//business/compani...</td>\n",
       "      <td>[The founders declined to comment on their wea...</td>\n",
       "    </tr>\n",
       "    <tr>\n",
       "      <th>5</th>\n",
       "      <td>5</td>\n",
       "      <td>askST: Must I wear a mask while driving or wal...</td>\n",
       "      <td>https://www.straitstimes.com//singapore/health...</td>\n",
       "      <td>[SINGAPORE - Since Tuesday (April 14), it is m...</td>\n",
       "    </tr>\n",
       "    <tr>\n",
       "      <th>6</th>\n",
       "      <td>6</td>\n",
       "      <td>Coronavirus: Restaurants petition food deliver...</td>\n",
       "      <td>https://www.straitstimes.com//singapore/corona...</td>\n",
       "      <td>[SINGAPORE - Restaurant owners have come toget...</td>\n",
       "    </tr>\n",
       "    <tr>\n",
       "      <th>7</th>\n",
       "      <td>7</td>\n",
       "      <td>Acing the Zoom life: How to curate your best l...</td>\n",
       "      <td>https://www.straitstimes.com//lifestyle/fashio...</td>\n",
       "      <td>[Both Ms Saleim and Ms Yeoh swear by ring ligh...</td>\n",
       "    </tr>\n",
       "    <tr>\n",
       "      <th>8</th>\n",
       "      <td>8</td>\n",
       "      <td>Coronavirus: Food charities, counselling agenc...</td>\n",
       "      <td>https://www.straitstimes.com//singapore/corona...</td>\n",
       "      <td>[Various counselling agencies run by social se...</td>\n",
       "    </tr>\n",
       "  </tbody>\n",
       "</table>\n",
       "</div>"
      ],
      "text/plain": [
       "  Sno                                              Title  \\\n",
       "0   0  Singapore coronavirus cases cross 4,000 with n...   \n",
       "1   1  Coronavirus: Close to 50 people caught in publ...   \n",
       "2   2  Coronavirus: Bangladeshi worker, whose wife ga...   \n",
       "3   3  Coronavirus: Close to 700 foreign workers hous...   \n",
       "4   4  From pig farmer's sons to supermarket empire b...   \n",
       "5   5  askST: Must I wear a mask while driving or wal...   \n",
       "6   6  Coronavirus: Restaurants petition food deliver...   \n",
       "7   7  Acing the Zoom life: How to curate your best l...   \n",
       "8   8  Coronavirus: Food charities, counselling agenc...   \n",
       "\n",
       "                                                 URL  \\\n",
       "0  https://www.straitstimes.com//singapore/singap...   \n",
       "1  https://www.straitstimes.com//singapore/health...   \n",
       "2  https://www.straitstimes.com//singapore/health...   \n",
       "3  https://www.straitstimes.com//singapore/corona...   \n",
       "4  https://www.straitstimes.com//business/compani...   \n",
       "5  https://www.straitstimes.com//singapore/health...   \n",
       "6  https://www.straitstimes.com//singapore/corona...   \n",
       "7  https://www.straitstimes.com//lifestyle/fashio...   \n",
       "8  https://www.straitstimes.com//singapore/corona...   \n",
       "\n",
       "                                             Summary  \n",
       "0  [SINGAPORE - For a second day running, Singapo...  \n",
       "1  [Thursday was the 10th day of the stringent ci...  \n",
       "2  [The Migrant Workers' Centre (MWC) said in a F...  \n",
       "3  [SINGAPORE - Close to 700 foreign workers are ...  \n",
       "4  [The founders declined to comment on their wea...  \n",
       "5  [SINGAPORE - Since Tuesday (April 14), it is m...  \n",
       "6  [SINGAPORE - Restaurant owners have come toget...  \n",
       "7  [Both Ms Saleim and Ms Yeoh swear by ring ligh...  \n",
       "8  [Various counselling agencies run by social se...  "
      ]
     },
     "execution_count": 21,
     "metadata": {},
     "output_type": "execute_result"
    }
   ],
   "source": [
    "df_bb = pd.DataFrame(index=range(0,number_bb-2), columns = ['Sno', 'Title', 'URL', 'Summary'])\n",
    "\n",
    "\n",
    "for n in range(0, number_bb-2):\n",
    "    title=t.read('//div[contains(@data-vr-zone, \"Top Stories {}\")]//span[contains(@class, \"story-headline\")]'.format(n))\n",
    "    URL_b=t.read('//div[contains(@data-vr-zone, \"Top Stories {}\")]//span[contains(@class, \"story-headline\")]//@href'.format(n))\n",
    "    URL = \"https://www.straitstimes.com/\" + str(URL_b) \n",
    "    summaries = SummarizeUrl(URL)\n",
    "    \n",
    "    df_bb.iloc[n, 0] = n\n",
    "    df_bb.iloc[n, 1] = title\n",
    "    df_bb.iloc[n, 2] = URL\n",
    "    df_bb.iloc[n, 3] = summaries\n",
    "\n",
    "df_bb"
   ]
  },
  {
   "cell_type": "code",
   "execution_count": 22,
   "metadata": {},
   "outputs": [],
   "source": [
    "df_bb.to_csv(\"StraitsTimes_summary.csv\")"
   ]
  },
  {
   "cell_type": "code",
   "execution_count": 23,
   "metadata": {},
   "outputs": [
    {
     "name": "stdout",
     "output_type": "stream",
     "text": [
      "[u'SINGAPORE - For a second day running, Singapore recorded another daily high of new coronavirus cases, 728, with the total number of people infected crossing the 4,000 mark.', u\"Two other nursing homes -\\xa0Vanguard Healthcare's Woodlands Care Home, as well as Lee Ah Mooi Old Age Home -\\xa0have previously reported cases.\", u'This means the total number of patients who have tested positive for the virus linked to dormitories now stands at 2,689, or three in five of all cases.', u'There were five new clusters announced\\xa0linked to dormitories, the Ministry of Health (MOH) said in its daily update on Thursday (April 16).', u'Of the remaining new cases, 48 are other local community cases\\xa0while 26 are work permit holders living outside dormitories.']\n"
     ]
    }
   ],
   "source": [
    "summaries = SummarizeUrl(\"https://www.straitstimes.com/singapore/singapore-coronavirus-cases-cross-4000-with-728-cases-in-new-daily-record\")\n",
    "print(summaries)"
   ]
  },
  {
   "cell_type": "code",
   "execution_count": null,
   "metadata": {},
   "outputs": [],
   "source": []
  }
 ],
 "metadata": {
  "kernelspec": {
   "display_name": "Python2.7",
   "language": "python",
   "name": "python2.7"
  },
  "language_info": {
   "codemirror_mode": {
    "name": "ipython",
    "version": 2
   },
   "file_extension": ".py",
   "mimetype": "text/x-python",
   "name": "python",
   "nbconvert_exporter": "python",
   "pygments_lexer": "ipython2",
   "version": "2.7.16"
  }
 },
 "nbformat": 4,
 "nbformat_minor": 2
}
