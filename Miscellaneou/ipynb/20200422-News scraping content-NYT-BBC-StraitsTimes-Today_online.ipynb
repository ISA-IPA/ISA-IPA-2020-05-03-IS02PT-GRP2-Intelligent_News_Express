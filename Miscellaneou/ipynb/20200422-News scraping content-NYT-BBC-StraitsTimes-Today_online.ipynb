{
 "cells": [
  {
   "cell_type": "markdown",
   "metadata": {},
   "source": [
    "# News scraping content and summarization\n",
    "\n",
    "### <span style=\"color:red\">Runs in python 2.7</span>"
   ]
  },
  {
   "cell_type": "code",
   "execution_count": 1,
   "metadata": {},
   "outputs": [],
   "source": [
    "# !pip install pyteaser"
   ]
  },
  {
   "cell_type": "code",
   "execution_count": 2,
   "metadata": {},
   "outputs": [],
   "source": [
    "from pyteaser import Summarize, SummarizeUrl\n",
    "from pprint import pprint\n",
    "import pandas as pd\n",
    "import numpy as np"
   ]
  },
  {
   "cell_type": "code",
   "execution_count": 3,
   "metadata": {},
   "outputs": [],
   "source": [
    "import tagui as t"
   ]
  },
  {
   "cell_type": "markdown",
   "metadata": {},
   "source": [
    "## New York Times"
   ]
  },
  {
   "cell_type": "code",
   "execution_count": 4,
   "metadata": {},
   "outputs": [],
   "source": [
    "#t.close()"
   ]
  },
  {
   "cell_type": "code",
   "execution_count": 5,
   "metadata": {},
   "outputs": [
    {
     "data": {
      "text/plain": [
       "True"
      ]
     },
     "execution_count": 5,
     "metadata": {},
     "output_type": "execute_result"
    }
   ],
   "source": [
    "t.init(visual_automation = True, chrome_browser = True)\n",
    "t.url('https://www.nytimes.com/trending/')"
   ]
  },
  {
   "cell_type": "code",
   "execution_count": 6,
   "metadata": {},
   "outputs": [
    {
     "data": {
      "text/plain": [
       "12"
      ]
     },
     "execution_count": 6,
     "metadata": {},
     "output_type": "execute_result"
    }
   ],
   "source": [
    "number = t.count('(//li[contains(@class, \"css-1iski2w\")]/a)')\n",
    "\n",
    "number"
   ]
  },
  {
   "cell_type": "code",
   "execution_count": 7,
   "metadata": {},
   "outputs": [
    {
     "name": "stderr",
     "output_type": "stream",
     "text": [
      "/Users/binbin/Documents/Vitual_Evn/py2.7/lib/python2.7/site-packages/BeautifulSoup.py:114: UserWarning: You are using a very old release of Beautiful Soup, last updated in 2011. If you installed the 'beautifulsoup' package through pip, you should know the 'beautifulsoup' package name is about to be reclaimed by a more recent version of Beautiful Soup which is incompatible with this version.\n",
      "\n",
      "This will happen at some point after January 1, 2021.\n",
      "\n",
      "If you just started this project, this is easy to fix. Install the 'beautifulsoup4' package instead of 'beautifulsoup' and start using Beautiful Soup 4.\n",
      "\n",
      "If this is an existing project that depends on Beautiful Soup 3, the project maintainer (potentially you) needs to start the process of migrating to Beautiful Soup 4. This should be a relatively easy part of the Python 3 migration.\n",
      "\n",
      "  \"\"\")\n"
     ]
    },
    {
     "name": "stdout",
     "output_type": "stream",
     "text": [
      "IOError\n",
      "IOError\n"
     ]
    },
    {
     "data": {
      "text/html": [
       "<div>\n",
       "<style scoped>\n",
       "    .dataframe tbody tr th:only-of-type {\n",
       "        vertical-align: middle;\n",
       "    }\n",
       "\n",
       "    .dataframe tbody tr th {\n",
       "        vertical-align: top;\n",
       "    }\n",
       "\n",
       "    .dataframe thead th {\n",
       "        text-align: right;\n",
       "    }\n",
       "</style>\n",
       "<table border=\"1\" class=\"dataframe\">\n",
       "  <thead>\n",
       "    <tr style=\"text-align: right;\">\n",
       "      <th></th>\n",
       "      <th>Sno</th>\n",
       "      <th>Title</th>\n",
       "      <th>URL</th>\n",
       "      <th>Summary</th>\n",
       "    </tr>\n",
       "  </thead>\n",
       "  <tbody>\n",
       "    <tr>\n",
       "      <th>0</th>\n",
       "      <td>1</td>\n",
       "      <td>Coronavirus in the U.S.: Latest Map and Case C...</td>\n",
       "      <td>https://www.nytimes.com/interactive/2020/us/co...</td>\n",
       "      <td>None</td>\n",
       "    </tr>\n",
       "    <tr>\n",
       "      <th>1</th>\n",
       "      <td>2</td>\n",
       "      <td>Coronavirus Live Updates: In 4 Weeks, 22 Milli...</td>\n",
       "      <td>https://www.nytimes.com/2020/04/16/us/coronavi...</td>\n",
       "      <td>[More than 5.2 million workers were added to t...</td>\n",
       "    </tr>\n",
       "    <tr>\n",
       "      <th>2</th>\n",
       "      <td>3</td>\n",
       "      <td>It’s the End of the World Economy as We Know It</td>\n",
       "      <td>https://www.nytimes.com/2020/04/16/upshot/worl...</td>\n",
       "      <td>[France’s finance minister directed French com...</td>\n",
       "    </tr>\n",
       "    <tr>\n",
       "      <th>3</th>\n",
       "      <td>4</td>\n",
       "      <td>More Than 5.2 Million U.S. Workers Filed for U...</td>\n",
       "      <td>https://www.nytimes.com/2020/04/16/business/st...</td>\n",
       "      <td>[The mounting unemployment numbers seem certai...</td>\n",
       "    </tr>\n",
       "    <tr>\n",
       "      <th>4</th>\n",
       "      <td>5</td>\n",
       "      <td>The Coronavirus Is Mutating. What Does That Me...</td>\n",
       "      <td>https://www.nytimes.com/interactive/2020/04/16...</td>\n",
       "      <td>[The vaccine targets those parts, so any mutat...</td>\n",
       "    </tr>\n",
       "    <tr>\n",
       "      <th>5</th>\n",
       "      <td>6</td>\n",
       "      <td>W.H.O., Now Trump’s Scapegoat, Warned About Co...</td>\n",
       "      <td>https://www.nytimes.com/2020/04/16/health/WHO-...</td>\n",
       "      <td>[Those early days of the epidemic illustrated ...</td>\n",
       "    </tr>\n",
       "    <tr>\n",
       "      <th>6</th>\n",
       "      <td>7</td>\n",
       "      <td>Xenophobia Rises in China as Coronavirus Fades...</td>\n",
       "      <td>https://www.nytimes.com/2020/04/16/world/coron...</td>\n",
       "      <td>[The emergency declaration will give the gover...</td>\n",
       "    </tr>\n",
       "    <tr>\n",
       "      <th>7</th>\n",
       "      <td>8</td>\n",
       "      <td>Coronavirus Map: Tracking the Global Outbreak</td>\n",
       "      <td>https://www.nytimes.com/interactive/2020/world...</td>\n",
       "      <td>None</td>\n",
       "    </tr>\n",
       "    <tr>\n",
       "      <th>8</th>\n",
       "      <td>9</td>\n",
       "      <td>Testing Falls Woefully Short as Trump Seeks an...</td>\n",
       "      <td>https://www.nytimes.com/2020/04/15/us/coronavi...</td>\n",
       "      <td>[ Andrew M. Cuomo of New York reiterated his c...</td>\n",
       "    </tr>\n",
       "    <tr>\n",
       "      <th>9</th>\n",
       "      <td>10</td>\n",
       "      <td>Trump’s Brain: A Guided Tour</td>\n",
       "      <td>https://www.nytimes.com/2020/04/16/opinion/tru...</td>\n",
       "      <td>[Human beings are hard-wired to follow the her...</td>\n",
       "    </tr>\n",
       "    <tr>\n",
       "      <th>10</th>\n",
       "      <td>11</td>\n",
       "      <td>Ivanka Trump, Disregarding Federal Guidelines,...</td>\n",
       "      <td>https://www.nytimes.com/2020/04/15/us/politics...</td>\n",
       "      <td>[Trump herself has not followed the federal gu...</td>\n",
       "    </tr>\n",
       "    <tr>\n",
       "      <th>11</th>\n",
       "      <td>12</td>\n",
       "      <td>N.Y.C. Mayor Proposes $2 Billion in Budget Cut...</td>\n",
       "      <td>https://www.nytimes.com/2020/04/16/nyregion/co...</td>\n",
       "      <td>[Mayor Bill de Blasio proposed a pared-down bu...</td>\n",
       "    </tr>\n",
       "  </tbody>\n",
       "</table>\n",
       "</div>"
      ],
      "text/plain": [
       "   Sno                                              Title  \\\n",
       "0    1  Coronavirus in the U.S.: Latest Map and Case C...   \n",
       "1    2  Coronavirus Live Updates: In 4 Weeks, 22 Milli...   \n",
       "2    3    It’s the End of the World Economy as We Know It   \n",
       "3    4  More Than 5.2 Million U.S. Workers Filed for U...   \n",
       "4    5  The Coronavirus Is Mutating. What Does That Me...   \n",
       "5    6  W.H.O., Now Trump’s Scapegoat, Warned About Co...   \n",
       "6    7  Xenophobia Rises in China as Coronavirus Fades...   \n",
       "7    8      Coronavirus Map: Tracking the Global Outbreak   \n",
       "8    9  Testing Falls Woefully Short as Trump Seeks an...   \n",
       "9   10                       Trump’s Brain: A Guided Tour   \n",
       "10  11  Ivanka Trump, Disregarding Federal Guidelines,...   \n",
       "11  12  N.Y.C. Mayor Proposes $2 Billion in Budget Cut...   \n",
       "\n",
       "                                                  URL  \\\n",
       "0   https://www.nytimes.com/interactive/2020/us/co...   \n",
       "1   https://www.nytimes.com/2020/04/16/us/coronavi...   \n",
       "2   https://www.nytimes.com/2020/04/16/upshot/worl...   \n",
       "3   https://www.nytimes.com/2020/04/16/business/st...   \n",
       "4   https://www.nytimes.com/interactive/2020/04/16...   \n",
       "5   https://www.nytimes.com/2020/04/16/health/WHO-...   \n",
       "6   https://www.nytimes.com/2020/04/16/world/coron...   \n",
       "7   https://www.nytimes.com/interactive/2020/world...   \n",
       "8   https://www.nytimes.com/2020/04/15/us/coronavi...   \n",
       "9   https://www.nytimes.com/2020/04/16/opinion/tru...   \n",
       "10  https://www.nytimes.com/2020/04/15/us/politics...   \n",
       "11  https://www.nytimes.com/2020/04/16/nyregion/co...   \n",
       "\n",
       "                                              Summary  \n",
       "0                                                None  \n",
       "1   [More than 5.2 million workers were added to t...  \n",
       "2   [France’s finance minister directed French com...  \n",
       "3   [The mounting unemployment numbers seem certai...  \n",
       "4   [The vaccine targets those parts, so any mutat...  \n",
       "5   [Those early days of the epidemic illustrated ...  \n",
       "6   [The emergency declaration will give the gover...  \n",
       "7                                                None  \n",
       "8   [ Andrew M. Cuomo of New York reiterated his c...  \n",
       "9   [Human beings are hard-wired to follow the her...  \n",
       "10  [Trump herself has not followed the federal gu...  \n",
       "11  [Mayor Bill de Blasio proposed a pared-down bu...  "
      ]
     },
     "execution_count": 7,
     "metadata": {},
     "output_type": "execute_result"
    }
   ],
   "source": [
    "df = pd.DataFrame(index=range(0,number), columns = ['Sno', 'Title', 'URL', 'Summary'])\n",
    "\n",
    "\n",
    "for n in range(1, number+1):\n",
    "    title=t.read('//li[contains(@class, \"css-1iski2w\")][{}]/a/div'.format(n))\n",
    "    URL=t.read('//li[contains(@class, \"css-1iski2w\")][{}]//@href'.format(n))\n",
    "    summaries = SummarizeUrl(URL)\n",
    "    \n",
    "    df.iloc[n-1, 0] = n\n",
    "    df.iloc[n-1, 1] = title\n",
    "    df.iloc[n-1, 2] = URL\n",
    "    df.iloc[n-1, 3] = summaries\n",
    "\n",
    "df"
   ]
  },
  {
   "cell_type": "markdown",
   "metadata": {},
   "source": [
    "### One example for summary"
   ]
  },
  {
   "cell_type": "code",
   "execution_count": 9,
   "metadata": {},
   "outputs": [
    {
     "name": "stdout",
     "output_type": "stream",
     "text": [
      "Title: More Than 5.2 Million U.S. Workers Filed for Unemployment: Live Updates\n",
      "\n",
      "Summary: [u'The mounting unemployment numbers seem certain to fuel the debate over how long to impose stay-at-home orders and restrictions on business activity.', u'Swonk said.', u'The latest figure from the Labor Department, reflecting last week\\u2019s initial unemployment claims, brings the four-week total to about 22 million, roughly the net number of jobs created in a nine-and-a-half-year stretch that began after the last recession and ended with the pandemic\\u2019s arrival.', u'Each day seems to bring unwelcome milestones.', u' President Trump has said some measures should be relaxed soon because of the impact on workers. \\u201cThere has to be a balance,\\u201d he said at a press briefing Wednesday evening. \\u201cWe have to get back to work.\\u201d']\n"
     ]
    }
   ],
   "source": [
    "print(\"Title: \"+str(df.iloc[3, 1])+\"\\n\")\n",
    "print(\"Summary: \"+str(df.iloc[3, 3]))"
   ]
  },
  {
   "cell_type": "code",
   "execution_count": 10,
   "metadata": {},
   "outputs": [],
   "source": [
    "df.to_csv(\"NYT_summary.csv\")"
   ]
  },
  {
   "cell_type": "markdown",
   "metadata": {},
   "source": [
    "## BBC News (from API)"
   ]
  },
  {
   "cell_type": "code",
   "execution_count": 17,
   "metadata": {},
   "outputs": [],
   "source": [
    "# BBC top news\n",
    "import requests     \n",
    " \n",
    "def NewsFromBBC():\n",
    "     \n",
    "    # BBC news api\n",
    "    main_url = \" https://newsapi.org/v1/articles?source=bbc-news&sortBy=top&apiKey=4dbc17e007ab436fb66416009dfb59a8\"\n",
    " \n",
    "    # fetching data in json format\n",
    "    open_bbc_page = requests.get(main_url).json()\n",
    " \n",
    "    # getting all articles in a string article\n",
    "    article = open_bbc_page[\"articles\"]\n",
    " \n",
    "    # empty list which will \n",
    "    # contain all trending news\n",
    "    results = []\n",
    "    url = []\n",
    "     \n",
    "    for ar in article:\n",
    "        results.append(ar[\"title\"])\n",
    "        url.append(ar[\"url\"])\n",
    "         \n",
    "        number_BBC = len(results)\n",
    "    \n",
    "    return results, url, number_BBC\n",
    " \n",
    "\n",
    "if __name__ == '__main__':\n",
    "     \n",
    "# function call\n",
    "\n",
    "    results, url, number_BBC = NewsFromBBC()\n",
    "    \n",
    "    df_BBC = pd.DataFrame(index=range(0,number_BBC-1), columns = ['Sno', 'Title', 'URL', 'Summary'])\n",
    "\n",
    "\n",
    "    for i in range(1, number_BBC):\n",
    "\n",
    "        summaries = SummarizeUrl(url[i])\n",
    "\n",
    "        df_BBC.iloc[i-1, 0] = i\n",
    "        df_BBC.iloc[i-1, 1] = results[i]\n",
    "        df_BBC.iloc[i-1, 2] = url[i]\n",
    "        df_BBC.iloc[i-1, 3] = summaries\n",
    "\n",
    "    df_BBC"
   ]
  },
  {
   "cell_type": "code",
   "execution_count": 18,
   "metadata": {},
   "outputs": [
    {
     "data": {
      "text/html": [
       "<div>\n",
       "<style scoped>\n",
       "    .dataframe tbody tr th:only-of-type {\n",
       "        vertical-align: middle;\n",
       "    }\n",
       "\n",
       "    .dataframe tbody tr th {\n",
       "        vertical-align: top;\n",
       "    }\n",
       "\n",
       "    .dataframe thead th {\n",
       "        text-align: right;\n",
       "    }\n",
       "</style>\n",
       "<table border=\"1\" class=\"dataframe\">\n",
       "  <thead>\n",
       "    <tr style=\"text-align: right;\">\n",
       "      <th></th>\n",
       "      <th>Sno</th>\n",
       "      <th>Title</th>\n",
       "      <th>URL</th>\n",
       "      <th>Summary</th>\n",
       "    </tr>\n",
       "  </thead>\n",
       "  <tbody>\n",
       "    <tr>\n",
       "      <th>0</th>\n",
       "      <td>1</td>\n",
       "      <td>Trump says virus has 'passed the peak' in US</td>\n",
       "      <td>http://www.bbc.co.uk/news/world-us-canada-5230...</td>\n",
       "      <td>[President Donald Trump says the US has \"passe...</td>\n",
       "    </tr>\n",
       "    <tr>\n",
       "      <th>1</th>\n",
       "      <td>2</td>\n",
       "      <td>How California kept ahead of the curve</td>\n",
       "      <td>http://www.bbc.co.uk/news/world-us-canada-5227...</td>\n",
       "      <td>[And in Los Angeles, Mayor Garcetti encouraged...</td>\n",
       "    </tr>\n",
       "    <tr>\n",
       "      <th>2</th>\n",
       "      <td>3</td>\n",
       "      <td>The unexpected items deemed 'essential'</td>\n",
       "      <td>http://www.bbc.co.uk/news/world-us-canada-5227...</td>\n",
       "      <td>[As entire countries shut down to prevent the ...</td>\n",
       "    </tr>\n",
       "    <tr>\n",
       "      <th>3</th>\n",
       "      <td>4</td>\n",
       "      <td>Veteran finishes NHS fundraiser as it tops £13m</td>\n",
       "      <td>http://www.bbc.co.uk/news/uk-england-beds-buck...</td>\n",
       "      <td>[\"It would be marvellous to have such an honou...</td>\n",
       "    </tr>\n",
       "    <tr>\n",
       "      <th>4</th>\n",
       "      <td>5</td>\n",
       "      <td>Biggest cosmic mystery 'step closer' to solution</td>\n",
       "      <td>http://www.bbc.co.uk/news/science-environment-...</td>\n",
       "      <td>[\"While CP violation involving quarks is exper...</td>\n",
       "    </tr>\n",
       "    <tr>\n",
       "      <th>5</th>\n",
       "      <td>6</td>\n",
       "      <td>Coronavirus hits decade of US jobs growth</td>\n",
       "      <td>http://www.bbc.co.uk/news/business-52312367</td>\n",
       "      <td>[While the 5.2 million new claims in the week ...</td>\n",
       "    </tr>\n",
       "    <tr>\n",
       "      <th>6</th>\n",
       "      <td>7</td>\n",
       "      <td>Trump says 'we'll see' about Wuhan lab claims</td>\n",
       "      <td>http://www.bbc.co.uk/news/world-us-canada-5230...</td>\n",
       "      <td>[President Donald Trump has said \"we'll see\" a...</td>\n",
       "    </tr>\n",
       "    <tr>\n",
       "      <th>7</th>\n",
       "      <td>8</td>\n",
       "      <td>Japan declares nationwide state of emergency</td>\n",
       "      <td>http://www.bbc.co.uk/news/world-asia-52313807</td>\n",
       "      <td>[Japan’s two emergency medical associations al...</td>\n",
       "    </tr>\n",
       "    <tr>\n",
       "      <th>8</th>\n",
       "      <td>9</td>\n",
       "      <td>EU offers 'heartfelt apology' to Italy over virus</td>\n",
       "      <td>http://www.bbc.co.uk/news/world-europe-52311263</td>\n",
       "      <td>[The EU Commission president has offered a \"he...</td>\n",
       "    </tr>\n",
       "  </tbody>\n",
       "</table>\n",
       "</div>"
      ],
      "text/plain": [
       "  Sno                                              Title  \\\n",
       "0   1       Trump says virus has 'passed the peak' in US   \n",
       "1   2             How California kept ahead of the curve   \n",
       "2   3            The unexpected items deemed 'essential'   \n",
       "3   4    Veteran finishes NHS fundraiser as it tops £13m   \n",
       "4   5   Biggest cosmic mystery 'step closer' to solution   \n",
       "5   6          Coronavirus hits decade of US jobs growth   \n",
       "6   7      Trump says 'we'll see' about Wuhan lab claims   \n",
       "7   8       Japan declares nationwide state of emergency   \n",
       "8   9  EU offers 'heartfelt apology' to Italy over virus   \n",
       "\n",
       "                                                 URL  \\\n",
       "0  http://www.bbc.co.uk/news/world-us-canada-5230...   \n",
       "1  http://www.bbc.co.uk/news/world-us-canada-5227...   \n",
       "2  http://www.bbc.co.uk/news/world-us-canada-5227...   \n",
       "3  http://www.bbc.co.uk/news/uk-england-beds-buck...   \n",
       "4  http://www.bbc.co.uk/news/science-environment-...   \n",
       "5        http://www.bbc.co.uk/news/business-52312367   \n",
       "6  http://www.bbc.co.uk/news/world-us-canada-5230...   \n",
       "7      http://www.bbc.co.uk/news/world-asia-52313807   \n",
       "8    http://www.bbc.co.uk/news/world-europe-52311263   \n",
       "\n",
       "                                             Summary  \n",
       "0  [President Donald Trump says the US has \"passe...  \n",
       "1  [And in Los Angeles, Mayor Garcetti encouraged...  \n",
       "2  [As entire countries shut down to prevent the ...  \n",
       "3  [\"It would be marvellous to have such an honou...  \n",
       "4  [\"While CP violation involving quarks is exper...  \n",
       "5  [While the 5.2 million new claims in the week ...  \n",
       "6  [President Donald Trump has said \"we'll see\" a...  \n",
       "7  [Japan’s two emergency medical associations al...  \n",
       "8  [The EU Commission president has offered a \"he...  "
      ]
     },
     "execution_count": 18,
     "metadata": {},
     "output_type": "execute_result"
    }
   ],
   "source": [
    "df_BBC"
   ]
  },
  {
   "cell_type": "code",
   "execution_count": 19,
   "metadata": {},
   "outputs": [],
   "source": [
    "df.to_csv(\"BBC_summary.csv\")"
   ]
  },
  {
   "cell_type": "code",
   "execution_count": null,
   "metadata": {},
   "outputs": [],
   "source": []
  },
  {
   "cell_type": "code",
   "execution_count": null,
   "metadata": {},
   "outputs": [],
   "source": []
  },
  {
   "cell_type": "markdown",
   "metadata": {},
   "source": [
    "## StraitsTimes"
   ]
  },
  {
   "cell_type": "code",
   "execution_count": 16,
   "metadata": {},
   "outputs": [
    {
     "name": "stdout",
     "output_type": "stream",
     "text": [
      "[RPA][ERROR] - no active TagUI process to close()\n"
     ]
    },
    {
     "data": {
      "text/plain": [
       "True"
      ]
     },
     "execution_count": 16,
     "metadata": {},
     "output_type": "execute_result"
    }
   ],
   "source": [
    "t.close()\n",
    "t.init(visual_automation = True, chrome_browser = True)"
   ]
  },
  {
   "cell_type": "code",
   "execution_count": 17,
   "metadata": {},
   "outputs": [
    {
     "data": {
      "text/plain": [
       "True"
      ]
     },
     "execution_count": 17,
     "metadata": {},
     "output_type": "execute_result"
    }
   ],
   "source": [
    "t.url('https://www.straitstimes.com/')"
   ]
  },
  {
   "cell_type": "code",
   "execution_count": 18,
   "metadata": {},
   "outputs": [
    {
     "data": {
      "text/plain": [
       "11"
      ]
     },
     "execution_count": 18,
     "metadata": {},
     "output_type": "execute_result"
    }
   ],
   "source": [
    "number_bb = t.count('(//div[contains(@data-vr-zone, \"Top Stories\")]//span[contains(@class, \"story-headline\")])')\n",
    "\n",
    "number_bb"
   ]
  },
  {
   "cell_type": "code",
   "execution_count": 21,
   "metadata": {},
   "outputs": [
    {
     "data": {
      "text/html": [
       "<div>\n",
       "<style scoped>\n",
       "    .dataframe tbody tr th:only-of-type {\n",
       "        vertical-align: middle;\n",
       "    }\n",
       "\n",
       "    .dataframe tbody tr th {\n",
       "        vertical-align: top;\n",
       "    }\n",
       "\n",
       "    .dataframe thead th {\n",
       "        text-align: right;\n",
       "    }\n",
       "</style>\n",
       "<table border=\"1\" class=\"dataframe\">\n",
       "  <thead>\n",
       "    <tr style=\"text-align: right;\">\n",
       "      <th></th>\n",
       "      <th>Sno</th>\n",
       "      <th>Title</th>\n",
       "      <th>URL</th>\n",
       "      <th>Summary</th>\n",
       "    </tr>\n",
       "  </thead>\n",
       "  <tbody>\n",
       "    <tr>\n",
       "      <th>0</th>\n",
       "      <td>0</td>\n",
       "      <td>Singapore coronavirus cases cross 4,000 with n...</td>\n",
       "      <td>https://www.straitstimes.com//singapore/singap...</td>\n",
       "      <td>[SINGAPORE - For a second day running, Singapo...</td>\n",
       "    </tr>\n",
       "    <tr>\n",
       "      <th>1</th>\n",
       "      <td>1</td>\n",
       "      <td>Coronavirus: Close to 50 people caught in publ...</td>\n",
       "      <td>https://www.straitstimes.com//singapore/health...</td>\n",
       "      <td>[Thursday was the 10th day of the stringent ci...</td>\n",
       "    </tr>\n",
       "    <tr>\n",
       "      <th>2</th>\n",
       "      <td>2</td>\n",
       "      <td>Coronavirus: Bangladeshi worker, whose wife ga...</td>\n",
       "      <td>https://www.straitstimes.com//singapore/health...</td>\n",
       "      <td>[The Migrant Workers' Centre (MWC) said in a F...</td>\n",
       "    </tr>\n",
       "    <tr>\n",
       "      <th>3</th>\n",
       "      <td>3</td>\n",
       "      <td>Coronavirus: Close to 700 foreign workers hous...</td>\n",
       "      <td>https://www.straitstimes.com//singapore/corona...</td>\n",
       "      <td>[SINGAPORE - Close to 700 foreign workers are ...</td>\n",
       "    </tr>\n",
       "    <tr>\n",
       "      <th>4</th>\n",
       "      <td>4</td>\n",
       "      <td>From pig farmer's sons to supermarket empire b...</td>\n",
       "      <td>https://www.straitstimes.com//business/compani...</td>\n",
       "      <td>[The founders declined to comment on their wea...</td>\n",
       "    </tr>\n",
       "    <tr>\n",
       "      <th>5</th>\n",
       "      <td>5</td>\n",
       "      <td>askST: Must I wear a mask while driving or wal...</td>\n",
       "      <td>https://www.straitstimes.com//singapore/health...</td>\n",
       "      <td>[SINGAPORE - Since Tuesday (April 14), it is m...</td>\n",
       "    </tr>\n",
       "    <tr>\n",
       "      <th>6</th>\n",
       "      <td>6</td>\n",
       "      <td>Coronavirus: Restaurants petition food deliver...</td>\n",
       "      <td>https://www.straitstimes.com//singapore/corona...</td>\n",
       "      <td>[SINGAPORE - Restaurant owners have come toget...</td>\n",
       "    </tr>\n",
       "    <tr>\n",
       "      <th>7</th>\n",
       "      <td>7</td>\n",
       "      <td>Acing the Zoom life: How to curate your best l...</td>\n",
       "      <td>https://www.straitstimes.com//lifestyle/fashio...</td>\n",
       "      <td>[Both Ms Saleim and Ms Yeoh swear by ring ligh...</td>\n",
       "    </tr>\n",
       "    <tr>\n",
       "      <th>8</th>\n",
       "      <td>8</td>\n",
       "      <td>Coronavirus: Food charities, counselling agenc...</td>\n",
       "      <td>https://www.straitstimes.com//singapore/corona...</td>\n",
       "      <td>[Various counselling agencies run by social se...</td>\n",
       "    </tr>\n",
       "  </tbody>\n",
       "</table>\n",
       "</div>"
      ],
      "text/plain": [
       "  Sno                                              Title  \\\n",
       "0   0  Singapore coronavirus cases cross 4,000 with n...   \n",
       "1   1  Coronavirus: Close to 50 people caught in publ...   \n",
       "2   2  Coronavirus: Bangladeshi worker, whose wife ga...   \n",
       "3   3  Coronavirus: Close to 700 foreign workers hous...   \n",
       "4   4  From pig farmer's sons to supermarket empire b...   \n",
       "5   5  askST: Must I wear a mask while driving or wal...   \n",
       "6   6  Coronavirus: Restaurants petition food deliver...   \n",
       "7   7  Acing the Zoom life: How to curate your best l...   \n",
       "8   8  Coronavirus: Food charities, counselling agenc...   \n",
       "\n",
       "                                                 URL  \\\n",
       "0  https://www.straitstimes.com//singapore/singap...   \n",
       "1  https://www.straitstimes.com//singapore/health...   \n",
       "2  https://www.straitstimes.com//singapore/health...   \n",
       "3  https://www.straitstimes.com//singapore/corona...   \n",
       "4  https://www.straitstimes.com//business/compani...   \n",
       "5  https://www.straitstimes.com//singapore/health...   \n",
       "6  https://www.straitstimes.com//singapore/corona...   \n",
       "7  https://www.straitstimes.com//lifestyle/fashio...   \n",
       "8  https://www.straitstimes.com//singapore/corona...   \n",
       "\n",
       "                                             Summary  \n",
       "0  [SINGAPORE - For a second day running, Singapo...  \n",
       "1  [Thursday was the 10th day of the stringent ci...  \n",
       "2  [The Migrant Workers' Centre (MWC) said in a F...  \n",
       "3  [SINGAPORE - Close to 700 foreign workers are ...  \n",
       "4  [The founders declined to comment on their wea...  \n",
       "5  [SINGAPORE - Since Tuesday (April 14), it is m...  \n",
       "6  [SINGAPORE - Restaurant owners have come toget...  \n",
       "7  [Both Ms Saleim and Ms Yeoh swear by ring ligh...  \n",
       "8  [Various counselling agencies run by social se...  "
      ]
     },
     "execution_count": 21,
     "metadata": {},
     "output_type": "execute_result"
    }
   ],
   "source": [
    "df_bb = pd.DataFrame(index=range(0,number_bb-2), columns = ['Sno', 'Title', 'URL', 'Summary'])\n",
    "\n",
    "\n",
    "for n in range(0, number_bb-2):\n",
    "    title=t.read('//div[contains(@data-vr-zone, \"Top Stories {}\")]//span[contains(@class, \"story-headline\")]'.format(n))\n",
    "    URL_b=t.read('//div[contains(@data-vr-zone, \"Top Stories {}\")]//span[contains(@class, \"story-headline\")]//@href'.format(n))\n",
    "    URL = \"https://www.straitstimes.com/\" + str(URL_b) \n",
    "    summaries = SummarizeUrl(URL)\n",
    "    \n",
    "    df_bb.iloc[n, 0] = n\n",
    "    df_bb.iloc[n, 1] = title\n",
    "    df_bb.iloc[n, 2] = URL\n",
    "    df_bb.iloc[n, 3] = summaries\n",
    "\n",
    "df_bb"
   ]
  },
  {
   "cell_type": "code",
   "execution_count": 22,
   "metadata": {},
   "outputs": [],
   "source": [
    "df_bb.to_csv(\"StraitsTimes_summary.csv\")"
   ]
  },
  {
   "cell_type": "code",
   "execution_count": 23,
   "metadata": {},
   "outputs": [
    {
     "name": "stdout",
     "output_type": "stream",
     "text": [
      "[u'SINGAPORE - For a second day running, Singapore recorded another daily high of new coronavirus cases, 728, with the total number of people infected crossing the 4,000 mark.', u\"Two other nursing homes -\\xa0Vanguard Healthcare's Woodlands Care Home, as well as Lee Ah Mooi Old Age Home -\\xa0have previously reported cases.\", u'This means the total number of patients who have tested positive for the virus linked to dormitories now stands at 2,689, or three in five of all cases.', u'There were five new clusters announced\\xa0linked to dormitories, the Ministry of Health (MOH) said in its daily update on Thursday (April 16).', u'Of the remaining new cases, 48 are other local community cases\\xa0while 26 are work permit holders living outside dormitories.']\n"
     ]
    }
   ],
   "source": [
    "summaries = SummarizeUrl(\"https://www.straitstimes.com/singapore/singapore-coronavirus-cases-cross-4000-with-728-cases-in-new-daily-record\")\n",
    "print(summaries)"
   ]
  },
  {
   "cell_type": "code",
   "execution_count": null,
   "metadata": {},
   "outputs": [],
   "source": []
  },
  {
   "cell_type": "markdown",
   "metadata": {},
   "source": [
    "## Today online"
   ]
  },
  {
   "cell_type": "code",
   "execution_count": 4,
   "metadata": {},
   "outputs": [
    {
     "data": {
      "text/plain": [
       "True"
      ]
     },
     "execution_count": 4,
     "metadata": {},
     "output_type": "execute_result"
    }
   ],
   "source": [
    "#t.close()\n",
    "t.init(visual_automation = True, chrome_browser = True)"
   ]
  },
  {
   "cell_type": "code",
   "execution_count": 5,
   "metadata": {},
   "outputs": [
    {
     "data": {
      "text/plain": [
       "True"
      ]
     },
     "execution_count": 5,
     "metadata": {},
     "output_type": "execute_result"
    }
   ],
   "source": [
    "t.url('https://www.todayonline.com/singapore')\n",
    "t.wait(2)"
   ]
  },
  {
   "cell_type": "code",
   "execution_count": 6,
   "metadata": {},
   "outputs": [
    {
     "data": {
      "text/plain": [
       "9"
      ]
     },
     "execution_count": 6,
     "metadata": {},
     "output_type": "execute_result"
    }
   ],
   "source": [
    "number_to = t.count('(//div[@class=\"col\"]/div[contains(@class, \"today\")]/ul/li[contains(@class, \"col-md-12\")])')\n",
    "\n",
    "number_to"
   ]
  },
  {
   "cell_type": "code",
   "execution_count": 7,
   "metadata": {},
   "outputs": [
    {
     "name": "stdout",
     "output_type": "stream",
     "text": [
      "[RPA][ERROR] - cannot find //div[@class=\"col\"]/div[contains(@class, \"today\")]/ul/li[contains(@class, \"col-md-12\")][5]//div[contains(@class, \"article-listing_content\")]\n",
      "[RPA][ERROR] - cannot find //div[@class=\"col\"]/div[contains(@class, \"today\")]/ul/li[contains(@class, \"col-md-12\")][5]//@href\n"
     ]
    },
    {
     "data": {
      "text/html": [
       "<div>\n",
       "<style scoped>\n",
       "    .dataframe tbody tr th:only-of-type {\n",
       "        vertical-align: middle;\n",
       "    }\n",
       "\n",
       "    .dataframe tbody tr th {\n",
       "        vertical-align: top;\n",
       "    }\n",
       "\n",
       "    .dataframe thead th {\n",
       "        text-align: right;\n",
       "    }\n",
       "</style>\n",
       "<table border=\"1\" class=\"dataframe\">\n",
       "  <thead>\n",
       "    <tr style=\"text-align: right;\">\n",
       "      <th></th>\n",
       "      <th>Sno</th>\n",
       "      <th>Title</th>\n",
       "      <th>URL</th>\n",
       "      <th>Summary</th>\n",
       "    </tr>\n",
       "  </thead>\n",
       "  <tbody>\n",
       "    <tr>\n",
       "      <th>0</th>\n",
       "      <td>1</td>\n",
       "      <td>F&amp;B brands you may not have known are still op...</td>\n",
       "      <td>https://www.todayonline.com/singapore/fb-brand...</td>\n",
       "      <td>NaN</td>\n",
       "    </tr>\n",
       "    <tr>\n",
       "      <th>1</th>\n",
       "      <td>2</td>\n",
       "      <td>FairPrice introduces 'store on wheels' to brin...</td>\n",
       "      <td>https://www.todayonline.com/singapore/fairpric...</td>\n",
       "      <td>NaN</td>\n",
       "    </tr>\n",
       "    <tr>\n",
       "      <th>2</th>\n",
       "      <td>3</td>\n",
       "      <td>Loan sharks in Singapore using food delivery s...</td>\n",
       "      <td>https://www.todayonline.com/singapore/loan-sha...</td>\n",
       "      <td>NaN</td>\n",
       "    </tr>\n",
       "    <tr>\n",
       "      <th>3</th>\n",
       "      <td>4</td>\n",
       "      <td>Bubble tea shop Playmade counsels employee, ap...</td>\n",
       "      <td>https://www.todayonline.com/singapore/bubble-t...</td>\n",
       "      <td>NaN</td>\n",
       "    </tr>\n",
       "    <tr>\n",
       "      <th>4</th>\n",
       "      <td>5</td>\n",
       "      <td></td>\n",
       "      <td>https://www.todayonline.com</td>\n",
       "      <td>NaN</td>\n",
       "    </tr>\n",
       "    <tr>\n",
       "      <th>5</th>\n",
       "      <td>6</td>\n",
       "      <td>Covid-19 cases in Singapore cross 10,000-mark,...</td>\n",
       "      <td>https://www.todayonline.com/singapore/number-c...</td>\n",
       "      <td>NaN</td>\n",
       "    </tr>\n",
       "    <tr>\n",
       "      <th>6</th>\n",
       "      <td>7</td>\n",
       "      <td>More than 200 people face fines for not comply...</td>\n",
       "      <td>https://www.todayonline.com/singapore/more-200...</td>\n",
       "      <td>NaN</td>\n",
       "    </tr>\n",
       "    <tr>\n",
       "      <th>7</th>\n",
       "      <td>8</td>\n",
       "      <td>SMC says it ‘acted immediately’ on complaint a...</td>\n",
       "      <td>https://www.todayonline.com/singapore/smc-says...</td>\n",
       "      <td>NaN</td>\n",
       "    </tr>\n",
       "    <tr>\n",
       "      <th>8</th>\n",
       "      <td>9</td>\n",
       "      <td>Economists downgrade Singapore's GDP forecast ...</td>\n",
       "      <td>https://www.todayonline.com/singapore/shock-si...</td>\n",
       "      <td>NaN</td>\n",
       "    </tr>\n",
       "  </tbody>\n",
       "</table>\n",
       "</div>"
      ],
      "text/plain": [
       "  Sno                                              Title  \\\n",
       "0   1  F&B brands you may not have known are still op...   \n",
       "1   2  FairPrice introduces 'store on wheels' to brin...   \n",
       "2   3  Loan sharks in Singapore using food delivery s...   \n",
       "3   4  Bubble tea shop Playmade counsels employee, ap...   \n",
       "4   5                                                      \n",
       "5   6  Covid-19 cases in Singapore cross 10,000-mark,...   \n",
       "6   7  More than 200 people face fines for not comply...   \n",
       "7   8  SMC says it ‘acted immediately’ on complaint a...   \n",
       "8   9  Economists downgrade Singapore's GDP forecast ...   \n",
       "\n",
       "                                                 URL Summary  \n",
       "0  https://www.todayonline.com/singapore/fb-brand...     NaN  \n",
       "1  https://www.todayonline.com/singapore/fairpric...     NaN  \n",
       "2  https://www.todayonline.com/singapore/loan-sha...     NaN  \n",
       "3  https://www.todayonline.com/singapore/bubble-t...     NaN  \n",
       "4                        https://www.todayonline.com     NaN  \n",
       "5  https://www.todayonline.com/singapore/number-c...     NaN  \n",
       "6  https://www.todayonline.com/singapore/more-200...     NaN  \n",
       "7  https://www.todayonline.com/singapore/smc-says...     NaN  \n",
       "8  https://www.todayonline.com/singapore/shock-si...     NaN  "
      ]
     },
     "execution_count": 7,
     "metadata": {},
     "output_type": "execute_result"
    }
   ],
   "source": [
    "df_to = pd.DataFrame(index=range(0,number_to), columns = ['Sno', 'Title', 'URL', 'Summary'])\n",
    "\n",
    "\n",
    "for n in range(1, number_to+1):\n",
    "    title=t.read('//div[@class=\"col\"]/div[contains(@class, \"today\")]/ul/li[contains(@class, \"col-md-12\")][{}]//div[contains(@class, \"article-listing_content\")]'.format(n))\n",
    "    URL_o=t.read('//div[@class=\"col\"]/div[contains(@class, \"today\")]/ul/li[contains(@class, \"col-md-12\")][{}]//@href'.format(n))\n",
    "    URL = \"https://www.todayonline.com\" + str(URL_o) \n",
    "    \n",
    "    df_to.iloc[n-1, 0] = n\n",
    "    df_to.iloc[n-1, 1] = title\n",
    "    df_to.iloc[n-1, 2] = URL\n",
    "\n",
    "df_to"
   ]
  },
  {
   "cell_type": "code",
   "execution_count": 8,
   "metadata": {},
   "outputs": [
    {
     "data": {
      "text/html": [
       "<div>\n",
       "<style scoped>\n",
       "    .dataframe tbody tr th:only-of-type {\n",
       "        vertical-align: middle;\n",
       "    }\n",
       "\n",
       "    .dataframe tbody tr th {\n",
       "        vertical-align: top;\n",
       "    }\n",
       "\n",
       "    .dataframe thead th {\n",
       "        text-align: right;\n",
       "    }\n",
       "</style>\n",
       "<table border=\"1\" class=\"dataframe\">\n",
       "  <thead>\n",
       "    <tr style=\"text-align: right;\">\n",
       "      <th></th>\n",
       "      <th>Sno</th>\n",
       "      <th>Title</th>\n",
       "      <th>URL</th>\n",
       "      <th>Summary</th>\n",
       "    </tr>\n",
       "  </thead>\n",
       "  <tbody>\n",
       "    <tr>\n",
       "      <th>0</th>\n",
       "      <td>1</td>\n",
       "      <td>F&amp;B brands you may not have known are still op...</td>\n",
       "      <td>https://www.todayonline.com/singapore/fb-brand...</td>\n",
       "      <td>NaN</td>\n",
       "    </tr>\n",
       "    <tr>\n",
       "      <th>1</th>\n",
       "      <td>2</td>\n",
       "      <td>FairPrice introduces 'store on wheels' to brin...</td>\n",
       "      <td>https://www.todayonline.com/singapore/fairpric...</td>\n",
       "      <td>NaN</td>\n",
       "    </tr>\n",
       "    <tr>\n",
       "      <th>2</th>\n",
       "      <td>3</td>\n",
       "      <td>Loan sharks in Singapore using food delivery s...</td>\n",
       "      <td>https://www.todayonline.com/singapore/loan-sha...</td>\n",
       "      <td>NaN</td>\n",
       "    </tr>\n",
       "    <tr>\n",
       "      <th>3</th>\n",
       "      <td>4</td>\n",
       "      <td>Bubble tea shop Playmade counsels employee, ap...</td>\n",
       "      <td>https://www.todayonline.com/singapore/bubble-t...</td>\n",
       "      <td>NaN</td>\n",
       "    </tr>\n",
       "    <tr>\n",
       "      <th>4</th>\n",
       "      <td>6</td>\n",
       "      <td>Covid-19 cases in Singapore cross 10,000-mark,...</td>\n",
       "      <td>https://www.todayonline.com/singapore/number-c...</td>\n",
       "      <td>NaN</td>\n",
       "    </tr>\n",
       "    <tr>\n",
       "      <th>5</th>\n",
       "      <td>7</td>\n",
       "      <td>More than 200 people face fines for not comply...</td>\n",
       "      <td>https://www.todayonline.com/singapore/more-200...</td>\n",
       "      <td>NaN</td>\n",
       "    </tr>\n",
       "    <tr>\n",
       "      <th>6</th>\n",
       "      <td>8</td>\n",
       "      <td>SMC says it ‘acted immediately’ on complaint a...</td>\n",
       "      <td>https://www.todayonline.com/singapore/smc-says...</td>\n",
       "      <td>NaN</td>\n",
       "    </tr>\n",
       "    <tr>\n",
       "      <th>7</th>\n",
       "      <td>9</td>\n",
       "      <td>Economists downgrade Singapore's GDP forecast ...</td>\n",
       "      <td>https://www.todayonline.com/singapore/shock-si...</td>\n",
       "      <td>NaN</td>\n",
       "    </tr>\n",
       "  </tbody>\n",
       "</table>\n",
       "</div>"
      ],
      "text/plain": [
       "  Sno                                              Title  \\\n",
       "0   1  F&B brands you may not have known are still op...   \n",
       "1   2  FairPrice introduces 'store on wheels' to brin...   \n",
       "2   3  Loan sharks in Singapore using food delivery s...   \n",
       "3   4  Bubble tea shop Playmade counsels employee, ap...   \n",
       "4   6  Covid-19 cases in Singapore cross 10,000-mark,...   \n",
       "5   7  More than 200 people face fines for not comply...   \n",
       "6   8  SMC says it ‘acted immediately’ on complaint a...   \n",
       "7   9  Economists downgrade Singapore's GDP forecast ...   \n",
       "\n",
       "                                                 URL Summary  \n",
       "0  https://www.todayonline.com/singapore/fb-brand...     NaN  \n",
       "1  https://www.todayonline.com/singapore/fairpric...     NaN  \n",
       "2  https://www.todayonline.com/singapore/loan-sha...     NaN  \n",
       "3  https://www.todayonline.com/singapore/bubble-t...     NaN  \n",
       "4  https://www.todayonline.com/singapore/number-c...     NaN  \n",
       "5  https://www.todayonline.com/singapore/more-200...     NaN  \n",
       "6  https://www.todayonline.com/singapore/smc-says...     NaN  \n",
       "7  https://www.todayonline.com/singapore/shock-si...     NaN  "
      ]
     },
     "execution_count": 8,
     "metadata": {},
     "output_type": "execute_result"
    }
   ],
   "source": [
    "df_to['Title'].replace('', np.nan, inplace=True)\n",
    "df_to.dropna(subset=['Title'], inplace=True, how='any')\n",
    "df_to= df_to.reset_index(drop=True)\n",
    "df_to"
   ]
  },
  {
   "cell_type": "code",
   "execution_count": 9,
   "metadata": {},
   "outputs": [
    {
     "data": {
      "text/plain": [
       "'https://www.todayonline.com/singapore/fb-brands-you-may-not-know-are-still-operating-under-stricter-circuit-breaker-rules'"
      ]
     },
     "execution_count": 9,
     "metadata": {},
     "output_type": "execute_result"
    }
   ],
   "source": [
    "df_to.URL[0]"
   ]
  },
  {
   "cell_type": "code",
   "execution_count": 10,
   "metadata": {},
   "outputs": [
    {
     "data": {
      "text/plain": [
       "(8, 4)"
      ]
     },
     "execution_count": 10,
     "metadata": {},
     "output_type": "execute_result"
    }
   ],
   "source": [
    "df_to.shape"
   ]
  },
  {
   "cell_type": "code",
   "execution_count": 26,
   "metadata": {},
   "outputs": [
    {
     "name": "stdout",
     "output_type": "stream",
     "text": [
      "29\n",
      "Stay woke: t.me/todayonlinesgSINGAPORE — Most bubble tea outlets, snack shops and confectioneries were shut on Wednesday (April 22), after the Government set out tighter restrictions on food-and-beverage (F&B) businesses.The Ministry of Trade and Industry (MTI) has mandated the closure of standalone outlets that sell predominantly drinks, packaged snacks and desserts such as donuts, pastries, cakes, cookies and soya bean milk.Businesses can sell food products for online deliveries or take-out, but the items must be made in a central kitchen, warehouse or manufacturing facility. F&B operators, however, have to stop manufacturing a list of specified items, including chocolate, tidbits, ice-cream, cakes and confectionery.Outlets in hawker centres, food courts and coffee shops will not be affected, and stores that sell meals have been given the green light to continue.Despite the enhanced measures, TODAY found a number of such places that will remain open during the circuit breaker.CAFES AND COFFEE JOINTSStandalone outlets that offer mainly drinks like coffee or bubble tea must close.But cafes and coffee joints may still continue operations if they also focus on serving hot meals and do not serve desserts.Those in need of a caffeine fix can still get takeaway and delivery coffee and tea from Starbucks and The Coffee Bean & Tea Leaf.For some local kopi or teh, Toast Box, which has limited outlets open, and Ya Kun Kaya Toast are still available for orders to-go.Those looking for artisanal coffee can order from Baristart Coffee Singapore. While it has closed its Sentosa outlet, its Tras Street outlet in Tanjong Pagar remains open for delivery and takeaway.DESSERTSWhile most bubble tea shops are closed — much to the dismay of Singaporeans — a handful of bubble tea chains that serve food are allowed to stay open this period, provided that customers buy food as part of their orders.Taiwanese chain I Love Taimei remains open for Singaporeans to get their bubble tea fix, but it has stopped accepting bubble-tea-only orders, and is limiting orders to either two combos or two food items with two drinks.Monga Fried Chicken Singapore also has a few bubble tea options available, but as with I Love Taimei, they must be bought with food.BAKERIESConfectioneries that focus on selling baked goods, such as donuts, pastries, cookies, kuehs and cakes, must close.But bakeries that sell mostly bread may remain open.Non-bread items that are already in the shop’s inventory may be sold, but the business must not manufacture any more of these items.As such, BreadTalk will remain open, but will stop selling chilled cakes by Wednesday.French cafe chain Delifrance, likewise, remains open for takeaway and delivery.Those looking to munch on hipster pastries can also order from Tiong Bahru Bakery. All five of its outlets remain open.Meanwhile, ketogenic bakery Seriously Keto has closed its store, but remains operational for home delivery services.SNACKSWhile shops selling pre-packaged snacks predominantly can no longer stay open, those selling cooked snacks or hot food items can stay in business.\n",
      "21\n",
      "SINGAPORE — Singapore's largest supermarket chain will roll out an initiative called FairPrice on Wheels, to allow residents in selected areas to buy groceries without venturing too far from home during the extended Covid-19 \"circuit-breaker\" period.From Thursday (April 23), a FairPrice van will stop by five locations — at Commonwealth Link, Telok Blangah Crescent, Telok Blangah Rise, Kampong Glam Community Club and Jalan Kukoh — from 9am to 2pm daily.It will be stocked with essential items such as rice, milk, cooking oil, bread, fruit, vegetables and toiletries.Only cash payments will be accepted, and the usual purchase limits apply.“While we encourage everyone to stay home during the circuit breaker period, we also understand that there may be people who do not have the option to have their groceries purchased on their behalf,\" said FairPrice Group CEO Seah Kian Peng.\"Therefore, we aim to bring daily essentials closer to their homes, especially for seniors, so that they do not have to spend too much time away from home.\"He added that the initiative will also make it more convenient for residents to help their elderly neighbours with the purchase of groceries.Demographic data showing locations where over 30 per cent of residents are seniors was used to determine the five locations, said FairPrice in a press release. Other factors such as the walking distance to the nearest supermarket were also considered.\"This initiative will last as long as there is sizeable consumer demand for the service,\" FairPrice said, adding that it would expand the service to cover more locations if required.FairPrice is also trying out another new initiative that allows customers to pre-order groceries via WhatsApp, then pick them up at FairPrice Xpress stores at Esso petrol stations.This is for residents who live near the petrol stations at East Coast, Upper Changi, Lorong Chuan, Jurong East and Yishun Avenue 9, said Mr Seah in a Facebook post.\"Consider this option and let us have your feedback,\" he added.The supermarket chain has been trying to cope with a surge in online orders, as people were urged to stay home as much as possible to help stem the spread of Covid-19.Prime Minister Lee Hsien Loong said on Tuesday that the circuit breaker period will be extended by four weeks until June 1. Tighter measures, such as closing more workplaces and imposing entry restrictions at popular markets, were also announced.Singapore reported 1,016 new cases of Covid-19 infections on Wednesday, the vast majority of which are work permit holders residing in foreign worker dormitories.The national total now stands at 10,141. CNAFor more stories like this, visit cna.asia\n",
      "11\n",
      "SINGAPORE — Unlicensed moneylenders have increasingly been making use of food delivery services to harass debtors, the Singapore Police Force (SPF) said in an advisory on Wednesday (April 22).“The unlicensed moneylenders would order large quantities of food or make multiple orders on the same day, and arrange for the food to be delivered to the debtors’ homes, often late at night,” police said, adding that food was sometimes delivered to debtors’ relatives.“The food deliveryman would then request payment from the debtors or the recipients of the food items.”As part of the “circuit-breaker” measures implemented to limit the spread of Covid-19, restaurants and eateries have been forced to halt their dine-in services, with many relying on food delivery services to continue their operations.Due to the latest loanshark harassment tactic, many food and beverage operators using food delivery services have suffered losses, police said, adding that investigations are ongoing.“The police have zero tolerance for loanshark harassment activities,” said SPF.“Those who deliberately cause annoyance and disruption to public sense of safety, peace and security will be arrested and dealt with severely in accordance with the law.” CNAFor more stories like this, visit cna.asia\n",
      "19\n",
      "SINGAPORE — The management of bubble tea shop Playmade said on Wednesday (April 22) that it has counselled the employee involved in Tuesday’s incident with a GrabFood delivery rider at Waterway Point mall.Playmade said that its employee had uttered an expletive at the rider, setting off a commotion that went viral on social media.In a statement on Wednesday, Playmade said that the staff member had expressed “deep remorse over his uncouth choice of adjective”. The incident took place at its outlet at Waterway Point in Punggol Central.Playmade said that its management and staff members \"sincerely apologise\" to the delivery rider, its customers, as well as other Grab drivers who were “inconvenienced by Tuesday’s incident”.“Playmade remains very appreciative of all Grab drivers who are among the frontline heroes in our fight against Covid-19, putting their health at risk to deliver food and beverages to households all over Singapore during this challenging time,” the company said.Describing the chain of events, Playmade said that its Waterway Point outlet saw a huge surge in demand on Tuesday, both at its physical store and through the Grab platform, after the Government announced a tightening of the circuit breaker measures here for more businesses to shut temporarily.From Wednesday, standalone food-and-beverage (F&B) outlets that sell only beverages, packaged snacks, confectioneries or desserts will have to close their outlets until at least May 4. These include bubble tea outlets across Singapore.Playmade said that in order to cope with the surge in demand after customers flocked to its outlet, one of its staff members had pressed a “pause button on the Grab device” to stop more online orders from coming in.However, the company said it was unaware that there were already more than 100 orders in the system “waiting to be matched with Grab riders, as well as orders that would continue to be matched in the one or two minutes after the system was paused”.Playmade said it was during this time that a Grab food delivery rider expressed his impatience at one of its employees and “repeatedly demanded to know” how long he would have to wait.“Under pressure and out of frustration, our staff responded that if he had to give an estimate, it would be ‘a f****** long’ wait. The driver reacted angrily and asked our staff for an apology,” Playmade said.The company said that in order to calm the situation, the staff member and other workers at the outlet apologised to the rider.“Other customers (also) tried to defuse the situation,” Playmade said, noting that the video of the visibly upset rider confronting and threatening its employee had gone viral on social media.It added: “Contrary to social media chatter, Playmade was not the party that reported the incident to the police.”In relation to the incident, the police said earlier that they have arrested a 38-year-old man for public nuisance.Get TODAY's headline news via Telegram: t.me/todayonlinesg\n"
     ]
    },
    {
     "name": "stdout",
     "output_type": "stream",
     "text": [
      "21\n",
      "SINGAPORE — Singapore confirmed 1,016 new cases of Covid-19 on Wednesday (April 22), the Ministry of Health (MOH) said in a statement.It is the third consecutive day that the country has reported more than 1,000 new cases, and it brings the total number of cases here to 10,141.The vast majority of the new patients are work permit holders residing in dormitories housing migrant workers. Fifteen of the new cases involve Singaporeans and permanent residents.MOH said there were no new imported cases.Seventeen infections were cases in the community: Fifteen are Singaporeans or permanent residents while two are work pass holders.MOH said the number of new cases in the community has decreased, from an average of 36 per day in the week before, to an average of 25 per day in the past week.The number of unlinked cases in the community has also gone down, from an average of 21 per day in the week before, to an average of 17 per day in the past week.Of the cases involving foreign workers, 32 infections were linked to those residing outside the dormitories.Another 967 were linked to those residing in dormitories.MOH said the main increase on Wednesday “continues to be for work permit holders residing in dormitories, where we are picking up many more cases because of extensive testing”.“Most of these cases have a mild illness and are being monitored in the community isolation facilities or general ward of our hospitals. None of them is in the intensive care unit,” the health ministry said.MOH also identified eight new clusters of infections: 10 Kranji Link, 32 Tuas View Square, 36 Tuas View Square, 40 Tuas View Square, 61 Senoko Drive, 8 Sungei Kadut Avenue, 18 Sungei Kadut Avenue and Wing Fong Court located at 10 Lorong 14 Geylang.UPDATE ON THE CONFIRMED CASESIn all, MOH said 896 patients have fully recovered from the Covid-19 infection and have been discharged from hospitals or community isolation facilities, including the 57 discharged on Wednesday.Of the 4,234 confirmed cases who are still in hospital, most are in stable condition or improving.Twenty-five patients are in critical condition under intensive care.MOH said 4,999 cases who are clinically well but still test positive for Covid-19 are isolated and cared for at community facilities.An 84-year-old Singaporean woman — identified as Case 1071 —on Tuesday became the 12th person to die from Covid-19 infection in the Republic.\n",
      "17\n",
      "SINGAPORE — About 150 people did not care to keep to safe distancing rules and another 50 did not wear a mask when they were out and about.Mr Masagos Zulkifli, Minister for the Environment and Water Resources, said: “I hope these people realise that their actions are putting their families and their community at risk.”In a Facebook post on Wednesday (April 22), he was giving the latest update on the enforcement work to ensure people are keeping to regulations to minimise close contact and take precautionary measures to slow the spread of Covid-19.Since April 12, first-time offenders have been issued fines of S$300 for not keeping a safe distance of 1m apart from other people. Repeat offenders will face higher fines or prosecution in court for serious cases.On Tuesday, the Government announced tighter controls for access to wet markets, and Mr Masagos reminded the public on what they should do if they plan to visit any of the four popular markets here.These include: Going to the market alone, checking if they are able to enter the market on the day of visit, and carrying with them a photo identification such as their National Registration Identification Card (NRIC).The four markets with limited access to control crowds are Geylang Serai Market, Chong Pang Market at Block 104 and 105 Yishun Ring Road, as well as the markets at Block 20 and 21 Marsiling Lane and Block 505 Jurong West Street 52.People whose NRIC number or Foreign Identification Number (Fin) ends in an even digit (0, 2, 4, 6 or 8) may visit these markets only on even dates of the month. Those with odd numbers as the last digit (1, 3, 5, 7 or 9) may do so on odd dates of the month.Mr Masagos was glad to hear from officers at the markets that the crowds have thinned and that people generally understood the objectives of the enhanced control measures, but he said that the duration of the circuit breaker “will depend on each of us”.The period of restricted movement was to have ended on May 4 but was extended to June 1 by the Government on Tuesday.Mr Masagos said: “If we stay at home as much as possible, we can help bring local transmission numbers down. Then, the multi-ministry task force can ease some of the measures earlier rather than later.”He added: “The circuit breaker has been difficult for all of us. Let us work together to make it a success in the shortest time possible.”Join our Telegram channel to get TODAY's headline news: t.me/todayonlinesg\n",
      "22\n",
      "SINGAPORE — The Singapore Medical Council (SMC) in a statement on Wednesday (April 22) said it had “acted immediately” in the case where a complaint had been made against two doctors for taking advantage of vulnerable female patients.The complaint made against Dr Chan Herng Nieng and Dr Julian Ong Kian Peng resulted in a defamation lawsuit filed by Dr Ong, against the woman who complained.Dr Ong runs a private practice at Mount Elizabeth Novena Hospital while Dr Chan is a former senior consultant of psychiatry at Singapore General Hospital (SGH).The defamation suit was dismissed with costs on April 3.SMC said that once it was made aware of the judgment from the defamation suit, it acted immediately to secure signed undertakings from both Dr Chan and Dr Ong to refrain from contacting female patients for purposes outside the scope of their medical practice, pending the completion of the disciplinary process against them.The statement by SMC was released in response to a commentary in The Straits Times (ST) titled \"Disciplinary watchdog for doctors must do better\", which was published on April 16 and called for the council to “do better” in handling complaints and protecting patients.The ST article said that the woman had filed her complaint against the doctors on June 19, 2018, and that the Complaints Committee has “yet to decide on what to do with the complaint”.“For the Complaints Committee to dither over the matter for close to 22 months is unacceptable,” the article added.In response to the article, SMC said: “The SMC Complaints Committee is already investigating a complaint made against both doctors, contrary to the ST article which reported that no complaint has been filed against Dr Ong.”The judgment in the defamation suit found that the two doctors had been “colluding” to take advantage of “other vulnerable woman patients” by exchanging potential patients and colleagues who were deemed easily taken advantage of to “satisfy their immoral desires”.They were found out in 2018 when a patient of Dr Chan — who was also having an affair with him at that time — accessed his phone and found a number of offensive WhatsApp messages between him and Dr Ong.She took photos of these messages and then submitted a complaint to SMC in June 2018, around a month after her relationship with Dr Chan ended.She also forwarded the complaint through email to a number of doctors in SGH, as well as two doctors in private practice.Subsequently, Dr Ong filed a defamation lawsuit in July 2018.The ST article also said that the SMC should have “triaged complaints” so that charges that are more serious can “merit quick attention”.Of the seven complaints in SMC’s 2018 annual report under the category of outrage of modesty, sexual relationship with a patient, or other sexual offences, at least three complaints made in 2017 had not gone beyond the complaints committee by the end of 2018, the article added.“The delay could allow the perpetuation of further harm, or harm to more patients,” read the article.In response to this, SMC said that of the seven cases pertaining to sexual offences mentioned in the ST article, three have been concluded and four are ongoing.Of the four ongoing cases, the SMC has taken “precautionary measures to protect the patients”, it said.\n",
      "35\n",
      "SINGAPORE — As the economy comes almost to a standstill for one more month until June 1 due to the extension of control measures to curb the spread of Covid-19, economists have downgraded their growth forecasts for Singapore yet again. And they expect it to go into an even deeper recession.In a published report on Wednesday (April 22), United Overseas Bank (UOB) economist Barnabas Gan lowered Singapore’s 2020 growth forecast from -2.5 per cent previously to -4 per cent.Other economists interviewed by TODAY made similar downgrades.A day before, Prime Minister Lee Hsien Loong announced in a nationwide live telecast that the Government is adding four more weeks to the circuit breaker to reduce the movement of people until better results show that transmission rates are going down. The period was supposed to end by May 4.More businesses providing essential services have to shut down temporarily, so that the proportion of workers commuting daily can be cut from 20 per cent to about 15 per cent.Ms Selena Ling, head of treasury research and strategy at OCBC bank, downgraded her forecast from -3 per cent to -6 per cent, with a possible downside risk of even a -10 per cent growth.Unable to give official figures yet, Mr Irvin Seah of DBS bank and Dr Chua Hak Bin of Maybank Kim Eng said that the four more weeks of circuit breaker would mean the risk for greater contraction is there.However, in an earlier report by Dr Chua and Miss Lee Ju Ye, another economist from Maybank Kim Eng, they said that the circuit breaker would cause the gross domestic product (GDP) to contract by 6 per cent, while a one-month extension would cause it to contract further to 8 per cent.Dr Chua told TODAY on Wednesday that this extra month will cost Singapore’s economy S$10 billion.While Mr Seah had earlier forecast a 2.8 per cent baseline contraction of the economy for this year, he said before that the first four weeks of the circuit breaker could potentially tip the full-year forecast towards a 4 per cent contraction.Now with the extension, there is a risk that the recession will be deeper than the lower limit of the authorities’ official forecast range of -4 per cent.Official forecasts from the Ministry of Trade and Industry estimated that the Singapore economy would contract by between 1 and 4 per cent for 2020.All these projections mean that Singapore is charting a course towards possibly the worst recession on record.The economists said that the work stoppages during the extension would particularly hit the construction, food-and-beverage (F&B) and manufacturing sectors.Mr Gan of UOB said that it would mean another month of lost revenues and delays to projects for the construction sector. In addition, 70 per cent of Singapore’s retail sales cluster will have their storefronts closed.Apart from the F&B sector that would be affected by the tightening measures, Mr Seah of DBS said that many industries beyond F&B will not be able to operate at their full capacity for one more month.With the months of January and December usually slower due to festivities around Christmas and the new year, Ms Ling said that there are usually 10 productive months in a working year.Now with two of the 10 months coming under the circuit breaker, productive activity is being reduced to two-thirds of the whole year, she explained.“The shock level is going to be quite high.”JOB MARKETDr Chua earlier projected that the first four weeks of the circuit breaker might lead to the retrenchment of between 150,000 and 200,000 workers for the whole of 2020.When asked whether the extension would lead to more retrenchments, he declined to put a figure to it, except to say that it would be more likely for the number of retrenchments to be large.Ms Ling of OCBC said that there are already signs of the labour market weakening rapidly.“What will happen after your Jobs Support Scheme runs out?” Ms Ling questioned, referring to a scheme by the Government to subsidise 75 per cent of all Singaporeans’ wages during the two months of the circuit breaker.“Maybe businesses are just postponing the day of reckoning by two months. If you don’t get a demand recovery in June and beyond, businesses may have to make tough decisions,” she added.SLOW RECOVERYEarlier hopes that there may be a pickup in economic activity in the second half of this year has all but disappeared, economists said.That is because the authorities have made it clear that any unwinding of the circuit breaker measures would be gradual and cautious.So they project recovery to be in the form of a U-shape, with a very long trough.Previously expecting negative growth to hit Singapore for the four quarters of 2020, Mr Seah of DBS said that he now expects the contraction to continue in the first quarter of next year.Looking at other countries’ lockdowns as case studies, Ms Ling said that many have chosen to extend their lockdown, and those which opted to ease measures, such as New Zealand and Germany, are saying that they are going to lift it gradually.“Even if countries lift their lockdowns, it doesn’t mean safe distancing measures go away, it doesn’t mean containment measures are lifted overnight,” she added.\n"
     ]
    },
    {
     "data": {
      "text/html": [
       "<div>\n",
       "<style scoped>\n",
       "    .dataframe tbody tr th:only-of-type {\n",
       "        vertical-align: middle;\n",
       "    }\n",
       "\n",
       "    .dataframe tbody tr th {\n",
       "        vertical-align: top;\n",
       "    }\n",
       "\n",
       "    .dataframe thead th {\n",
       "        text-align: right;\n",
       "    }\n",
       "</style>\n",
       "<table border=\"1\" class=\"dataframe\">\n",
       "  <thead>\n",
       "    <tr style=\"text-align: right;\">\n",
       "      <th></th>\n",
       "      <th>Sno</th>\n",
       "      <th>Title</th>\n",
       "      <th>URL</th>\n",
       "      <th>Summary</th>\n",
       "    </tr>\n",
       "  </thead>\n",
       "  <tbody>\n",
       "    <tr>\n",
       "      <th>0</th>\n",
       "      <td>1</td>\n",
       "      <td>F&amp;B brands you may not have known are still op...</td>\n",
       "      <td>https://www.todayonline.com/singapore/fb-brand...</td>\n",
       "      <td>SINGAPORE — Singapore's largest supermarket ch...</td>\n",
       "    </tr>\n",
       "    <tr>\n",
       "      <th>1</th>\n",
       "      <td>2</td>\n",
       "      <td>FairPrice introduces 'store on wheels' to brin...</td>\n",
       "      <td>https://www.todayonline.com/singapore/fairpric...</td>\n",
       "      <td>SINGAPORE — Unlicensed moneylenders have incre...</td>\n",
       "    </tr>\n",
       "    <tr>\n",
       "      <th>2</th>\n",
       "      <td>3</td>\n",
       "      <td>Loan sharks in Singapore using food delivery s...</td>\n",
       "      <td>https://www.todayonline.com/singapore/loan-sha...</td>\n",
       "      <td>SINGAPORE — The management of bubble tea shop ...</td>\n",
       "    </tr>\n",
       "    <tr>\n",
       "      <th>3</th>\n",
       "      <td>4</td>\n",
       "      <td>Bubble tea shop Playmade counsels employee, ap...</td>\n",
       "      <td>https://www.todayonline.com/singapore/bubble-t...</td>\n",
       "      <td>SINGAPORE — Singapore confirmed 1,016 new case...</td>\n",
       "    </tr>\n",
       "    <tr>\n",
       "      <th>4</th>\n",
       "      <td>6</td>\n",
       "      <td>Covid-19 cases in Singapore cross 10,000-mark,...</td>\n",
       "      <td>https://www.todayonline.com/singapore/number-c...</td>\n",
       "      <td>SINGAPORE — About 150 people did not care to k...</td>\n",
       "    </tr>\n",
       "    <tr>\n",
       "      <th>5</th>\n",
       "      <td>7</td>\n",
       "      <td>More than 200 people face fines for not comply...</td>\n",
       "      <td>https://www.todayonline.com/singapore/more-200...</td>\n",
       "      <td>SINGAPORE — The Singapore Medical Council (SMC...</td>\n",
       "    </tr>\n",
       "    <tr>\n",
       "      <th>6</th>\n",
       "      <td>8</td>\n",
       "      <td>SMC says it ‘acted immediately’ on complaint a...</td>\n",
       "      <td>https://www.todayonline.com/singapore/smc-says...</td>\n",
       "      <td>SINGAPORE — As the economy comes almost to a s...</td>\n",
       "    </tr>\n",
       "    <tr>\n",
       "      <th>7</th>\n",
       "      <td>9</td>\n",
       "      <td>Economists downgrade Singapore's GDP forecast ...</td>\n",
       "      <td>https://www.todayonline.com/singapore/shock-si...</td>\n",
       "      <td>Stay woke: t.me/todayonlinesgSINGAPORE — Most ...</td>\n",
       "    </tr>\n",
       "  </tbody>\n",
       "</table>\n",
       "</div>"
      ],
      "text/plain": [
       "  Sno                                              Title  \\\n",
       "0   1  F&B brands you may not have known are still op...   \n",
       "1   2  FairPrice introduces 'store on wheels' to brin...   \n",
       "2   3  Loan sharks in Singapore using food delivery s...   \n",
       "3   4  Bubble tea shop Playmade counsels employee, ap...   \n",
       "4   6  Covid-19 cases in Singapore cross 10,000-mark,...   \n",
       "5   7  More than 200 people face fines for not comply...   \n",
       "6   8  SMC says it ‘acted immediately’ on complaint a...   \n",
       "7   9  Economists downgrade Singapore's GDP forecast ...   \n",
       "\n",
       "                                                 URL  \\\n",
       "0  https://www.todayonline.com/singapore/fb-brand...   \n",
       "1  https://www.todayonline.com/singapore/fairpric...   \n",
       "2  https://www.todayonline.com/singapore/loan-sha...   \n",
       "3  https://www.todayonline.com/singapore/bubble-t...   \n",
       "4  https://www.todayonline.com/singapore/number-c...   \n",
       "5  https://www.todayonline.com/singapore/more-200...   \n",
       "6  https://www.todayonline.com/singapore/smc-says...   \n",
       "7  https://www.todayonline.com/singapore/shock-si...   \n",
       "\n",
       "                                             Summary  \n",
       "0  SINGAPORE — Singapore's largest supermarket ch...  \n",
       "1  SINGAPORE — Unlicensed moneylenders have incre...  \n",
       "2  SINGAPORE — The management of bubble tea shop ...  \n",
       "3  SINGAPORE — Singapore confirmed 1,016 new case...  \n",
       "4  SINGAPORE — About 150 people did not care to k...  \n",
       "5  SINGAPORE — The Singapore Medical Council (SMC...  \n",
       "6  SINGAPORE — As the economy comes almost to a s...  \n",
       "7  Stay woke: t.me/todayonlinesgSINGAPORE — Most ...  "
      ]
     },
     "execution_count": 26,
     "metadata": {},
     "output_type": "execute_result"
    }
   ],
   "source": [
    "for n in range(0, df_to.shape[0]):\n",
    "    \n",
    "    t.url(df_to.URL[n])\n",
    "    t.wait(4)\n",
    "    \n",
    "    number_p = t.count('//div/p[not(@class)]')\n",
    "    print(number_p)\n",
    "    Content = \"\"\n",
    "    \n",
    "    for i in range(1, number_p-2):\n",
    "        cont=t.read('//div/p[not(@class)][{}]'.format(i))\n",
    "        Content = Content + \"\" + cont\n",
    "    print(Content)   \n",
    "    summaries = Summarize(df_to.Title[n], unicode(str(Content), \"utf-8\"))\n",
    "    df_to.iloc[n-1, 3] = summaries[0]\n",
    "    \n",
    "df_to"
   ]
  },
  {
   "cell_type": "code",
   "execution_count": 27,
   "metadata": {},
   "outputs": [
    {
     "data": {
      "text/html": [
       "<div>\n",
       "<style scoped>\n",
       "    .dataframe tbody tr th:only-of-type {\n",
       "        vertical-align: middle;\n",
       "    }\n",
       "\n",
       "    .dataframe tbody tr th {\n",
       "        vertical-align: top;\n",
       "    }\n",
       "\n",
       "    .dataframe thead th {\n",
       "        text-align: right;\n",
       "    }\n",
       "</style>\n",
       "<table border=\"1\" class=\"dataframe\">\n",
       "  <thead>\n",
       "    <tr style=\"text-align: right;\">\n",
       "      <th></th>\n",
       "      <th>Sno</th>\n",
       "      <th>Title</th>\n",
       "      <th>URL</th>\n",
       "      <th>Summary</th>\n",
       "    </tr>\n",
       "  </thead>\n",
       "  <tbody>\n",
       "    <tr>\n",
       "      <th>0</th>\n",
       "      <td>1</td>\n",
       "      <td>F&amp;B brands you may not have known are still op...</td>\n",
       "      <td>https://www.todayonline.com/singapore/fb-brand...</td>\n",
       "      <td>SINGAPORE — Singapore's largest supermarket ch...</td>\n",
       "    </tr>\n",
       "    <tr>\n",
       "      <th>1</th>\n",
       "      <td>2</td>\n",
       "      <td>FairPrice introduces 'store on wheels' to brin...</td>\n",
       "      <td>https://www.todayonline.com/singapore/fairpric...</td>\n",
       "      <td>SINGAPORE — Unlicensed moneylenders have incre...</td>\n",
       "    </tr>\n",
       "    <tr>\n",
       "      <th>2</th>\n",
       "      <td>3</td>\n",
       "      <td>Loan sharks in Singapore using food delivery s...</td>\n",
       "      <td>https://www.todayonline.com/singapore/loan-sha...</td>\n",
       "      <td>SINGAPORE — The management of bubble tea shop ...</td>\n",
       "    </tr>\n",
       "    <tr>\n",
       "      <th>3</th>\n",
       "      <td>4</td>\n",
       "      <td>Bubble tea shop Playmade counsels employee, ap...</td>\n",
       "      <td>https://www.todayonline.com/singapore/bubble-t...</td>\n",
       "      <td>SINGAPORE — Singapore confirmed 1,016 new case...</td>\n",
       "    </tr>\n",
       "    <tr>\n",
       "      <th>4</th>\n",
       "      <td>6</td>\n",
       "      <td>Covid-19 cases in Singapore cross 10,000-mark,...</td>\n",
       "      <td>https://www.todayonline.com/singapore/number-c...</td>\n",
       "      <td>SINGAPORE — About 150 people did not care to k...</td>\n",
       "    </tr>\n",
       "    <tr>\n",
       "      <th>5</th>\n",
       "      <td>7</td>\n",
       "      <td>More than 200 people face fines for not comply...</td>\n",
       "      <td>https://www.todayonline.com/singapore/more-200...</td>\n",
       "      <td>SINGAPORE — The Singapore Medical Council (SMC...</td>\n",
       "    </tr>\n",
       "    <tr>\n",
       "      <th>6</th>\n",
       "      <td>8</td>\n",
       "      <td>SMC says it ‘acted immediately’ on complaint a...</td>\n",
       "      <td>https://www.todayonline.com/singapore/smc-says...</td>\n",
       "      <td>SINGAPORE — As the economy comes almost to a s...</td>\n",
       "    </tr>\n",
       "    <tr>\n",
       "      <th>7</th>\n",
       "      <td>9</td>\n",
       "      <td>Economists downgrade Singapore's GDP forecast ...</td>\n",
       "      <td>https://www.todayonline.com/singapore/shock-si...</td>\n",
       "      <td>Stay woke: t.me/todayonlinesgSINGAPORE — Most ...</td>\n",
       "    </tr>\n",
       "  </tbody>\n",
       "</table>\n",
       "</div>"
      ],
      "text/plain": [
       "  Sno                                              Title  \\\n",
       "0   1  F&B brands you may not have known are still op...   \n",
       "1   2  FairPrice introduces 'store on wheels' to brin...   \n",
       "2   3  Loan sharks in Singapore using food delivery s...   \n",
       "3   4  Bubble tea shop Playmade counsels employee, ap...   \n",
       "4   6  Covid-19 cases in Singapore cross 10,000-mark,...   \n",
       "5   7  More than 200 people face fines for not comply...   \n",
       "6   8  SMC says it ‘acted immediately’ on complaint a...   \n",
       "7   9  Economists downgrade Singapore's GDP forecast ...   \n",
       "\n",
       "                                                 URL  \\\n",
       "0  https://www.todayonline.com/singapore/fb-brand...   \n",
       "1  https://www.todayonline.com/singapore/fairpric...   \n",
       "2  https://www.todayonline.com/singapore/loan-sha...   \n",
       "3  https://www.todayonline.com/singapore/bubble-t...   \n",
       "4  https://www.todayonline.com/singapore/number-c...   \n",
       "5  https://www.todayonline.com/singapore/more-200...   \n",
       "6  https://www.todayonline.com/singapore/smc-says...   \n",
       "7  https://www.todayonline.com/singapore/shock-si...   \n",
       "\n",
       "                                             Summary  \n",
       "0  SINGAPORE — Singapore's largest supermarket ch...  \n",
       "1  SINGAPORE — Unlicensed moneylenders have incre...  \n",
       "2  SINGAPORE — The management of bubble tea shop ...  \n",
       "3  SINGAPORE — Singapore confirmed 1,016 new case...  \n",
       "4  SINGAPORE — About 150 people did not care to k...  \n",
       "5  SINGAPORE — The Singapore Medical Council (SMC...  \n",
       "6  SINGAPORE — As the economy comes almost to a s...  \n",
       "7  Stay woke: t.me/todayonlinesgSINGAPORE — Most ...  "
      ]
     },
     "execution_count": 27,
     "metadata": {},
     "output_type": "execute_result"
    }
   ],
   "source": [
    "df_to"
   ]
  },
  {
   "cell_type": "code",
   "execution_count": 28,
   "metadata": {},
   "outputs": [],
   "source": [
    "df_to.to_csv(\"Today_online_summary.csv\", encoding = 'utf-8')"
   ]
  },
  {
   "cell_type": "code",
   "execution_count": 29,
   "metadata": {},
   "outputs": [
    {
     "data": {
      "text/plain": [
       "u'SINGAPORE \\u2014 Singapore\\'s largest supermarket chain will roll out an initiative called FairPrice on Wheels, to allow residents in selected areas to buy groceries without venturing too far from home during the extended Covid-19 \"circuit-breaker\" period.From Thursday (April 23), a FairPrice van will stop by five locations \\u2014 at Commonwealth Link, Telok Blangah Crescent, Telok Blangah Rise, Kampong Glam Community Club and Jalan Kukoh \\u2014 from 9am to 2pm daily.It will be stocked with essential items such as rice, milk, cooking oil, bread, fruit, vegetables and toiletries.Only cash payments will be accepted, and the usual purchase limits apply.\\u201cWhile we encourage everyone to stay home during the circuit breaker period, we also understand that there may be people who do not have the option to have their groceries purchased on their behalf,\" said FairPrice Group CEO Seah Kian Peng.\"Therefore, we aim to bring daily essentials closer to their homes, especially for seniors, so that they do not have to spend too much time away from home.\"He added that the initiative will also make it more convenient for residents to help their elderly neighbours with the purchase of groceries.Demographic data showing locations where over 30 per cent of residents are seniors was used to determine the five locations, said FairPrice in a press release.'"
      ]
     },
     "execution_count": 29,
     "metadata": {},
     "output_type": "execute_result"
    }
   ],
   "source": [
    "df_to.Summary[0]"
   ]
  },
  {
   "cell_type": "code",
   "execution_count": null,
   "metadata": {},
   "outputs": [],
   "source": []
  }
 ],
 "metadata": {
  "kernelspec": {
   "display_name": "Python2.7",
   "language": "python",
   "name": "python2.7"
  },
  "language_info": {
   "codemirror_mode": {
    "name": "ipython",
    "version": 2
   },
   "file_extension": ".py",
   "mimetype": "text/x-python",
   "name": "python",
   "nbconvert_exporter": "python",
   "pygments_lexer": "ipython2",
   "version": "2.7.16"
  }
 },
 "nbformat": 4,
 "nbformat_minor": 2
}
