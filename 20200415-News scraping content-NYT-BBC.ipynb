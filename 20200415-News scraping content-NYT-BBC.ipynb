{
 "cells": [
  {
   "cell_type": "markdown",
   "metadata": {},
   "source": [
    "# News scraping content and summarization\n",
    "\n",
    "### <span style=\"color:red\">Runs in python 2.7</span>"
   ]
  },
  {
   "cell_type": "markdown",
   "metadata": {},
   "source": [
    "## New York Times"
   ]
  },
  {
   "cell_type": "code",
   "execution_count": 1,
   "metadata": {},
   "outputs": [],
   "source": [
    "# !pip install pyteaser"
   ]
  },
  {
   "cell_type": "code",
   "execution_count": 2,
   "metadata": {},
   "outputs": [],
   "source": [
    "from pyteaser import Summarize, SummarizeUrl\n",
    "from pprint import pprint\n",
    "import pandas as pd\n"
   ]
  },
  {
   "cell_type": "code",
   "execution_count": 3,
   "metadata": {},
   "outputs": [],
   "source": [
    "import tagui as t"
   ]
  },
  {
   "cell_type": "code",
   "execution_count": 4,
   "metadata": {},
   "outputs": [],
   "source": [
    "#t.close()"
   ]
  },
  {
   "cell_type": "code",
   "execution_count": 5,
   "metadata": {},
   "outputs": [
    {
     "data": {
      "text/plain": [
       "True"
      ]
     },
     "execution_count": 5,
     "metadata": {},
     "output_type": "execute_result"
    }
   ],
   "source": [
    "t.init(visual_automation = True, chrome_browser = True)\n",
    "t.url('https://www.nytimes.com/trending/')"
   ]
  },
  {
   "cell_type": "code",
   "execution_count": 6,
   "metadata": {},
   "outputs": [
    {
     "data": {
      "text/plain": [
       "12"
      ]
     },
     "execution_count": 6,
     "metadata": {},
     "output_type": "execute_result"
    }
   ],
   "source": [
    "number = t.count('(//li[contains(@class, \"css-1iski2w\")]/a)')\n",
    "\n",
    "number"
   ]
  },
  {
   "cell_type": "code",
   "execution_count": 7,
   "metadata": {},
   "outputs": [
    {
     "name": "stderr",
     "output_type": "stream",
     "text": [
      "/Users/binbin/Documents/Vitual_Evn/py2.7/lib/python2.7/site-packages/BeautifulSoup.py:114: UserWarning: You are using a very old release of Beautiful Soup, last updated in 2011. If you installed the 'beautifulsoup' package through pip, you should know the 'beautifulsoup' package name is about to be reclaimed by a more recent version of Beautiful Soup which is incompatible with this version.\n",
      "\n",
      "This will happen at some point after January 1, 2021.\n",
      "\n",
      "If you just started this project, this is easy to fix. Install the 'beautifulsoup4' package instead of 'beautifulsoup' and start using Beautiful Soup 4.\n",
      "\n",
      "If this is an existing project that depends on Beautiful Soup 3, the project maintainer (potentially you) needs to start the process of migrating to Beautiful Soup 4. This should be a relatively easy part of the Python 3 migration.\n",
      "\n",
      "  \"\"\")\n"
     ]
    },
    {
     "name": "stdout",
     "output_type": "stream",
     "text": [
      "IOError\n",
      "IOError\n"
     ]
    },
    {
     "data": {
      "text/html": [
       "<div>\n",
       "<style scoped>\n",
       "    .dataframe tbody tr th:only-of-type {\n",
       "        vertical-align: middle;\n",
       "    }\n",
       "\n",
       "    .dataframe tbody tr th {\n",
       "        vertical-align: top;\n",
       "    }\n",
       "\n",
       "    .dataframe thead th {\n",
       "        text-align: right;\n",
       "    }\n",
       "</style>\n",
       "<table border=\"1\" class=\"dataframe\">\n",
       "  <thead>\n",
       "    <tr style=\"text-align: right;\">\n",
       "      <th></th>\n",
       "      <th>Sno</th>\n",
       "      <th>Title</th>\n",
       "      <th>URL</th>\n",
       "      <th>Summary</th>\n",
       "    </tr>\n",
       "  </thead>\n",
       "  <tbody>\n",
       "    <tr>\n",
       "      <th>0</th>\n",
       "      <td>1</td>\n",
       "      <td>Coronavirus Live Updates: Retail Sales Show St...</td>\n",
       "      <td>https://www.nytimes.com/2020/04/15/us/coronavi...</td>\n",
       "      <td>[\\n\\nAnd the transit system serving Eugene, Or...</td>\n",
       "    </tr>\n",
       "    <tr>\n",
       "      <th>1</th>\n",
       "      <td>2</td>\n",
       "      <td>Coronavirus in the U.S.: Latest Map and Case C...</td>\n",
       "      <td>https://www.nytimes.com/interactive/2020/us/co...</td>\n",
       "      <td>None</td>\n",
       "    </tr>\n",
       "    <tr>\n",
       "      <th>2</th>\n",
       "      <td>3</td>\n",
       "      <td>After Coronavirus, Colleges Worry: Will Studen...</td>\n",
       "      <td>https://www.nytimes.com/2020/04/15/us/coronavi...</td>\n",
       "      <td>[There are some 4,000 two-year and four-year p...</td>\n",
       "    </tr>\n",
       "    <tr>\n",
       "      <th>3</th>\n",
       "      <td>4</td>\n",
       "      <td>Global Criticism for Trump’s W.H.O. Cuts Over ...</td>\n",
       "      <td>https://www.nytimes.com/2020/04/15/world/coron...</td>\n",
       "      <td>[The coronavirus is still claiming hundreds of...</td>\n",
       "    </tr>\n",
       "    <tr>\n",
       "      <th>4</th>\n",
       "      <td>5</td>\n",
       "      <td>I’m an E.R. Doctor in New York. None of Us Wil...</td>\n",
       "      <td>https://www.nytimes.com/2020/04/14/magazine/co...</td>\n",
       "      <td>[Every day, Brambillasca feels inadequate. “I ...</td>\n",
       "    </tr>\n",
       "    <tr>\n",
       "      <th>5</th>\n",
       "      <td>6</td>\n",
       "      <td>Trump Has a Gut Feeling About What Covid-19 Me...</td>\n",
       "      <td>https://www.nytimes.com/2020/04/15/opinion/cor...</td>\n",
       "      <td>[The unemployed are exposed to messages that s...</td>\n",
       "    </tr>\n",
       "    <tr>\n",
       "      <th>6</th>\n",
       "      <td>7</td>\n",
       "      <td>The Heartbreaking Last Texts of a Hospital Wor...</td>\n",
       "      <td>https://www.nytimes.com/2020/04/15/nyregion/co...</td>\n",
       "      <td>[She had been a doctor in India, then trained ...</td>\n",
       "    </tr>\n",
       "    <tr>\n",
       "      <th>7</th>\n",
       "      <td>8</td>\n",
       "      <td>Reese Witherspoon’s Fashion Line Offered Free ...</td>\n",
       "      <td>https://www.nytimes.com/2020/04/15/fashion/ree...</td>\n",
       "      <td>[Giving away $40 million in dresses may even h...</td>\n",
       "    </tr>\n",
       "    <tr>\n",
       "      <th>8</th>\n",
       "      <td>9</td>\n",
       "      <td>This 3-D Simulation Shows Why Social Distancin...</td>\n",
       "      <td>https://www.nytimes.com/interactive/2020/04/14...</td>\n",
       "      <td>[Public health experts and elected officials h...</td>\n",
       "    </tr>\n",
       "    <tr>\n",
       "      <th>9</th>\n",
       "      <td>10</td>\n",
       "      <td>Coronavirus Map: Tracking the Global Outbreak</td>\n",
       "      <td>https://www.nytimes.com/interactive/2020/world...</td>\n",
       "      <td>None</td>\n",
       "    </tr>\n",
       "    <tr>\n",
       "      <th>10</th>\n",
       "      <td>11</td>\n",
       "      <td>Stocks Slide as Retail Sales Suffer Historic P...</td>\n",
       "      <td>https://www.nytimes.com/2020/04/15/business/st...</td>\n",
       "      <td>[The Federal Reserve is about to jump into the...</td>\n",
       "    </tr>\n",
       "    <tr>\n",
       "      <th>11</th>\n",
       "      <td>12</td>\n",
       "      <td>He Could Have Seen What Was Coming: Behind Tru...</td>\n",
       "      <td>https://www.nytimes.com/2020/04/11/us/politics...</td>\n",
       "      <td>[ But in the turbulence of the Trump White Hou...</td>\n",
       "    </tr>\n",
       "  </tbody>\n",
       "</table>\n",
       "</div>"
      ],
      "text/plain": [
       "   Sno                                              Title  \\\n",
       "0    1  Coronavirus Live Updates: Retail Sales Show St...   \n",
       "1    2  Coronavirus in the U.S.: Latest Map and Case C...   \n",
       "2    3  After Coronavirus, Colleges Worry: Will Studen...   \n",
       "3    4  Global Criticism for Trump’s W.H.O. Cuts Over ...   \n",
       "4    5  I’m an E.R. Doctor in New York. None of Us Wil...   \n",
       "5    6  Trump Has a Gut Feeling About What Covid-19 Me...   \n",
       "6    7  The Heartbreaking Last Texts of a Hospital Wor...   \n",
       "7    8  Reese Witherspoon’s Fashion Line Offered Free ...   \n",
       "8    9  This 3-D Simulation Shows Why Social Distancin...   \n",
       "9   10      Coronavirus Map: Tracking the Global Outbreak   \n",
       "10  11  Stocks Slide as Retail Sales Suffer Historic P...   \n",
       "11  12  He Could Have Seen What Was Coming: Behind Tru...   \n",
       "\n",
       "                                                  URL  \\\n",
       "0   https://www.nytimes.com/2020/04/15/us/coronavi...   \n",
       "1   https://www.nytimes.com/interactive/2020/us/co...   \n",
       "2   https://www.nytimes.com/2020/04/15/us/coronavi...   \n",
       "3   https://www.nytimes.com/2020/04/15/world/coron...   \n",
       "4   https://www.nytimes.com/2020/04/14/magazine/co...   \n",
       "5   https://www.nytimes.com/2020/04/15/opinion/cor...   \n",
       "6   https://www.nytimes.com/2020/04/15/nyregion/co...   \n",
       "7   https://www.nytimes.com/2020/04/15/fashion/ree...   \n",
       "8   https://www.nytimes.com/interactive/2020/04/14...   \n",
       "9   https://www.nytimes.com/interactive/2020/world...   \n",
       "10  https://www.nytimes.com/2020/04/15/business/st...   \n",
       "11  https://www.nytimes.com/2020/04/11/us/politics...   \n",
       "\n",
       "                                              Summary  \n",
       "0   [\\n\\nAnd the transit system serving Eugene, Or...  \n",
       "1                                                None  \n",
       "2   [There are some 4,000 two-year and four-year p...  \n",
       "3   [The coronavirus is still claiming hundreds of...  \n",
       "4   [Every day, Brambillasca feels inadequate. “I ...  \n",
       "5   [The unemployed are exposed to messages that s...  \n",
       "6   [She had been a doctor in India, then trained ...  \n",
       "7   [Giving away $40 million in dresses may even h...  \n",
       "8   [Public health experts and elected officials h...  \n",
       "9                                                None  \n",
       "10  [The Federal Reserve is about to jump into the...  \n",
       "11  [ But in the turbulence of the Trump White Hou...  "
      ]
     },
     "execution_count": 7,
     "metadata": {},
     "output_type": "execute_result"
    }
   ],
   "source": [
    "df = pd.DataFrame(index=range(0,number), columns = ['Sno', 'Title', 'URL', 'Summary'])\n",
    "\n",
    "\n",
    "for n in range(1, number+1):\n",
    "    title=t.read('//li[contains(@class, \"css-1iski2w\")][{}]/a/div'.format(n))\n",
    "    URL=t.read('//li[contains(@class, \"css-1iski2w\")][{}]//@href'.format(n))\n",
    "    summaries = SummarizeUrl(URL)\n",
    "    \n",
    "    df.iloc[n-1, 0] = n\n",
    "    df.iloc[n-1, 1] = title\n",
    "    df.iloc[n-1, 2] = URL\n",
    "    df.iloc[n-1, 3] = summaries\n",
    "\n",
    "df"
   ]
  },
  {
   "cell_type": "markdown",
   "metadata": {},
   "source": [
    "### One example for summary"
   ]
  },
  {
   "cell_type": "code",
   "execution_count": 9,
   "metadata": {},
   "outputs": [
    {
     "name": "stdout",
     "output_type": "stream",
     "text": [
      "Title: Coronavirus Live Updates: Retail Sales Show Steepest Drop on Record\n",
      "\n",
      "Summary: [u'\\n\\nAnd the transit system serving Eugene, Ore., Lane Transit District, also recently required bus riders to wear masks.', u'Murphy also mandated that transit employees wear gloves and masks after one of its conductors died from virus complications.', u'Phil Murphy of New Jersey announced that transit riders older than 3 would need to wear masks on trains and buses or else be denied service.', u'Paris Banks sprayed the seat with Lysol before sliding into the last row on the right.', u'Rochell Brown put out her cigarette, tucked herself behind the steering wheel and slapped the doors shut.']\n"
     ]
    }
   ],
   "source": [
    "print(\"Title: \"+str(df.iloc[0, 1])+\"\\n\")\n",
    "print(\"Summary: \"+str(df.iloc[0, 3]))"
   ]
  },
  {
   "cell_type": "code",
   "execution_count": 10,
   "metadata": {},
   "outputs": [],
   "source": [
    "df.to_csv(\"NYT_summary.csv\")"
   ]
  },
  {
   "cell_type": "markdown",
   "metadata": {},
   "source": [
    "## BBC News (from API)"
   ]
  },
  {
   "cell_type": "code",
   "execution_count": 11,
   "metadata": {},
   "outputs": [],
   "source": [
    "# BBC top news\n",
    "import requests     \n",
    " \n",
    "def NewsFromBBC():\n",
    "     \n",
    "    # BBC news api\n",
    "    main_url = \" https://newsapi.org/v1/articles?source=bbc-news&sortBy=top&apiKey=4dbc17e007ab436fb66416009dfb59a8\"\n",
    " \n",
    "    # fetching data in json format\n",
    "    open_bbc_page = requests.get(main_url).json()\n",
    " \n",
    "    # getting all articles in a string article\n",
    "    article = open_bbc_page[\"articles\"]\n",
    " \n",
    "    # empty list which will \n",
    "    # contain all trending news\n",
    "    results = []\n",
    "    url = []\n",
    "     \n",
    "    for ar in article:\n",
    "        results.append(ar[\"title\"])\n",
    "        url.append(ar[\"url\"])\n",
    "         \n",
    "        number_BBC = len(results)\n",
    "    \n",
    "    return results, url, number_BBC\n",
    " \n",
    "\n",
    "if __name__ == '__main__':\n",
    "     \n",
    "# function call\n",
    "\n",
    "    results, url, number_BBC = NewsFromBBC()\n",
    "    \n",
    "    df_BBC = pd.DataFrame(index=range(0,number_BBC), columns = ['Sno', 'Title', 'URL', 'Summary'])\n",
    "\n",
    "\n",
    "    for i in range(1, number_BBC):\n",
    "\n",
    "        summaries = SummarizeUrl(url[i])\n",
    "\n",
    "        df_BBC.iloc[i-1, 0] = i\n",
    "        df_BBC.iloc[i-1, 1] = results[i]\n",
    "        df_BBC.iloc[i-1, 2] = url[i]\n",
    "        df_BBC.iloc[i-1, 3] = summaries\n",
    "\n",
    "    df_BBC"
   ]
  },
  {
   "cell_type": "code",
   "execution_count": 12,
   "metadata": {},
   "outputs": [
    {
     "data": {
      "text/html": [
       "<div>\n",
       "<style scoped>\n",
       "    .dataframe tbody tr th:only-of-type {\n",
       "        vertical-align: middle;\n",
       "    }\n",
       "\n",
       "    .dataframe tbody tr th {\n",
       "        vertical-align: top;\n",
       "    }\n",
       "\n",
       "    .dataframe thead th {\n",
       "        text-align: right;\n",
       "    }\n",
       "</style>\n",
       "<table border=\"1\" class=\"dataframe\">\n",
       "  <thead>\n",
       "    <tr style=\"text-align: right;\">\n",
       "      <th></th>\n",
       "      <th>Sno</th>\n",
       "      <th>Title</th>\n",
       "      <th>URL</th>\n",
       "      <th>Summary</th>\n",
       "    </tr>\n",
       "  </thead>\n",
       "  <tbody>\n",
       "    <tr>\n",
       "      <th>0</th>\n",
       "      <td>1</td>\n",
       "      <td>Trump's WHO de-funding 'as dangerous as it sou...</td>\n",
       "      <td>http://www.bbc.co.uk/news/world-us-canada-5229...</td>\n",
       "      <td>[Mr Trump has been under fire for his own hand...</td>\n",
       "    </tr>\n",
       "    <tr>\n",
       "      <th>1</th>\n",
       "      <td>2</td>\n",
       "      <td>Do celebrities still matter in a crisis?</td>\n",
       "      <td>http://www.bbc.co.uk/news/world-us-canada-5227...</td>\n",
       "      <td>[Why we touch our faces and how to stop doing ...</td>\n",
       "    </tr>\n",
       "    <tr>\n",
       "      <th>2</th>\n",
       "      <td>3</td>\n",
       "      <td>Amazon boss Jeff Bezos adds $24bn to fortune</td>\n",
       "      <td>http://www.bbc.co.uk/news/business-52289657</td>\n",
       "      <td>[The Waltons saw their net worth rise 5% this ...</td>\n",
       "    </tr>\n",
       "    <tr>\n",
       "      <th>3</th>\n",
       "      <td>4</td>\n",
       "      <td>Denmark lets young children return to school</td>\n",
       "      <td>http://www.bbc.co.uk/news/world-europe-52291326</td>\n",
       "      <td>[Children up to the age of 11 are returning to...</td>\n",
       "    </tr>\n",
       "    <tr>\n",
       "      <th>4</th>\n",
       "      <td>5</td>\n",
       "      <td>The mystery of Nigeria's fake gangster attacks</td>\n",
       "      <td>http://www.bbc.co.uk/news/world-africa-52285271</td>\n",
       "      <td>[But there was no proof of armed robbery attac...</td>\n",
       "    </tr>\n",
       "    <tr>\n",
       "      <th>5</th>\n",
       "      <td>6</td>\n",
       "      <td>Trump’s name to appear on US virus relief cheques</td>\n",
       "      <td>http://www.bbc.co.uk/news/world-52293910</td>\n",
       "      <td>[President Donald Trump’s name will be printed...</td>\n",
       "    </tr>\n",
       "    <tr>\n",
       "      <th>6</th>\n",
       "      <td>7</td>\n",
       "      <td>Migrants throng station as India extends lockdown</td>\n",
       "      <td>http://www.bbc.co.uk/news/world-asia-india-522...</td>\n",
       "      <td>[Police in the Indian city of Mumbai forcibly ...</td>\n",
       "    </tr>\n",
       "    <tr>\n",
       "      <th>7</th>\n",
       "      <td>8</td>\n",
       "      <td>Tour de France to go ahead at end of August af...</td>\n",
       "      <td>http://www.bbc.co.uk/sport/cycling/52275648</td>\n",
       "      <td>[But Tour organiser ASO said it will also be p...</td>\n",
       "    </tr>\n",
       "    <tr>\n",
       "      <th>8</th>\n",
       "      <td>9</td>\n",
       "      <td>McDonald's workers file $500m sexual harassmen...</td>\n",
       "      <td>http://www.bbc.co.uk/news/world-us-canada-5228...</td>\n",
       "      <td>[Two McDonald's employees in Florida have file...</td>\n",
       "    </tr>\n",
       "    <tr>\n",
       "      <th>9</th>\n",
       "      <td>NaN</td>\n",
       "      <td>NaN</td>\n",
       "      <td>NaN</td>\n",
       "      <td>NaN</td>\n",
       "    </tr>\n",
       "  </tbody>\n",
       "</table>\n",
       "</div>"
      ],
      "text/plain": [
       "   Sno                                              Title  \\\n",
       "0    1  Trump's WHO de-funding 'as dangerous as it sou...   \n",
       "1    2           Do celebrities still matter in a crisis?   \n",
       "2    3       Amazon boss Jeff Bezos adds $24bn to fortune   \n",
       "3    4       Denmark lets young children return to school   \n",
       "4    5     The mystery of Nigeria's fake gangster attacks   \n",
       "5    6  Trump’s name to appear on US virus relief cheques   \n",
       "6    7  Migrants throng station as India extends lockdown   \n",
       "7    8  Tour de France to go ahead at end of August af...   \n",
       "8    9  McDonald's workers file $500m sexual harassmen...   \n",
       "9  NaN                                                NaN   \n",
       "\n",
       "                                                 URL  \\\n",
       "0  http://www.bbc.co.uk/news/world-us-canada-5229...   \n",
       "1  http://www.bbc.co.uk/news/world-us-canada-5227...   \n",
       "2        http://www.bbc.co.uk/news/business-52289657   \n",
       "3    http://www.bbc.co.uk/news/world-europe-52291326   \n",
       "4    http://www.bbc.co.uk/news/world-africa-52285271   \n",
       "5           http://www.bbc.co.uk/news/world-52293910   \n",
       "6  http://www.bbc.co.uk/news/world-asia-india-522...   \n",
       "7        http://www.bbc.co.uk/sport/cycling/52275648   \n",
       "8  http://www.bbc.co.uk/news/world-us-canada-5228...   \n",
       "9                                                NaN   \n",
       "\n",
       "                                             Summary  \n",
       "0  [Mr Trump has been under fire for his own hand...  \n",
       "1  [Why we touch our faces and how to stop doing ...  \n",
       "2  [The Waltons saw their net worth rise 5% this ...  \n",
       "3  [Children up to the age of 11 are returning to...  \n",
       "4  [But there was no proof of armed robbery attac...  \n",
       "5  [President Donald Trump’s name will be printed...  \n",
       "6  [Police in the Indian city of Mumbai forcibly ...  \n",
       "7  [But Tour organiser ASO said it will also be p...  \n",
       "8  [Two McDonald's employees in Florida have file...  \n",
       "9                                                NaN  "
      ]
     },
     "execution_count": 12,
     "metadata": {},
     "output_type": "execute_result"
    }
   ],
   "source": [
    "df_BBC"
   ]
  },
  {
   "cell_type": "code",
   "execution_count": 13,
   "metadata": {},
   "outputs": [],
   "source": [
    "df.to_csv(\"BBC_summary.csv\")"
   ]
  },
  {
   "cell_type": "code",
   "execution_count": null,
   "metadata": {},
   "outputs": [],
   "source": []
  }
 ],
 "metadata": {
  "kernelspec": {
   "display_name": "Python2.7",
   "language": "python",
   "name": "python2.7"
  },
  "language_info": {
   "codemirror_mode": {
    "name": "ipython",
    "version": 2
   },
   "file_extension": ".py",
   "mimetype": "text/x-python",
   "name": "python",
   "nbconvert_exporter": "python",
   "pygments_lexer": "ipython2",
   "version": "2.7.16"
  }
 },
 "nbformat": 4,
 "nbformat_minor": 2
}
