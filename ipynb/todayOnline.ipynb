{
 "cells": [
  {
   "cell_type": "code",
   "execution_count": 1,
   "metadata": {},
   "outputs": [],
   "source": [
    "from pyteaser import Summarize, SummarizeUrl\n",
    "from pprint import pprint\n",
    "import pandas as pd\n",
    "import numpy as np\n",
    "import tagui as t\n",
    "import urllib\n",
    "import sqlite3\n",
    "from sqlite3 import Error\n",
    "from datetime import datetime"
   ]
  },
  {
   "cell_type": "code",
   "execution_count": 2,
   "metadata": {},
   "outputs": [
    {
     "name": "stdout",
     "output_type": "stream",
     "text": [
      "DB Connection setup\n"
     ]
    }
   ],
   "source": [
    "def create_connection(db_file):\n",
    "    \"\"\" create a database connection to a SQLite database \"\"\"\n",
    "    conn = None\n",
    "    try:\n",
    "        conn = sqlite3.connect(db_file)\n",
    "        print(\"DB Connection setup\")\n",
    "    except Error as e:\n",
    "        print(e)\n",
    "    finally:\n",
    "        if conn:\n",
    "            return conn\n",
    "        else:\n",
    "            print(\"DB Connection failed\")\n",
    "\n",
    "\n",
    "if __name__ == '__main__':\n",
    "    conn = create_connection(\"./db/news.db\")"
   ]
  },
  {
   "cell_type": "code",
   "execution_count": 3,
   "metadata": {},
   "outputs": [],
   "source": [
    "def getSiteByName(name):\n",
    "    cur = conn.cursor()\n",
    "    cur.execute(\"SELECT * FROM site where name=?\",(name,))\n",
    "    rows = cur.fetchall()\n",
    "    return rows\n",
    "site = getSiteByName(\"Today Online\")\n",
    "site_url = site[0][2]\n",
    "site_id = site[0][0]"
   ]
  },
  {
   "cell_type": "code",
   "execution_count": 4,
   "metadata": {},
   "outputs": [
    {
     "data": {
      "text/plain": [
       "True"
      ]
     },
     "execution_count": 4,
     "metadata": {},
     "output_type": "execute_result"
    }
   ],
   "source": [
    "t.init(visual_automation = True, chrome_browser = True)"
   ]
  },
  {
   "cell_type": "code",
   "execution_count": 5,
   "metadata": {},
   "outputs": [
    {
     "data": {
      "text/plain": [
       "True"
      ]
     },
     "execution_count": 5,
     "metadata": {},
     "output_type": "execute_result"
    }
   ],
   "source": [
    "t.url(site_url)\n",
    "t.wait(2)\n",
    "t.hover('//div[@class=\"container footer-main\"]')\n",
    "t.wait(6)"
   ]
  },
  {
   "cell_type": "code",
   "execution_count": 6,
   "metadata": {},
   "outputs": [],
   "source": [
    "number_to = t.count('(//div[@class=\"col\"]/div[contains(@class, \"today\")]/ul/li[contains(@class, \"col-md-12\")])')\n",
    "\n",
    "df_to = pd.DataFrame(index=range(0,number_to), columns = ['Sno', 'Title', 'URL', 'Summary','Img_URL'])\n",
    "\n",
    "t.hover('//div[@class=\"container footer-main\"]')\n",
    "t.wait(2)\n",
    "\n",
    "for n in range(1, number_to):\n",
    "    title=t.read('//div[@class=\"col\"]/div[contains(@class, \"today\")]/ul/li[contains(@class, \"col-md-12\")][{}]//div[contains(@class, \"article-listing_content\")]//h2'.format(n))\n",
    "    URL_o=t.read('//div[@class=\"col\"]/div[contains(@class, \"today\")]/ul/li[contains(@class, \"col-md-12\")][{}]//@href'.format(n))\n",
    "    URL = \"https://www.todayonline.com\" + str(URL_o) \n",
    "    \n",
    "    Img_link=t.read('//div[@class=\"col\"]/div[contains(@class, \"today\")]/ul/li[contains(@class, \"col-md-12\")][{}]//img/@src'.format(n))\n",
    "    \n",
    "    df_to.iloc[n-1, 0] = n\n",
    "    df_to.iloc[n-1, 1] = title\n",
    "    df_to.iloc[n-1, 2] = URL\n",
    "    df_to.iloc[n-1, 4] = Img_link\n"
   ]
  },
  {
   "cell_type": "code",
   "execution_count": 7,
   "metadata": {},
   "outputs": [],
   "source": [
    "for i in range(0, df_to.shape[0]):\n",
    "    if df_to['Img_URL'][i]==\"\":\n",
    "        df_to['Img_URL'][i]=np.nan\n",
    "#str(df_to['Img_URL'][i]).startswith('http')         \n",
    "df_to.dropna(subset=['Img_URL'], inplace=True, how='any')\n",
    "df_to= df_to.reset_index(drop=True)\n",
    "df_to['Sno'] = df_to.index"
   ]
  },
  {
   "cell_type": "code",
   "execution_count": 8,
   "metadata": {},
   "outputs": [
    {
     "name": "stdout",
     "output_type": "stream",
     "text": [
      "31\n",
      "SINGAPORE — From Tuesday (May 5), circuit breaker measures will be gradually eased, paving the way for certain businesses to resume operations and small groups of students to return for face-to-face lessons, a multi-ministry task force dealing with the Covid-19 outbreak said on Saturday.The measures are being eased as community transmission has decreased significantly over the past month, but National Development Minister Lawrence Wong, who co-chairs the task force, said that Singaporeans must stay disciplined and vigilant.“If there is no necessity to go out, stay at home — that must still be the mindset. Refrain from going out in groups, even if it’s with people from your own household,” he said.“We are not out of the woods… and we don't want to risk a flare up of the virus again.”When asked about whether restrictions will be eased on places of worship, Mr Wong said it will probably be “quite some time” before this happens.“We will want to refrain from any kind of close contact with people. So any premise, any event, any activity that entails large groups gathering in close proximity… those sorts of settings will have to wait for quite some time before they can resume. These will be the last we will allow.”The situation remains “challenging”, said Health Minister Gan Kim Yong, who stressed the need for Singapore to remain vigilant and “not let our guard down”.Mr Wong reiterated that the crisis is “far from over”, and Singaporeans should not take the easing of the circuit breaker measures as a signal that they can slacken on precautions and “life can go back to normal”.Here is the broad timeline that Mr Wong laid out for the easing of circuit breaker measures in the coming days:May 5:May 12:May 19:SAFE DISTANCING REQUIREMENTSAs businesses resume operations and work premises are gradually reopened, they will have to implement strict safe distancing requirements.This means that companies must continue to allow staff to work from home wherever possible, enforce safe distancing amongst their employees at the workplace, stagger working hours and break times and ensure no cross-deployment of staff across teams or worksites.They should also require every employee to wear a mask at work and ensure that there are no gatherings amongst their staff. For example, staff should not be interacting at staff canteens, or going out in groups during lunch breaks.To further support contact tracing efforts, SafeEntry must be deployed extensively across Singapore, especially at places with a higher risk of non-transient contact.This would include workplaces, malls and supermarkets.From 12 May 2020, all businesses and services that are in operation must come on board the SafeEntry system to log the check-in and check-out of employees and visitors.At schools and IHLs, students’ return will be staggered throughout the day. They will practise safe distancing and safe management measures, such as keeping to separate groups within their cohort.COULD SINGAPORE HAVE DONE BETTER?During a media conference with the task force, a question was raised about the biggest lessons learnt from the crisis and what could have been done better.Mr Wong said that Singapore is still in the “heat of battle”, but that when the crisis is over, there will be time to look back and reflect.“I have no doubt that we will find many things which we could have done better, and many changes which should be made in order for us to be better prepared next time,” he said.He added that the process of conducting a review is something the Government does after every crisis.“In fact, the lessons from the Sars (virus outbreak in 2003) have been very helpful in enabling us to deal with Covid-19,” he said. “So likewise at the right time, we will certainly do a comprehensive review of this pandemic and our response, and seek to learn from it.”Right now, the focus remains on “urgent priorities”, said Mr Wong.\n"
     ]
    },
    {
     "name": "stderr",
     "output_type": "stream",
     "text": [
      "c:\\users\\superhell\\.conda\\envs\\ca1\\lib\\site-packages\\pyteaser.py:223: UnicodeWarning: Unicode equal comparison failed to convert both arguments to Unicode - interpreting them as being unequal\n",
      "  if (word not in stopWords and word in title):\n"
     ]
    },
    {
     "name": "stdout",
     "output_type": "stream",
     "text": [
      "15\n",
      "SINGAPORE  — The suspension of the Rapid Transit System (RTS) Link project has been extended by another three months until the end of July, Singapore’s Ministry of Transport (MOT) said on Saturday (May 2).Singapore COVID-19 \"circuit breaker\" measures and Malaysia's movement control order have \"affected the pace of our discussions\", said the ministry.“Like Malaysia, we are optimistic that the discussions on the outstanding matters can be concluded within three months, using tele-conferencing and other means of communication,” it added.Malaysia’s Transport Minister Wee Ka Siong had said earlier on Saturday that bilateral discussions with Singapore on the project have been impacted by measures to stem the spread of the coronavirus on both sides of the Causeway.He added that he has discussed the status of the bilateral agreement \"closely and constantly\" with his Singapore counterpart Khaw Boon Wan.This is the third extension of the suspension at Malaysia's request.The RTS was meant to be completed in 2024. It aims to connect Bukit Chagar in Johor Bahru to Woodlands in Singapore, serving about 10,000 passengers per hour each way to help ease traffic congestion on the Causeway.In a Facebook post on Saturday, Mr Khaw said Singapore has agreed to further extend the suspension for \"a third and final time\", to Jul 31.\"As this is a final extension, I have asked our teams (MOT, LTA and SMRT) to work immediately with their Malaysian counterparts to wrap up the discussions speedily,\" he added.\"Fortunately, technology is available for us to discuss and negotiate, though nothing quite replaces face-to-face dialogue. But it can’t be helped, this is an unusual time.\"Singapore’s transport ministry said the task now is to conclude all the three key agreements in time so that they can be signed by Jul 31.The three agreements refer to the RTS Link bilateral agreement between both governments, the Joint Venture Agreement between SMRT and Malaysia’s Prasarana Malaysia to constitute a joint venture operating company, as well as a concession agreement for both governments to appoint this operating company as the RTS Link operator.\n",
      "56\n",
      "SINGAPORE — After some teething problems early on, the catered food situation at migrant worker dormitories has improved by varying degrees at the different dormitories, foreign workers told TODAY.Some workers said that they had seen a marked improvement in the variety and quality of food given but others said they were still occasionally being given meals that were undercooked or which did not suit their culture.Minister of State for Manpower Zaqy Mohamad acknowledged in a Facebook post on Wednesday (April 29) that there were some initial challenges in providing meals for these workers though things have “gotten better and are continuing to improve”.Sharing photos of the catered meals, which were accompanied with compliments from workers, he said that with 200,000 workers from at least half a dozen nationalities, the scale of organising food distribution is “enormous”.He said that despite the enormity of the task, the inter-agency task force dealing with the Covid-19 pandemic has been working to ensure food is delivered on time and that it suits the dietary and taste preferences of the workers.The Ministry of Manpower (MOM) said that its officers have been conducting taste tests with different groups of workers given that migrant workers come from different countries.It added that it has also been working with both dormitory operators and caterers to “fine-tune the operational details” including when the food is dispatched from the caterer’s kitchen to how meals are distributed to workers.As a result, feedback from the workers was that the food quality and quantity are improving, said MOM.Mr Mundla Anil Kumar, 31, who has been a resident at Tampines Dormitory for four years, agreed that the quality had indeed improved.Asked what the problem was with the food initially, Indian national who works in the construction industry said: “The vegetable was soggy and there was no gravy.”However, a week in, Mr Mundla said that there was an increase in the variety of food at his dormitory that was gazetted as an isolation area on April 9.He said he now receives Chinese fusion meals as well as vegetarian and non-vegetarian Indian and Bangladeshi meals.Fruits and packet drinks accompany his meals.Mr Mundla said that while the meals provided are not as good as what he cooks for himself, he acknowledged that it is not an easy feat to cater food on a large scale.He added that government officials and the dormitory staff have also been actively seeking feedback on the food from residents through a common WhatsApp chat group.Mr Mundla Anil Kumar, a 31-year old Indian national who works as a driver in the construction industry, said the food served at Tampines Dormitory had improved in variety and quality since the start of the circuit breaker. On Friday (April 30), he was served fish, mixed vegetable gravy and rice (left). Residents also receive apples, bottled water and carton drinks. Photo courtesy of Mr Mundla Anil KumarResidents at Jurong Penjuru Dormitory 2 have also noticed a marked improvement in the quality of their meals.Bangladeshi national Rahman Mahbobor, 29, shipyard worker, said that he had been receiving Malay food earlier — a cuisine which he was not used to.But lately, he has been provided with Indian food and while it is not the same as his own culture’s cuisine, he explained it is a bit more to his liking and more similar to food from his country.  \n",
      "A sample of the food that Mr Rahman Mahbobor has been receiving at Jurong Penjuru Dormitory 2. Photo courtesy of Rahman MahboborUNIDENTIFIABLE MEAT, UNDERCOOKED RICEWhile some foreign workers are seeing improvements on the meal front, others have not seen any change in quality despite giving feedback.Mr Ramadas Prasath, 30, a resident of North Coast Lodge dormitory in Woodlands, told TODAY on Wednesday that he was uncertain what he had been given for lunch.The food label said fish but what he saw in his bento box did not resemble it.Mr Ramadas Prasath said that he was served fish curry and daal with rice at his dormitory North Coast Lodge in Woodlands. However, the fish did not resemble fish and the rice was undercooked, he said. Photo courtesy of Ramadas PrasathThe Indian national added that the rice was undercooked and the portion on some days was also inadequate.He said that when he and his roommates are given such meals, they resort to eating apples and drinking water instead.Mr Prasath stressed that they are not asking for fancy meals and will be satisfied if simple South Indian food is provided.This could include rasam (a South Indian soup with a tamarind base), sambar or kootu (lentil and vegetable stews).Meanwhile, fellow resident Sohrab and his Bangladeshi compatriots have been forcing themselves to eat the food provided for their pre-dawn meals as they are observing the holy fasting month of Ramadan.The 32-year-old electrician, who declined to provide his full name, said he does this despite experiencing diarrhoea on April 24, which he attributed to the catered dhal, curry and rice he ate the night before.Mr Sohrab was also upset that the food provided was not what Bangladeshis typically eat. On Wednesday morning, for instance, he was served fish curry, dhal and rice.The fish, he said, had been boiled and mixed with tomato. While the food was not spoilt, Mr Sohrab said it is not the way Bangladeshis would prepare it.“(We) never touch the curry, just eat the rice or dhal,” he said.While the dormitory management has told him it will improve on the food, Mr Sohrab said on Wednesday he has yet to see significant changes.Although when TODAY checked in on him again on Labour Day, Mr Sohrab said he was given “good food like chicken and one egg”.Both Mr Prasath and Mr Sohrab said a better option is to let residents cook their own meals but with extra precautions in place to ensure safe distancing.Over at Tuas View Dormitory, a resident who only wanted to be known as Mr Raj claimed there were several occasions where the food was “spoilt” or the rice undercooked.On April 21, he said he made the decision to provide feedback to his dormitory’s management.However, he claimed that when he did, the dormitory’s staff reacted with hostility by hurling abusive words.TODAY has reached out to Tuas View Dormitory and North Coast Lodge for comment.NEED TO BE CULTURALLY SENSITIVEMr Alex Au, the vice-president of the migrant workers' rights group Transient Workers Count Too (TWC2), said that while he has heard differing views on the quality of food provided at dorms, his general sense is that the situation has improved.While workers were used to settling their own meals prior to the circuit breaker, their meals are now suddenly being handled by dormitory operators or employers who lack experience to cater on a large scale, said Mr Au.“No wonder when it started, it was total chaos,” he said.Mr Vasudavan Krishnan, a dormitory manager at Westlite Toh Guan, said it was “not possible” to cater to the taste buds of every single nationality in the dorms.Nevertheless, his dormitory has tried to “best provide options” for different dietary preferences, including arranging for four different types of meals for each meal service.This includes both vegetarian and non-vegetarian Indian meals, Chinese and Halal options.Mr Krishnan said that the majority of the dormitory’s residents come from different parts of India and Bangladesh and therefore have different cooking styles.At the request of the residents, he said the caterer has changed the rice grain to the ponni variety.Despite these changes, response among residents remained mixed with some commending the food in the dorm’s Whatsapp group chats, while others remain dissatisfied, said Mr Krishnan.Mr Au also highlighted the criticisms that Singaporeans have laid on migrant workers after pictures of discarded food went viral.The photos showed trash bags filled with boxes of Chinese-style food.He said that Singaporeans needed to be culturally sensitive and that it is hard for most people to immediately accept food from another culture if they have never been exposed to it before.\n"
     ]
    },
    {
     "name": "stdout",
     "output_type": "stream",
     "text": [
      "15\n",
      "SINGAPORE — Residents and staff in homes serving the elderly — such as nursing homes, welfare homes, sheltered homes and adult disability homes — are receiving “priority testing” for Covid-19, the Ministry of Health (MOH) and Ministry of Social and Family Development (MSF) said on Saturday (May 2).In a statement, the two ministries added that resident-facing staff who enter and leave such homes daily will also be given lodging at designated accommodation facilities on-site or at hotels, to reduce their exposure to the community during the circuit breaker period.MOH and MSF said they are taking these steps as these homes serve highly vulnerable and frail seniors, who are at higher risk of developing serious health complications if infected with Covid-19.Broad-based testing for residents and staff in all homes serving the elderly will ensure that any Covid-19 infections in the homes are detected as early as possible for treatment, as well as to limit transmission, they said.MOH began Covid-19 testing from Wednesday and target to complete the tests by next week, while MSF began the tests from Thursday and will complete them by Saturday.“Prior to this, we had been actively testing symptomatic residents and staff who developed Acute Respiratory Infection or fever for Covid-19,” the ministries said.The ministries are providing full funding support for the costs of all tests and all follow-up treatment that is required.Meanwhile, the authorities are also working with the homes to facilitate lodging for staff who interact with the residents, either on site or at hotels.“We will arrange for staff of the homes to stay at hotels if the home they work at is unable to house them on-site,” the two ministries said.For staff who have to move into hotels, the ministries will provide funding for the accommodation and for the homes to provide meals, dedicated transport and daily necessities for the staff.MOH will also provide support for nursing homes to enhance onsite accommodation spaces to improve safe distancing, where necessary.A S$500 allowance will be provided to affected staff to assist them with the transition for the current measures.\n",
      "5\n",
      "SINGAPORE — Action will be taken against a man who had written offensive posts on social media under the name of “Sharon Liew”, Law and Home Affairs Minister K Shanmugam said on Saturday (May 2).In a Facebook post, Mr Shanmugam said that police investigations found that the person behind the account @sharonliew86 was a non-Chinese man.\n",
      "11\n",
      "SINGAPORE — Students from graduating cohorts will return to school during the school holidays from May 19 to help them prepare for their national exams, though this will be done in a “careful and calibrated manner, with ample safe distancing”, said Minister for Education Ong Ye Kung.This will mean that students in Primary 6, Secondary 4 and 5, their second year of Junior College or third year of Pre-University will be the first to return to school for face-to-face lessons.“We know that these students have been anxious about the preparation for their national exams, and that home-based learning cannot fully substitute face to face coaching and lessons,” Mr Ong wrote in a Facebook post on Saturday (May 2).He said the students will be asked to return to their respective schools in small groups and that their returns will be staggered throughout the day and on selected days each week.The wearing of masks will be mandatory, and students will be spaced out within the school compound, he added.Once in school, he said that the students will meet their teachers one-to-one or in small groups.“We will give priority to students requiring school facilities for coursework and practical sessions, as well as those who need additional support and remediation,” he said.Mr Ong noted that the four-week mid-year school holidays start in May.\n",
      "21\n",
      "SINGAPORE — Singapore has confirmed 932 new cases of Covid-19 on Friday (May 1), bringing the total number of cases here to 17,101.Of the 932 cases, 11 infections were cases from the community. Five of those cases are Singaporeans or permanent residents while six are work pass holders.The Ministry of Health (MOH) said in a press release that the number of cases in the community has decreased, from an average of 25 cases a day in the week before, to an average of 12 a day in the past week.It added that the number of cases with unknown sources of infection in the community has also decreased, from an average of 16 a day in the week before, to an average of 6 a day in the past week.The bulk of the new cases — 905 of them — are linked to foreign workers residing in the dormitories, while 16 others were linked to those staying outside the dormitories.MOH said it continues to pick up more cases among work permit holders residing in dormitories as it is testing individuals in this group extensively.The health ministry also identified 7 new clusters of infections.They are at Joo Koon Lodge, Tuas South Incineration Plant, 19 Kian Teck Road, 12 Tuas Place, 15 Tuas View Square, 20 Sungei Kadut Avenue and 148 Woodlands Industrial Park E5.CASES IN HEALTHCARE SECTORThe ministry also identified two cases within the public healthcare sector.Both men — identified as Case 15259 and 15700 — are Malaysian nationals who do not have recent travel histories to the affected countries or regions. They were employed as housekeepers at the National University Hospital.They were confirmed to have the infection on April 28.While Case 15700 — a 24-year-old Malaysian man — had not gone to work since the onset of symptoms, Case 15259 — a 28-year-old Malaysian man — had gone to work prior to being admitted to the hospital.UPDATE ON THE REST OF THE CASESIn all, MOH said 1,268 people have fully recovered from the Covid-19 infection and have been discharged from hospitals or community isolation facilities, including 24 discharged on Friday.There are currently 1,764 confirmed cases who are still in hospital.Of these, most are in stable condition or improving, and 23 patients are in critical condition under intensive care.MOH said that 14,053 patients are isolated and cared for at community facilities.\n"
     ]
    }
   ],
   "source": [
    "for n in range(0, df_to.shape[0]):\n",
    "    \n",
    "    t.url(df_to.URL[n])\n",
    "    t.wait(4)\n",
    "    t.hover('//div[@class=\"article-detail_subscription\"]')\n",
    "    t.wait(2)\n",
    "    \n",
    "    number_p = t.count('//div/p[not(@class)]')\n",
    "    print(number_p)\n",
    "    Content = \"\"\n",
    "    \n",
    "    for i in range(1, number_p-2):\n",
    "        cont=t.read('//div/p[not(@class)][{}]'.format(i))\n",
    "        Content = Content + \"\" + cont\n",
    "    print(Content)   \n",
    "    summaries = Summarize(df_to.Title[n], unicode(str(Content), \"utf-8\"))\n",
    "    df_to.iloc[n-1, 3] = summaries[0]"
   ]
  },
  {
   "cell_type": "code",
   "execution_count": 9,
   "metadata": {},
   "outputs": [
    {
     "data": {
      "text/plain": [
       "True"
      ]
     },
     "execution_count": 9,
     "metadata": {},
     "output_type": "execute_result"
    }
   ],
   "source": [
    "t.close()"
   ]
  },
  {
   "cell_type": "code",
   "execution_count": 10,
   "metadata": {},
   "outputs": [],
   "source": [
    "def insertNews(conn,news):    \n",
    "    sql = ''' INSERT INTO news(site_id,create_date,title,url,summary,img_url,latest)\n",
    "              VALUES(?,?,?,?,?,?,1) '''\n",
    "    cur = conn.cursor()\n",
    "    cur.execute(sql, news)\n",
    "    return cur.lastrowid\n",
    "\n",
    "def markNews(conn, site_id):\n",
    "    cur = conn.cursor()\n",
    "    cur.execute(\"UPDATE news set latest=0 where latest=1 and site_id=? \",(site_id,))"
   ]
  },
  {
   "cell_type": "code",
   "execution_count": 11,
   "metadata": {},
   "outputs": [
    {
     "name": "stdout",
     "output_type": "stream",
     "text": [
      "News 254 has been created\n",
      "News 255 has been created\n",
      "News 256 has been created\n",
      "News 257 has been created\n",
      "News 258 has been created\n",
      "News 259 has been created\n",
      "News 260 has been created\n"
     ]
    }
   ],
   "source": [
    "now = datetime.now()\n",
    "# dd/mm/YY\n",
    "dt_string = now.strftime(\"%d/%m/%Y\")\n",
    "markNews(conn, site_id)\n",
    "for index, row in df_to.iterrows():\n",
    "    title = row['Title'].decode('utf-8')\n",
    "    url = row['URL']\n",
    "    summary = row['Summary']\n",
    "    img_url = row['Img_URL']\n",
    "    news = (site_id,dt_string,title,url,summary,img_url)\n",
    "    news_id = insertNews(conn,news)\n",
    "    print(\"News %d has been created\" % news_id)\n",
    "    \n",
    "conn.commit()"
   ]
  },
  {
   "cell_type": "code",
   "execution_count": null,
   "metadata": {},
   "outputs": [],
   "source": []
  }
 ],
 "metadata": {
  "kernelspec": {
   "display_name": "Python 2",
   "language": "python",
   "name": "python2"
  },
  "language_info": {
   "codemirror_mode": {
    "name": "ipython",
    "version": 2
   },
   "file_extension": ".py",
   "mimetype": "text/x-python",
   "name": "python",
   "nbconvert_exporter": "python",
   "pygments_lexer": "ipython2",
   "version": "2.7.17"
  }
 },
 "nbformat": 4,
 "nbformat_minor": 2
}
