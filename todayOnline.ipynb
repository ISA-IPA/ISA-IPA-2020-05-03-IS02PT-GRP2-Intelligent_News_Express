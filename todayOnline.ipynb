{
 "cells": [
  {
   "cell_type": "code",
   "execution_count": 1,
   "metadata": {},
   "outputs": [],
   "source": [
    "from pyteaser import Summarize, SummarizeUrl\n",
    "from pprint import pprint\n",
    "import pandas as pd\n",
    "import numpy as np\n",
    "import tagui as t\n",
    "import urllib\n",
    "import sqlite3\n",
    "from sqlite3 import Error\n",
    "from datetime import datetime"
   ]
  },
  {
   "cell_type": "code",
   "execution_count": 2,
   "metadata": {},
   "outputs": [
    {
     "name": "stdout",
     "output_type": "stream",
     "text": [
      "DB Connection setup\n"
     ]
    }
   ],
   "source": [
    "def create_connection(db_file):\n",
    "    \"\"\" create a database connection to a SQLite database \"\"\"\n",
    "    conn = None\n",
    "    try:\n",
    "        conn = sqlite3.connect(db_file)\n",
    "        print(\"DB Connection setup\")\n",
    "    except Error as e:\n",
    "        print(e)\n",
    "    finally:\n",
    "        if conn:\n",
    "            return conn\n",
    "        else:\n",
    "            print(\"DB Connection failed\")\n",
    "\n",
    "\n",
    "if __name__ == '__main__':\n",
    "    conn = create_connection(\"./db/news.db\")"
   ]
  },
  {
   "cell_type": "code",
   "execution_count": 4,
   "metadata": {},
   "outputs": [],
   "source": [
    "def getSiteByName(name):\n",
    "    cur = conn.cursor()\n",
    "    cur.execute(\"SELECT * FROM site where name=?\",(name,))\n",
    "    rows = cur.fetchall()\n",
    "    return rows\n",
    "site = getSiteByName(\"Today Online\")\n",
    "site_url = site[0][2]\n",
    "site_id = site[0][0]"
   ]
  },
  {
   "cell_type": "code",
   "execution_count": null,
   "metadata": {},
   "outputs": [],
   "source": [
    "t.init(visual_automation = True, chrome_browser = True)"
   ]
  },
  {
   "cell_type": "code",
   "execution_count": 10,
   "metadata": {},
   "outputs": [
    {
     "data": {
      "text/plain": [
       "True"
      ]
     },
     "execution_count": 10,
     "metadata": {},
     "output_type": "execute_result"
    }
   ],
   "source": [
    "t.url(site_url)\n",
    "t.wait(2)\n",
    "t.hover('//div[@class=\"container footer-main\"]')\n",
    "t.wait(6)"
   ]
  },
  {
   "cell_type": "code",
   "execution_count": 11,
   "metadata": {},
   "outputs": [
    {
     "name": "stdout",
     "output_type": "stream",
     "text": [
      "[RPA][ERROR] - cannot find //div[@class=\"col\"]/div[contains(@class, \"today\")]/ul/li[contains(@class, \"col-md-12\")][5]//div[contains(@class, \"article-listing_content\")]\n",
      "[RPA][ERROR] - cannot find //div[@class=\"col\"]/div[contains(@class, \"today\")]/ul/li[contains(@class, \"col-md-12\")][5]//@href\n",
      "[RPA][ERROR] - cannot find //div[@class=\"col\"]/div[contains(@class, \"today\")]/ul/li[contains(@class, \"col-md-12\")][5]//img/@src\n"
     ]
    },
    {
     "data": {
      "text/html": [
       "<div>\n",
       "<style scoped>\n",
       "    .dataframe tbody tr th:only-of-type {\n",
       "        vertical-align: middle;\n",
       "    }\n",
       "\n",
       "    .dataframe tbody tr th {\n",
       "        vertical-align: top;\n",
       "    }\n",
       "\n",
       "    .dataframe thead th {\n",
       "        text-align: right;\n",
       "    }\n",
       "</style>\n",
       "<table border=\"1\" class=\"dataframe\">\n",
       "  <thead>\n",
       "    <tr style=\"text-align: right;\">\n",
       "      <th></th>\n",
       "      <th>Sno</th>\n",
       "      <th>Title</th>\n",
       "      <th>URL</th>\n",
       "      <th>Img_URL</th>\n",
       "      <th>Summary</th>\n",
       "    </tr>\n",
       "  </thead>\n",
       "  <tbody>\n",
       "    <tr>\n",
       "      <th>0</th>\n",
       "      <td>1</td>\n",
       "      <td>Residents, staff at elderly homes being tested...</td>\n",
       "      <td>https://www.todayonline.com/singapore/resident...</td>\n",
       "      <td>https://www.todayonline.com/sites/default/file...</td>\n",
       "      <td>NaN</td>\n",
       "    </tr>\n",
       "    <tr>\n",
       "      <th>1</th>\n",
       "      <td>2</td>\n",
       "      <td>Action to be taken against man who made racial...</td>\n",
       "      <td>https://www.todayonline.com/singapore/action-b...</td>\n",
       "      <td>https://www.todayonline.com/sites/default/file...</td>\n",
       "      <td>NaN</td>\n",
       "    </tr>\n",
       "    <tr>\n",
       "      <th>2</th>\n",
       "      <td>3</td>\n",
       "      <td>Graduating students can return to school from ...</td>\n",
       "      <td>https://www.todayonline.com/singapore/students...</td>\n",
       "      <td>/sites/all/themes/weekend/templates/static/img...</td>\n",
       "      <td>NaN</td>\n",
       "    </tr>\n",
       "    <tr>\n",
       "      <th>3</th>\n",
       "      <td>4</td>\n",
       "      <td>932 new Covid-19 cases in Singapore, bringing ...</td>\n",
       "      <td>https://www.todayonline.com/singapore/932-new-...</td>\n",
       "      <td>/sites/all/themes/weekend/templates/static/img...</td>\n",
       "      <td>NaN</td>\n",
       "    </tr>\n",
       "    <tr>\n",
       "      <th>4</th>\n",
       "      <td>5</td>\n",
       "      <td></td>\n",
       "      <td>https://www.todayonline.com</td>\n",
       "      <td></td>\n",
       "      <td>NaN</td>\n",
       "    </tr>\n",
       "    <tr>\n",
       "      <th>5</th>\n",
       "      <td>6</td>\n",
       "      <td>Covid-19: Number of community cases down but S...</td>\n",
       "      <td>https://www.todayonline.com/singapore/covid-19...</td>\n",
       "      <td>/sites/all/themes/weekend/templates/static/img...</td>\n",
       "      <td>NaN</td>\n",
       "    </tr>\n",
       "    <tr>\n",
       "      <th>6</th>\n",
       "      <td>7</td>\n",
       "      <td>Covid-19: Govt focusing on housing arrangement...</td>\n",
       "      <td>https://www.todayonline.com/singapore/covid-19...</td>\n",
       "      <td>/sites/all/themes/weekend/templates/static/img...</td>\n",
       "      <td>NaN</td>\n",
       "    </tr>\n",
       "    <tr>\n",
       "      <th>7</th>\n",
       "      <td>8</td>\n",
       "      <td>Ships in Singapore waters sound horns to show ...</td>\n",
       "      <td>https://www.todayonline.com/singapore/ships-si...</td>\n",
       "      <td>/sites/all/themes/weekend/templates/static/img...</td>\n",
       "      <td>NaN</td>\n",
       "    </tr>\n",
       "    <tr>\n",
       "      <th>8</th>\n",
       "      <td>NaN</td>\n",
       "      <td>NaN</td>\n",
       "      <td>NaN</td>\n",
       "      <td>NaN</td>\n",
       "      <td>NaN</td>\n",
       "    </tr>\n",
       "  </tbody>\n",
       "</table>\n",
       "</div>"
      ],
      "text/plain": [
       "   Sno                                              Title  \\\n",
       "0    1  Residents, staff at elderly homes being tested...   \n",
       "1    2  Action to be taken against man who made racial...   \n",
       "2    3  Graduating students can return to school from ...   \n",
       "3    4  932 new Covid-19 cases in Singapore, bringing ...   \n",
       "4    5                                                      \n",
       "5    6  Covid-19: Number of community cases down but S...   \n",
       "6    7  Covid-19: Govt focusing on housing arrangement...   \n",
       "7    8  Ships in Singapore waters sound horns to show ...   \n",
       "8  NaN                                                NaN   \n",
       "\n",
       "                                                 URL  \\\n",
       "0  https://www.todayonline.com/singapore/resident...   \n",
       "1  https://www.todayonline.com/singapore/action-b...   \n",
       "2  https://www.todayonline.com/singapore/students...   \n",
       "3  https://www.todayonline.com/singapore/932-new-...   \n",
       "4                        https://www.todayonline.com   \n",
       "5  https://www.todayonline.com/singapore/covid-19...   \n",
       "6  https://www.todayonline.com/singapore/covid-19...   \n",
       "7  https://www.todayonline.com/singapore/ships-si...   \n",
       "8                                                NaN   \n",
       "\n",
       "                                             Img_URL Summary  \n",
       "0  https://www.todayonline.com/sites/default/file...     NaN  \n",
       "1  https://www.todayonline.com/sites/default/file...     NaN  \n",
       "2  /sites/all/themes/weekend/templates/static/img...     NaN  \n",
       "3  /sites/all/themes/weekend/templates/static/img...     NaN  \n",
       "4                                                        NaN  \n",
       "5  /sites/all/themes/weekend/templates/static/img...     NaN  \n",
       "6  /sites/all/themes/weekend/templates/static/img...     NaN  \n",
       "7  /sites/all/themes/weekend/templates/static/img...     NaN  \n",
       "8                                                NaN     NaN  "
      ]
     },
     "execution_count": 11,
     "metadata": {},
     "output_type": "execute_result"
    }
   ],
   "source": [
    "number_to = t.count('(//div[@class=\"col\"]/div[contains(@class, \"today\")]/ul/li[contains(@class, \"col-md-12\")])')\n",
    "df_to = pd.DataFrame(index=range(0,number_to), columns = ['Sno', 'Title', 'URL', 'Img_URL', 'Summary'])\n",
    "\n",
    "t.hover('//div[@class=\"container footer-main\"]')\n",
    "t.wait(2)\n",
    "\n",
    "for n in range(1, number_to):\n",
    "    title=t.read('//div[@class=\"col\"]/div[contains(@class, \"today\")]/ul/li[contains(@class, \"col-md-12\")][{}]//div[contains(@class, \"article-listing_content\")]'.format(n))\n",
    "    URL_o=t.read('//div[@class=\"col\"]/div[contains(@class, \"today\")]/ul/li[contains(@class, \"col-md-12\")][{}]//@href'.format(n))\n",
    "    URL = \"https://www.todayonline.com\" + str(URL_o) \n",
    "    \n",
    "    Img_link=t.read('//div[@class=\"col\"]/div[contains(@class, \"today\")]/ul/li[contains(@class, \"col-md-12\")][{}]//img/@src'.format(n))\n",
    "    \n",
    "    df_to.iloc[n-1, 0] = n\n",
    "    df_to.iloc[n-1, 1] = title\n",
    "    df_to.iloc[n-1, 2] = URL\n",
    "    df_to.iloc[n-1, 3] = Img_link\n",
    "\n",
    "df_to"
   ]
  },
  {
   "cell_type": "code",
   "execution_count": 13,
   "metadata": {},
   "outputs": [
    {
     "ename": "AttributeError",
     "evalue": "'float' object has no attribute 'startswith'",
     "output_type": "error",
     "traceback": [
      "\u001b[1;31m---------------------------------------------------------------------------\u001b[0m",
      "\u001b[1;31mAttributeError\u001b[0m                            Traceback (most recent call last)",
      "\u001b[1;32m<ipython-input-13-5b30e9ab563b>\u001b[0m in \u001b[0;36m<module>\u001b[1;34m()\u001b[0m\n\u001b[0;32m      1\u001b[0m \u001b[1;32mfor\u001b[0m \u001b[0mi\u001b[0m \u001b[1;32min\u001b[0m \u001b[0mrange\u001b[0m\u001b[1;33m(\u001b[0m\u001b[1;36m0\u001b[0m\u001b[1;33m,\u001b[0m \u001b[0mdf_to\u001b[0m\u001b[1;33m.\u001b[0m\u001b[0mshape\u001b[0m\u001b[1;33m[\u001b[0m\u001b[1;36m0\u001b[0m\u001b[1;33m]\u001b[0m\u001b[1;33m)\u001b[0m\u001b[1;33m:\u001b[0m\u001b[1;33m\u001b[0m\u001b[0m\n\u001b[1;32m----> 2\u001b[1;33m     \u001b[1;32mif\u001b[0m \u001b[1;32mnot\u001b[0m \u001b[0mdf_to\u001b[0m\u001b[1;33m[\u001b[0m\u001b[1;34m'Img_URL'\u001b[0m\u001b[1;33m]\u001b[0m\u001b[1;33m[\u001b[0m\u001b[0mi\u001b[0m\u001b[1;33m]\u001b[0m\u001b[1;33m.\u001b[0m\u001b[0mstartswith\u001b[0m\u001b[1;33m(\u001b[0m\u001b[1;34m'http'\u001b[0m\u001b[1;33m)\u001b[0m \u001b[1;32mor\u001b[0m \u001b[0mdf_to\u001b[0m\u001b[1;33m[\u001b[0m\u001b[1;34m'Img_URL'\u001b[0m\u001b[1;33m]\u001b[0m\u001b[1;33m[\u001b[0m\u001b[0mi\u001b[0m\u001b[1;33m]\u001b[0m\u001b[1;33m==\u001b[0m\u001b[1;34m\"\"\u001b[0m\u001b[1;33m:\u001b[0m\u001b[1;33m\u001b[0m\u001b[0m\n\u001b[0m\u001b[0;32m      3\u001b[0m         \u001b[0mdf_to\u001b[0m\u001b[1;33m[\u001b[0m\u001b[1;34m'Img_URL'\u001b[0m\u001b[1;33m]\u001b[0m\u001b[1;33m[\u001b[0m\u001b[0mi\u001b[0m\u001b[1;33m]\u001b[0m\u001b[1;33m=\u001b[0m\u001b[0mnp\u001b[0m\u001b[1;33m.\u001b[0m\u001b[0mnan\u001b[0m\u001b[1;33m\u001b[0m\u001b[0m\n\u001b[0;32m      4\u001b[0m \u001b[1;33m\u001b[0m\u001b[0m\n\u001b[0;32m      5\u001b[0m \u001b[0mdf_to\u001b[0m\u001b[1;33m.\u001b[0m\u001b[0mdropna\u001b[0m\u001b[1;33m(\u001b[0m\u001b[0msubset\u001b[0m\u001b[1;33m=\u001b[0m\u001b[1;33m[\u001b[0m\u001b[1;34m'Img_URL'\u001b[0m\u001b[1;33m]\u001b[0m\u001b[1;33m,\u001b[0m \u001b[0minplace\u001b[0m\u001b[1;33m=\u001b[0m\u001b[0mTrue\u001b[0m\u001b[1;33m,\u001b[0m \u001b[0mhow\u001b[0m\u001b[1;33m=\u001b[0m\u001b[1;34m'any'\u001b[0m\u001b[1;33m)\u001b[0m\u001b[1;33m\u001b[0m\u001b[0m\n",
      "\u001b[1;31mAttributeError\u001b[0m: 'float' object has no attribute 'startswith'"
     ]
    }
   ],
   "source": [
    "for i in range(0, df_to.shape[0]):\n",
    "    if not df_to['Img_URL'][i].startswith('http') or df_to['Img_URL'][i]==\"\":\n",
    "        df_to['Img_URL'][i]=np.nan\n",
    "        \n",
    "df_to.dropna(subset=['Img_URL'], inplace=True, how='any')\n",
    "df_to= df_to.reset_index(drop=True)\n",
    "df_to['Sno'] = df_to.index\n",
    "df_to"
   ]
  },
  {
   "cell_type": "code",
   "execution_count": null,
   "metadata": {},
   "outputs": [],
   "source": []
  }
 ],
 "metadata": {
  "kernelspec": {
   "display_name": "Python 2",
   "language": "python",
   "name": "python2"
  },
  "language_info": {
   "codemirror_mode": {
    "name": "ipython",
    "version": 2
   },
   "file_extension": ".py",
   "mimetype": "text/x-python",
   "name": "python",
   "nbconvert_exporter": "python",
   "pygments_lexer": "ipython2",
   "version": "2.7.17"
  }
 },
 "nbformat": 4,
 "nbformat_minor": 2
}
