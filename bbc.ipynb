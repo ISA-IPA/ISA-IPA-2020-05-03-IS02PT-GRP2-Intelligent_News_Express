{
 "cells": [
  {
   "cell_type": "code",
   "execution_count": 9,
   "metadata": {},
   "outputs": [],
   "source": [
    "from pyteaser import Summarize, SummarizeUrl\n",
    "from pprint import pprint\n",
    "import pandas as pd\n",
    "import numpy as np\n",
    "import sqlite3\n",
    "from sqlite3 import Error\n",
    "from datetime import datetime\n",
    "import requests\n",
    "import urllib"
   ]
  },
  {
   "cell_type": "code",
   "execution_count": 10,
   "metadata": {},
   "outputs": [
    {
     "name": "stdout",
     "output_type": "stream",
     "text": [
      "DB Connection setup\n"
     ]
    }
   ],
   "source": [
    "def create_connection(db_file):\n",
    "    \"\"\" create a database connection to a SQLite database \"\"\"\n",
    "    conn = None\n",
    "    try:\n",
    "        conn = sqlite3.connect(db_file)\n",
    "        print(\"DB Connection setup\")\n",
    "    except Error as e:\n",
    "        print(e)\n",
    "    finally:\n",
    "        if conn:\n",
    "            return conn\n",
    "        else:\n",
    "            print(\"DB Connection failed\")\n",
    "\n",
    "\n",
    "if __name__ == '__main__':\n",
    "    conn = create_connection(\"./db/news.db\")"
   ]
  },
  {
   "cell_type": "code",
   "execution_count": 11,
   "metadata": {},
   "outputs": [],
   "source": [
    "def getSiteByName(name):\n",
    "    cur = conn.cursor()\n",
    "    cur.execute(\"SELECT * FROM site where name=?\",(name,))\n",
    "    rows = cur.fetchall()\n",
    "    return rows"
   ]
  },
  {
   "cell_type": "code",
   "execution_count": 12,
   "metadata": {},
   "outputs": [],
   "source": [
    "site = getSiteByName(\"BBC News\")\n",
    "site_url = site[0][2]\n",
    "site_id = site[0][0]"
   ]
  },
  {
   "cell_type": "code",
   "execution_count": 13,
   "metadata": {},
   "outputs": [],
   "source": [
    "# BBC top news\n",
    "def NewsFromBBC():\n",
    "     \n",
    "    # BBC news api\n",
    "    main_url = site_url\n",
    " \n",
    "    # fetching data in json format\n",
    "    open_bbc_page = requests.get(main_url).json()\n",
    " \n",
    "    # getting all articles in a string article\n",
    "    article = open_bbc_page[\"articles\"]\n",
    " \n",
    "    # empty list which will \n",
    "    # contain all trending news\n",
    "    results = []\n",
    "    url = []\n",
    "    Img_link = []\n",
    "     \n",
    "    for ar in article:\n",
    "        results.append(ar[\"title\"])\n",
    "        url.append(ar[\"url\"])\n",
    "        Img_link.append(ar[\"urlToImage\"])\n",
    "         \n",
    "        number_BBC = len(results)\n",
    "    \n",
    "    return results, url, number_BBC, Img_link\n",
    " "
   ]
  },
  {
   "cell_type": "code",
   "execution_count": 18,
   "metadata": {},
   "outputs": [],
   "source": [
    "if __name__ == '__main__':\n",
    "     \n",
    "# function call\n",
    "\n",
    "    results, url, number_BBC, Img_link = NewsFromBBC()\n",
    "    \n",
    "    df_BBC = pd.DataFrame(index=range(0,number_BBC-1), columns = ['Sno', 'Title', 'URL','Summary', 'Img_URL'])\n",
    "\n",
    "\n",
    "    for i in range(1, number_BBC):\n",
    "\n",
    "        summaries = SummarizeUrl(url[i])\n",
    "        \n",
    "        df_BBC.iloc[i-1, 0] = i\n",
    "        df_BBC.iloc[i-1, 1] = results[i]\n",
    "        df_BBC.iloc[i-1, 2] = url[i]\n",
    "        df_BBC.iloc[i-1, 3] = summaries\n",
    "        df_BBC.iloc[i-1, 4] = Img_link[i]\n"
   ]
  },
  {
   "cell_type": "code",
   "execution_count": 19,
   "metadata": {},
   "outputs": [
    {
     "ename": "NameError",
     "evalue": "name 'df_bb' is not defined",
     "output_type": "error",
     "traceback": [
      "\u001b[1;31m---------------------------------------------------------------------------\u001b[0m",
      "\u001b[1;31mNameError\u001b[0m                                 Traceback (most recent call last)",
      "\u001b[1;32m<ipython-input-19-33d5c62bfc40>\u001b[0m in \u001b[0;36m<module>\u001b[1;34m()\u001b[0m\n\u001b[0;32m      7\u001b[0m     \u001b[1;32mreturn\u001b[0m \u001b[0msummm\u001b[0m\u001b[1;33m\u001b[0m\u001b[0m\n\u001b[0;32m      8\u001b[0m \u001b[1;33m\u001b[0m\u001b[0m\n\u001b[1;32m----> 9\u001b[1;33m \u001b[1;32mfor\u001b[0m \u001b[0mi\u001b[0m \u001b[1;32min\u001b[0m \u001b[0mrange\u001b[0m\u001b[1;33m(\u001b[0m\u001b[1;36m0\u001b[0m\u001b[1;33m,\u001b[0m \u001b[0mdf_bb\u001b[0m\u001b[1;33m.\u001b[0m\u001b[0mshape\u001b[0m\u001b[1;33m[\u001b[0m\u001b[1;36m0\u001b[0m\u001b[1;33m]\u001b[0m\u001b[1;33m)\u001b[0m\u001b[1;33m:\u001b[0m\u001b[1;33m\u001b[0m\u001b[0m\n\u001b[0m\u001b[0;32m     10\u001b[0m     \u001b[0mdf_BBC\u001b[0m\u001b[1;33m[\u001b[0m\u001b[1;34m'Summary'\u001b[0m\u001b[1;33m]\u001b[0m\u001b[1;33m[\u001b[0m\u001b[0mi\u001b[0m\u001b[1;33m]\u001b[0m \u001b[1;33m=\u001b[0m \u001b[0mremove_str\u001b[0m\u001b[1;33m(\u001b[0m\u001b[0mdf_BBC\u001b[0m\u001b[1;33m[\u001b[0m\u001b[1;34m'Summary'\u001b[0m\u001b[1;33m]\u001b[0m\u001b[1;33m[\u001b[0m\u001b[0mi\u001b[0m\u001b[1;33m]\u001b[0m\u001b[1;33m,\u001b[0m \u001b[1;34m\"u'\"\u001b[0m\u001b[1;33m)\u001b[0m\u001b[1;33m\u001b[0m\u001b[0m\n",
      "\u001b[1;31mNameError\u001b[0m: name 'df_bb' is not defined"
     ]
    }
   ],
   "source": [
    "def remove_str(summm_l, SS):\n",
    "    summm = ''.join(summm_l)\n",
    "    summm = summm.encode('utf-8').decode('utf-8', 'ignore')\n",
    "    if SS in summm:\n",
    "        summm = summm.replace(SS, '')\n",
    "    \n",
    "    return summm\n",
    "\n",
    "for i in range(0, df_bb.shape[0]):\n",
    "    df_BBC['Summary'][i] = remove_str(df_BBC['Summary'][i], \"u'\")"
   ]
  },
  {
   "cell_type": "code",
   "execution_count": 9,
   "metadata": {},
   "outputs": [],
   "source": [
    "def insertNews(conn,news):    \n",
    "    sql = ''' INSERT INTO news(site_id,create_date,title,url,summary,img_url,latest)\n",
    "              VALUES(?,?,?,?,?,?,1) '''\n",
    "    cur = conn.cursor()\n",
    "    cur.execute(sql, news)\n",
    "    return cur.lastrowid\n",
    "\n",
    "def markNews(conn, site_id):\n",
    "    cur = conn.cursor()\n",
    "    cur.execute(\"UPDATE news set latest=0 where latest=1 and site_id=? \",(site_id,))"
   ]
  },
  {
   "cell_type": "code",
   "execution_count": 10,
   "metadata": {},
   "outputs": [
    {
     "name": "stdout",
     "output_type": "stream",
     "text": [
      "News 106 has been created\n",
      "News 107 has been created\n",
      "News 108 has been created\n",
      "News 109 has been created\n",
      "News 110 has been created\n",
      "News 111 has been created\n",
      "News 112 has been created\n",
      "News 113 has been created\n",
      "News 114 has been created\n"
     ]
    }
   ],
   "source": [
    "now = datetime.now()\n",
    "# dd/mm/YY\n",
    "dt_string = now.strftime(\"%d/%m/%Y\")\n",
    "markNews(conn, site_id)\n",
    "for index, row in df_BBC.iterrows():\n",
    "    title = row['Title']\n",
    "    url = row['URL']\n",
    "    summary = str(row['Summary'])\n",
    "    img_url = row['Img_URL']\n",
    "    news = (site_id,dt_string,title,url,summary,img_url)\n",
    "    news_id = insertNews(conn,news)\n",
    "    print(\"News %d has been created\" % news_id)\n",
    "    \n",
    "conn.commit()"
   ]
  },
  {
   "cell_type": "code",
   "execution_count": null,
   "metadata": {},
   "outputs": [],
   "source": []
  }
 ],
 "metadata": {
  "kernelspec": {
   "display_name": "Python 2",
   "language": "python",
   "name": "python2"
  },
  "language_info": {
   "codemirror_mode": {
    "name": "ipython",
    "version": 2
   },
   "file_extension": ".py",
   "mimetype": "text/x-python",
   "name": "python",
   "nbconvert_exporter": "python",
   "pygments_lexer": "ipython2",
   "version": "2.7.17"
  }
 },
 "nbformat": 4,
 "nbformat_minor": 2
}
