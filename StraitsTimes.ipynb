{
 "cells": [
  {
   "cell_type": "code",
   "execution_count": 45,
   "metadata": {},
   "outputs": [],
   "source": [
    "from pyteaser import Summarize, SummarizeUrl\n",
    "from pprint import pprint\n",
    "import pandas as pd\n",
    "import numpy as np\n",
    "import tagui as t\n",
    "import sqlite3\n",
    "from sqlite3 import Error\n",
    "from datetime import datetime"
   ]
  },
  {
   "cell_type": "code",
   "execution_count": 67,
   "metadata": {},
   "outputs": [
    {
     "name": "stdout",
     "output_type": "stream",
     "text": [
      "DB Connection setup\n"
     ]
    }
   ],
   "source": [
    "def create_connection(db_file):\n",
    "    \"\"\" create a database connection to a SQLite database \"\"\"\n",
    "    conn = None\n",
    "    try:\n",
    "        conn = sqlite3.connect(db_file)\n",
    "        print(\"DB Connection setup\")\n",
    "    except Error as e:\n",
    "        print(e)\n",
    "    finally:\n",
    "        if conn:\n",
    "            return conn\n",
    "        else:\n",
    "            print(\"DB Connection failed\")\n",
    "\n",
    "\n",
    "if __name__ == '__main__':\n",
    "    conn = create_connection(\"./db/news.db\")"
   ]
  },
  {
   "cell_type": "code",
   "execution_count": 10,
   "metadata": {},
   "outputs": [],
   "source": [
    "def getSiteByName(name):\n",
    "    cur = conn.cursor()\n",
    "    cur.execute(\"SELECT * FROM site where name=?\",(name,))\n",
    "    rows = cur.fetchall()\n",
    "    return rows"
   ]
  },
  {
   "cell_type": "code",
   "execution_count": 51,
   "metadata": {},
   "outputs": [],
   "source": [
    "site = getSiteByName(\"StraitsTimes\")\n",
    "url = site[0][2]\n",
    "site_id = site[0][0]"
   ]
  },
  {
   "cell_type": "code",
   "execution_count": 21,
   "metadata": {},
   "outputs": [
    {
     "data": {
      "text/plain": [
       "True"
      ]
     },
     "execution_count": 21,
     "metadata": {},
     "output_type": "execute_result"
    }
   ],
   "source": [
    "t.init(visual_automation = True, chrome_browser = True)\n",
    "t.url(url)"
   ]
  },
  {
   "cell_type": "code",
   "execution_count": 22,
   "metadata": {},
   "outputs": [
    {
     "name": "stderr",
     "output_type": "stream",
     "text": [
      "c:\\users\\superhell\\.conda\\envs\\ca1\\lib\\site-packages\\BeautifulSoup.py:114: UserWarning: You are using a very old release of Beautiful Soup, last updated in 2011. If you installed the 'beautifulsoup' package through pip, you should know the 'beautifulsoup' package name is about to be reclaimed by a more recent version of Beautiful Soup which is incompatible with this version.\n",
      "\n",
      "This will happen at some point after January 1, 2021.\n",
      "\n",
      "If you just started this project, this is easy to fix. Install the 'beautifulsoup4' package instead of 'beautifulsoup' and start using Beautiful Soup 4.\n",
      "\n",
      "If this is an existing project that depends on Beautiful Soup 3, the project maintainer (potentially you) needs to start the process of migrating to Beautiful Soup 4. This should be a relatively easy part of the Python 3 migration.\n",
      "\n",
      "  \"\"\")\n"
     ]
    },
    {
     "data": {
      "text/html": [
       "<div>\n",
       "<style scoped>\n",
       "    .dataframe tbody tr th:only-of-type {\n",
       "        vertical-align: middle;\n",
       "    }\n",
       "\n",
       "    .dataframe tbody tr th {\n",
       "        vertical-align: top;\n",
       "    }\n",
       "\n",
       "    .dataframe thead th {\n",
       "        text-align: right;\n",
       "    }\n",
       "</style>\n",
       "<table border=\"1\" class=\"dataframe\">\n",
       "  <thead>\n",
       "    <tr style=\"text-align: right;\">\n",
       "      <th></th>\n",
       "      <th>Sno</th>\n",
       "      <th>Title</th>\n",
       "      <th>URL</th>\n",
       "      <th>Summary</th>\n",
       "    </tr>\n",
       "  </thead>\n",
       "  <tbody>\n",
       "    <tr>\n",
       "      <th>0</th>\n",
       "      <td>0</td>\n",
       "      <td>S'pore economy to open up 'step by step' after...</td>\n",
       "      <td>https://www.straitstimes.com//singapore/spore-...</td>\n",
       "      <td>[The coronavirus pandemic will leave its mark ...</td>\n",
       "    </tr>\n",
       "    <tr>\n",
       "      <th>1</th>\n",
       "      <td>1</td>\n",
       "      <td>Migrant worker hospitalised in Sengkang Hospit...</td>\n",
       "      <td>https://www.straitstimes.com//singapore/migran...</td>\n",
       "      <td>[\"May Day is a day of celebration for all work...</td>\n",
       "    </tr>\n",
       "    <tr>\n",
       "      <th>2</th>\n",
       "      <td>2</td>\n",
       "      <td>58-year-old S'porean woman dies from coronavir...</td>\n",
       "      <td>https://www.straitstimes.com//singapore/health...</td>\n",
       "      <td>[MOH also announced 12 new virus clusters, inc...</td>\n",
       "    </tr>\n",
       "    <tr>\n",
       "      <th>3</th>\n",
       "      <td>3</td>\n",
       "      <td>Infection numbers in dorms could take a few we...</td>\n",
       "      <td>https://www.straitstimes.com//singapore/infect...</td>\n",
       "      <td>[For now, Singapore is still seeing \"very larg...</td>\n",
       "    </tr>\n",
       "    <tr>\n",
       "      <th>4</th>\n",
       "      <td>4</td>\n",
       "      <td>Online jazz concert Jass@Home chases Covid-19 ...</td>\n",
       "      <td>https://www.straitstimes.com//singapore/online...</td>\n",
       "      <td>[SINGAPORE - A jazz concert that aired on Face...</td>\n",
       "    </tr>\n",
       "    <tr>\n",
       "      <th>5</th>\n",
       "      <td>5</td>\n",
       "      <td>Duke-NUS scientists develop speedy test for an...</td>\n",
       "      <td>https://www.straitstimes.com//singapore/health...</td>\n",
       "      <td>[He added that tests that can detect neutralis...</td>\n",
       "    </tr>\n",
       "    <tr>\n",
       "      <th>6</th>\n",
       "      <td>6</td>\n",
       "      <td>Banks to allow temporary halt in payments for ...</td>\n",
       "      <td>https://www.straitstimes.com//business/banking...</td>\n",
       "      <td>[OCBC Bank said on Thursday that it had starte...</td>\n",
       "    </tr>\n",
       "    <tr>\n",
       "      <th>7</th>\n",
       "      <td>7</td>\n",
       "      <td>McDonald's extends closure of S'pore restauran...</td>\n",
       "      <td>https://www.straitstimes.com//singapore/mcdona...</td>\n",
       "      <td>[SINGAPORE - Singaporeans looking forward to g...</td>\n",
       "    </tr>\n",
       "    <tr>\n",
       "      <th>8</th>\n",
       "      <td>8</td>\n",
       "      <td>Changi Airport T2 proceeds with plans to suspe...</td>\n",
       "      <td>https://www.straitstimes.com//singapore/transp...</td>\n",
       "      <td>[Changi Airport Group (CAG) said: \"The suspens...</td>\n",
       "    </tr>\n",
       "  </tbody>\n",
       "</table>\n",
       "</div>"
      ],
      "text/plain": [
       "  Sno                                              Title  \\\n",
       "0   0  S'pore economy to open up 'step by step' after...   \n",
       "1   1  Migrant worker hospitalised in Sengkang Hospit...   \n",
       "2   2  58-year-old S'porean woman dies from coronavir...   \n",
       "3   3  Infection numbers in dorms could take a few we...   \n",
       "4   4  Online jazz concert Jass@Home chases Covid-19 ...   \n",
       "5   5  Duke-NUS scientists develop speedy test for an...   \n",
       "6   6  Banks to allow temporary halt in payments for ...   \n",
       "7   7  McDonald's extends closure of S'pore restauran...   \n",
       "8   8  Changi Airport T2 proceeds with plans to suspe...   \n",
       "\n",
       "                                                 URL  \\\n",
       "0  https://www.straitstimes.com//singapore/spore-...   \n",
       "1  https://www.straitstimes.com//singapore/migran...   \n",
       "2  https://www.straitstimes.com//singapore/health...   \n",
       "3  https://www.straitstimes.com//singapore/infect...   \n",
       "4  https://www.straitstimes.com//singapore/online...   \n",
       "5  https://www.straitstimes.com//singapore/health...   \n",
       "6  https://www.straitstimes.com//business/banking...   \n",
       "7  https://www.straitstimes.com//singapore/mcdona...   \n",
       "8  https://www.straitstimes.com//singapore/transp...   \n",
       "\n",
       "                                             Summary  \n",
       "0  [The coronavirus pandemic will leave its mark ...  \n",
       "1  [\"May Day is a day of celebration for all work...  \n",
       "2  [MOH also announced 12 new virus clusters, inc...  \n",
       "3  [For now, Singapore is still seeing \"very larg...  \n",
       "4  [SINGAPORE - A jazz concert that aired on Face...  \n",
       "5  [He added that tests that can detect neutralis...  \n",
       "6  [OCBC Bank said on Thursday that it had starte...  \n",
       "7  [SINGAPORE - Singaporeans looking forward to g...  \n",
       "8  [Changi Airport Group (CAG) said: \"The suspens...  "
      ]
     },
     "execution_count": 22,
     "metadata": {},
     "output_type": "execute_result"
    }
   ],
   "source": [
    "number_bb = t.count('(//div[contains(@data-vr-zone, \"Top Stories\")]//span[contains(@class, \"story-headline\")])')\n",
    "\n",
    "df_bb = pd.DataFrame(index=range(0,number_bb-2), columns = ['Sno', 'Title', 'URL', 'Summary'])\n",
    "\n",
    "\n",
    "for n in range(0, number_bb-2):\n",
    "    title=t.read('//div[contains(@data-vr-zone, \"Top Stories {}\")]//span[contains(@class, \"story-headline\")]'.format(n))\n",
    "    URL_b=t.read('//div[contains(@data-vr-zone, \"Top Stories {}\")]//span[contains(@class, \"story-headline\")]//@href'.format(n))\n",
    "    URL = \"https://www.straitstimes.com/\" + str(URL_b) \n",
    "    summaries = SummarizeUrl(URL)\n",
    "    \n",
    "    df_bb.iloc[n, 0] = n\n",
    "    df_bb.iloc[n, 1] = title\n",
    "    df_bb.iloc[n, 2] = URL\n",
    "    df_bb.iloc[n, 3] = summaries\n",
    "    \n"
   ]
  },
  {
   "cell_type": "code",
   "execution_count": 70,
   "metadata": {},
   "outputs": [],
   "source": [
    "def insertNews(conn,news):    \n",
    "    sql = ''' INSERT INTO news(site_id,create_date,title,url,summary)\n",
    "              VALUES(?,?,?,?,?) '''\n",
    "    cur = conn.cursor()\n",
    "    cur.execute(sql, news)\n",
    "    return cur.lastrowid"
   ]
  },
  {
   "cell_type": "code",
   "execution_count": 77,
   "metadata": {},
   "outputs": [
    {
     "name": "stdout",
     "output_type": "stream",
     "text": [
      "News 1 has been created\n",
      "News 2 has been created\n",
      "News 3 has been created\n",
      "News 4 has been created\n",
      "News 5 has been created\n",
      "News 6 has been created\n",
      "News 7 has been created\n",
      "News 8 has been created\n",
      "News 9 has been created\n"
     ]
    }
   ],
   "source": [
    "now = datetime.now()\n",
    "# dd/mm/YY\n",
    "dt_string = now.strftime(\"%d/%m/%Y\")\n",
    "\n",
    "for index, row in df_bb.iterrows():\n",
    "    title = row['Title']\n",
    "    url = row['URL']\n",
    "    summary = str(row['Summary'])\n",
    "    \n",
    "    news = (site_id,dt_string,title,url,summary)\n",
    "    news_id = insertNews(conn,news)\n",
    "    print(\"News %d has been created\" % news_id)\n",
    "    \n",
    "conn.commit()"
   ]
  },
  {
   "cell_type": "code",
   "execution_count": 78,
   "metadata": {},
   "outputs": [],
   "source": [
    "conn.close()"
   ]
  },
  {
   "cell_type": "code",
   "execution_count": null,
   "metadata": {},
   "outputs": [],
   "source": []
  }
 ],
 "metadata": {
  "kernelspec": {
   "display_name": "Python 2",
   "language": "python",
   "name": "python2"
  },
  "language_info": {
   "codemirror_mode": {
    "name": "ipython",
    "version": 2
   },
   "file_extension": ".py",
   "mimetype": "text/x-python",
   "name": "python",
   "nbconvert_exporter": "python",
   "pygments_lexer": "ipython2",
   "version": "2.7.17"
  }
 },
 "nbformat": 4,
 "nbformat_minor": 2
}
